{
 "cells": [
  {
   "cell_type": "markdown",
   "metadata": {
    "colab_type": "text",
    "id": "nTdUHlmOTzqS"
   },
   "source": [
    "# Steps Involved : Data Exploration, Model Fitting, Best Model Selection, Inference"
   ]
  },
  {
   "cell_type": "markdown",
   "metadata": {},
   "source": [
    "Created by Sujith Mangalathu and Jong-Su Jeon"
   ]
  },
  {
   "cell_type": "markdown",
   "metadata": {
    "colab_type": "text",
    "id": "shGUCaYcTzqX"
   },
   "source": [
    "# Data Exploration"
   ]
  },
  {
   "cell_type": "code",
   "execution_count": 1,
   "metadata": {
    "colab": {},
    "colab_type": "code",
    "id": "M3xisLC_Tzqc",
    "outputId": "e700195e-d19e-458d-f631-939b7cf24964"
   },
   "outputs": [
    {
     "data": {
      "text/html": [
       "<div>\n",
       "<style scoped>\n",
       "    .dataframe tbody tr th:only-of-type {\n",
       "        vertical-align: middle;\n",
       "    }\n",
       "\n",
       "    .dataframe tbody tr th {\n",
       "        vertical-align: top;\n",
       "    }\n",
       "\n",
       "    .dataframe thead th {\n",
       "        text-align: right;\n",
       "    }\n",
       "</style>\n",
       "<table border=\"1\" class=\"dataframe\">\n",
       "  <thead>\n",
       "    <tr style=\"text-align: right;\">\n",
       "      <th></th>\n",
       "      <th>Unnamed: 0</th>\n",
       "      <th>Author</th>\n",
       "      <th>Specimen</th>\n",
       "      <th>FailureMode</th>\n",
       "      <th>M/Vlw</th>\n",
       "      <th>lw/tw</th>\n",
       "      <th>ρvwFy,vw/fc</th>\n",
       "      <th>ρhwFy,vw/fc</th>\n",
       "      <th>ρvcFy,vc/fc</th>\n",
       "      <th>ρhcFy,hc/fc</th>\n",
       "      <th>P/fcAg</th>\n",
       "      <th>Section</th>\n",
       "      <th>Ab/Ag</th>\n",
       "    </tr>\n",
       "  </thead>\n",
       "  <tbody>\n",
       "    <tr>\n",
       "      <th>0</th>\n",
       "      <td>1</td>\n",
       "      <td>Lefas et al. (1990a)</td>\n",
       "      <td>SW11</td>\n",
       "      <td>1</td>\n",
       "      <td>1.1</td>\n",
       "      <td>10.714286</td>\n",
       "      <td>0.268879</td>\n",
       "      <td>0.136711</td>\n",
       "      <td>0.348231</td>\n",
       "      <td>0.149140</td>\n",
       "      <td>0.000000</td>\n",
       "      <td>R</td>\n",
       "      <td>0.0</td>\n",
       "    </tr>\n",
       "    <tr>\n",
       "      <th>1</th>\n",
       "      <td>2</td>\n",
       "      <td>Lefas et al. (1990a)</td>\n",
       "      <td>SW12</td>\n",
       "      <td>1</td>\n",
       "      <td>1.1</td>\n",
       "      <td>10.714286</td>\n",
       "      <td>0.262358</td>\n",
       "      <td>0.133396</td>\n",
       "      <td>0.339785</td>\n",
       "      <td>0.145522</td>\n",
       "      <td>0.102168</td>\n",
       "      <td>R</td>\n",
       "      <td>0.0</td>\n",
       "    </tr>\n",
       "    <tr>\n",
       "      <th>2</th>\n",
       "      <td>3</td>\n",
       "      <td>Lefas et al. (1990a)</td>\n",
       "      <td>SW13</td>\n",
       "      <td>1</td>\n",
       "      <td>1.1</td>\n",
       "      <td>10.714286</td>\n",
       "      <td>0.346364</td>\n",
       "      <td>0.176108</td>\n",
       "      <td>0.448584</td>\n",
       "      <td>0.192118</td>\n",
       "      <td>0.208187</td>\n",
       "      <td>R</td>\n",
       "      <td>0.0</td>\n",
       "    </tr>\n",
       "    <tr>\n",
       "      <th>3</th>\n",
       "      <td>4</td>\n",
       "      <td>Lefas et al. (1990a)</td>\n",
       "      <td>SW14</td>\n",
       "      <td>1</td>\n",
       "      <td>1.1</td>\n",
       "      <td>10.714286</td>\n",
       "      <td>0.334023</td>\n",
       "      <td>0.169834</td>\n",
       "      <td>0.432601</td>\n",
       "      <td>0.185273</td>\n",
       "      <td>0.000000</td>\n",
       "      <td>R</td>\n",
       "      <td>0.0</td>\n",
       "    </tr>\n",
       "    <tr>\n",
       "      <th>4</th>\n",
       "      <td>5</td>\n",
       "      <td>Lefas et al. (1990a)</td>\n",
       "      <td>SW15</td>\n",
       "      <td>1</td>\n",
       "      <td>1.1</td>\n",
       "      <td>10.714286</td>\n",
       "      <td>0.324766</td>\n",
       "      <td>0.165127</td>\n",
       "      <td>0.420612</td>\n",
       "      <td>0.180139</td>\n",
       "      <td>0.101727</td>\n",
       "      <td>R</td>\n",
       "      <td>0.0</td>\n",
       "    </tr>\n",
       "  </tbody>\n",
       "</table>\n",
       "</div>"
      ],
      "text/plain": [
       "   Unnamed: 0                Author Specimen  FailureMode  M/Vlw      lw/tw  \\\n",
       "0           1  Lefas et al. (1990a)     SW11            1    1.1  10.714286   \n",
       "1           2  Lefas et al. (1990a)     SW12            1    1.1  10.714286   \n",
       "2           3  Lefas et al. (1990a)     SW13            1    1.1  10.714286   \n",
       "3           4  Lefas et al. (1990a)     SW14            1    1.1  10.714286   \n",
       "4           5  Lefas et al. (1990a)     SW15            1    1.1  10.714286   \n",
       "\n",
       "   ρvwFy,vw/fc  ρhwFy,vw/fc  ρvcFy,vc/fc  ρhcFy,hc/fc    P/fcAg Section  Ab/Ag  \n",
       "0     0.268879     0.136711     0.348231     0.149140  0.000000       R    0.0  \n",
       "1     0.262358     0.133396     0.339785     0.145522  0.102168       R    0.0  \n",
       "2     0.346364     0.176108     0.448584     0.192118  0.208187       R    0.0  \n",
       "3     0.334023     0.169834     0.432601     0.185273  0.000000       R    0.0  \n",
       "4     0.324766     0.165127     0.420612     0.180139  0.101727       R    0.0  "
      ]
     },
     "execution_count": 1,
     "metadata": {},
     "output_type": "execute_result"
    }
   ],
   "source": [
    "%matplotlib inline\n",
    "import pandas as pd\n",
    "import matplotlib.pyplot as plt\n",
    "from sklearn import preprocessing\n",
    "from sklearn.linear_model import LogisticRegression\n",
    "from sklearn.model_selection import train_test_split\n",
    "import seaborn as sns\n",
    "sns.set(style=\"white\")\n",
    "sns.set(style=\"whitegrid\", color_codes=True)\n",
    "\n",
    "\n",
    "data1 = pd.read_excel('Shear_Wall_Database.xlsx', sheet_name='Database')\n",
    "data1.head()"
   ]
  },
  {
   "cell_type": "code",
   "execution_count": 2,
   "metadata": {
    "colab": {},
    "colab_type": "code",
    "id": "905_F1uHTzqt",
    "outputId": "68eea354-0c49-49dd-d2cc-dd4ebc40dce3"
   },
   "outputs": [
    {
     "data": {
      "text/html": [
       "<div>\n",
       "<style scoped>\n",
       "    .dataframe tbody tr th:only-of-type {\n",
       "        vertical-align: middle;\n",
       "    }\n",
       "\n",
       "    .dataframe tbody tr th {\n",
       "        vertical-align: top;\n",
       "    }\n",
       "\n",
       "    .dataframe thead th {\n",
       "        text-align: right;\n",
       "    }\n",
       "</style>\n",
       "<table border=\"1\" class=\"dataframe\">\n",
       "  <thead>\n",
       "    <tr style=\"text-align: right;\">\n",
       "      <th></th>\n",
       "      <th>FailureMode</th>\n",
       "      <th>M/Vlw</th>\n",
       "      <th>lw/tw</th>\n",
       "      <th>ρvwFy,vw/fc</th>\n",
       "      <th>ρhwFy,vw/fc</th>\n",
       "      <th>ρvcFy,vc/fc</th>\n",
       "      <th>ρhcFy,hc/fc</th>\n",
       "      <th>P/fcAg</th>\n",
       "      <th>Section</th>\n",
       "      <th>Ab/Ag</th>\n",
       "    </tr>\n",
       "  </thead>\n",
       "  <tbody>\n",
       "    <tr>\n",
       "      <th>0</th>\n",
       "      <td>1</td>\n",
       "      <td>1.1</td>\n",
       "      <td>10.714286</td>\n",
       "      <td>0.268879</td>\n",
       "      <td>0.136711</td>\n",
       "      <td>0.348231</td>\n",
       "      <td>0.149140</td>\n",
       "      <td>0.000000</td>\n",
       "      <td>R</td>\n",
       "      <td>0.0</td>\n",
       "    </tr>\n",
       "    <tr>\n",
       "      <th>1</th>\n",
       "      <td>1</td>\n",
       "      <td>1.1</td>\n",
       "      <td>10.714286</td>\n",
       "      <td>0.262358</td>\n",
       "      <td>0.133396</td>\n",
       "      <td>0.339785</td>\n",
       "      <td>0.145522</td>\n",
       "      <td>0.102168</td>\n",
       "      <td>R</td>\n",
       "      <td>0.0</td>\n",
       "    </tr>\n",
       "    <tr>\n",
       "      <th>2</th>\n",
       "      <td>1</td>\n",
       "      <td>1.1</td>\n",
       "      <td>10.714286</td>\n",
       "      <td>0.346364</td>\n",
       "      <td>0.176108</td>\n",
       "      <td>0.448584</td>\n",
       "      <td>0.192118</td>\n",
       "      <td>0.208187</td>\n",
       "      <td>R</td>\n",
       "      <td>0.0</td>\n",
       "    </tr>\n",
       "    <tr>\n",
       "      <th>3</th>\n",
       "      <td>1</td>\n",
       "      <td>1.1</td>\n",
       "      <td>10.714286</td>\n",
       "      <td>0.334023</td>\n",
       "      <td>0.169834</td>\n",
       "      <td>0.432601</td>\n",
       "      <td>0.185273</td>\n",
       "      <td>0.000000</td>\n",
       "      <td>R</td>\n",
       "      <td>0.0</td>\n",
       "    </tr>\n",
       "    <tr>\n",
       "      <th>4</th>\n",
       "      <td>1</td>\n",
       "      <td>1.1</td>\n",
       "      <td>10.714286</td>\n",
       "      <td>0.324766</td>\n",
       "      <td>0.165127</td>\n",
       "      <td>0.420612</td>\n",
       "      <td>0.180139</td>\n",
       "      <td>0.101727</td>\n",
       "      <td>R</td>\n",
       "      <td>0.0</td>\n",
       "    </tr>\n",
       "  </tbody>\n",
       "</table>\n",
       "</div>"
      ],
      "text/plain": [
       "   FailureMode  M/Vlw      lw/tw  ρvwFy,vw/fc  ρhwFy,vw/fc  ρvcFy,vc/fc  \\\n",
       "0            1    1.1  10.714286     0.268879     0.136711     0.348231   \n",
       "1            1    1.1  10.714286     0.262358     0.133396     0.339785   \n",
       "2            1    1.1  10.714286     0.346364     0.176108     0.448584   \n",
       "3            1    1.1  10.714286     0.334023     0.169834     0.432601   \n",
       "4            1    1.1  10.714286     0.324766     0.165127     0.420612   \n",
       "\n",
       "   ρhcFy,hc/fc    P/fcAg Section  Ab/Ag  \n",
       "0     0.149140  0.000000       R    0.0  \n",
       "1     0.145522  0.102168       R    0.0  \n",
       "2     0.192118  0.208187       R    0.0  \n",
       "3     0.185273  0.000000       R    0.0  \n",
       "4     0.180139  0.101727       R    0.0  "
      ]
     },
     "execution_count": 2,
     "metadata": {},
     "output_type": "execute_result"
    }
   ],
   "source": [
    "data=data1.loc[:, 'FailureMode':'Ab/Ag']\n",
    "data.head()"
   ]
  },
  {
   "cell_type": "code",
   "execution_count": 3,
   "metadata": {
    "colab": {},
    "colab_type": "code",
    "id": "XmPTcUZyTzq3",
    "outputId": "fb918a60-1c14-423c-f8dd-36f453d1e543"
   },
   "outputs": [
    {
     "name": "stdout",
     "output_type": "stream",
     "text": [
      "(393, 10)\n"
     ]
    }
   ],
   "source": [
    "print(data.shape)"
   ]
  },
  {
   "cell_type": "markdown",
   "metadata": {
    "colab_type": "text",
    "id": "nhsGgZFLTzrA"
   },
   "source": [
    "# Checking the data types, If string exists it should be converted into numerical values"
   ]
  },
  {
   "cell_type": "code",
   "execution_count": 4,
   "metadata": {
    "colab": {},
    "colab_type": "code",
    "id": "z6i272sCTzrC",
    "outputId": "e7872b04-4292-49d4-8818-af9cfa0416bb"
   },
   "outputs": [
    {
     "name": "stdout",
     "output_type": "stream",
     "text": [
      "<class 'pandas.core.frame.DataFrame'>\n",
      "RangeIndex: 393 entries, 0 to 392\n",
      "Data columns (total 10 columns):\n",
      "FailureMode    393 non-null int64\n",
      "M/Vlw          393 non-null float64\n",
      "lw/tw          393 non-null float64\n",
      "ρvwFy,vw/fc    393 non-null float64\n",
      "ρhwFy,vw/fc    393 non-null float64\n",
      "ρvcFy,vc/fc    393 non-null float64\n",
      "ρhcFy,hc/fc    393 non-null float64\n",
      "P/fcAg         393 non-null float64\n",
      "Section        393 non-null object\n",
      "Ab/Ag          393 non-null float64\n",
      "dtypes: float64(8), int64(1), object(1)\n",
      "memory usage: 30.8+ KB\n",
      "None\n"
     ]
    }
   ],
   "source": [
    "print(data.info())"
   ]
  },
  {
   "cell_type": "markdown",
   "metadata": {
    "colab_type": "text",
    "id": "IkTBM4NaTzrJ"
   },
   "source": [
    "Section contains string values"
   ]
  },
  {
   "cell_type": "code",
   "execution_count": 5,
   "metadata": {
    "colab": {},
    "colab_type": "code",
    "id": "YbXN3todTzrL",
    "outputId": "4f70aee3-d0f7-49c5-fce2-aba1f4ce54c8"
   },
   "outputs": [
    {
     "name": "stdout",
     "output_type": "stream",
     "text": [
      "['R' 'B' 'F']\n"
     ]
    }
   ],
   "source": [
    "print(data['Section'].unique())\n"
   ]
  },
  {
   "cell_type": "code",
   "execution_count": 6,
   "metadata": {
    "colab": {},
    "colab_type": "code",
    "id": "z2EW4ytBTzrS",
    "outputId": "23acbf2e-f372-4c8b-b600-87b50d1e798c"
   },
   "outputs": [
    {
     "name": "stdout",
     "output_type": "stream",
     "text": [
      "Section\n",
      "B     95\n",
      "F     60\n",
      "R    238\n",
      "dtype: int64\n"
     ]
    }
   ],
   "source": [
    "print(data.groupby('Section').size())"
   ]
  },
  {
   "cell_type": "markdown",
   "metadata": {
    "colab_type": "text",
    "id": "YeJE-rDYTzrc"
   },
   "source": [
    "Rectnagular section is more than Barbel and flanged section"
   ]
  },
  {
   "cell_type": "code",
   "execution_count": 8,
   "metadata": {
    "colab": {},
    "colab_type": "code",
    "id": "YBBgvm6dTzrf",
    "outputId": "93313868-6a34-49b7-c651-bbcd2dc8f072"
   },
   "outputs": [
    {
     "data": {
      "text/html": [
       "<div>\n",
       "<style scoped>\n",
       "    .dataframe tbody tr th:only-of-type {\n",
       "        vertical-align: middle;\n",
       "    }\n",
       "\n",
       "    .dataframe tbody tr th {\n",
       "        vertical-align: top;\n",
       "    }\n",
       "\n",
       "    .dataframe thead th {\n",
       "        text-align: right;\n",
       "    }\n",
       "</style>\n",
       "<table border=\"1\" class=\"dataframe\">\n",
       "  <thead>\n",
       "    <tr style=\"text-align: right;\">\n",
       "      <th></th>\n",
       "      <th>FailureMode</th>\n",
       "      <th>M/Vlw</th>\n",
       "      <th>lw/tw</th>\n",
       "      <th>ρvwFy,vw/fc</th>\n",
       "      <th>ρhwFy,vw/fc</th>\n",
       "      <th>ρvcFy,vc/fc</th>\n",
       "      <th>ρhcFy,hc/fc</th>\n",
       "      <th>P/fcAg</th>\n",
       "      <th>Section</th>\n",
       "      <th>Ab/Ag</th>\n",
       "    </tr>\n",
       "  </thead>\n",
       "  <tbody>\n",
       "    <tr>\n",
       "      <th>0</th>\n",
       "      <td>1</td>\n",
       "      <td>1.100000</td>\n",
       "      <td>10.714286</td>\n",
       "      <td>0.268879</td>\n",
       "      <td>0.136711</td>\n",
       "      <td>0.348231</td>\n",
       "      <td>0.149140</td>\n",
       "      <td>0.000000</td>\n",
       "      <td>2</td>\n",
       "      <td>0.0</td>\n",
       "    </tr>\n",
       "    <tr>\n",
       "      <th>1</th>\n",
       "      <td>1</td>\n",
       "      <td>1.100000</td>\n",
       "      <td>10.714286</td>\n",
       "      <td>0.262358</td>\n",
       "      <td>0.133396</td>\n",
       "      <td>0.339785</td>\n",
       "      <td>0.145522</td>\n",
       "      <td>0.102168</td>\n",
       "      <td>2</td>\n",
       "      <td>0.0</td>\n",
       "    </tr>\n",
       "    <tr>\n",
       "      <th>2</th>\n",
       "      <td>1</td>\n",
       "      <td>1.100000</td>\n",
       "      <td>10.714286</td>\n",
       "      <td>0.346364</td>\n",
       "      <td>0.176108</td>\n",
       "      <td>0.448584</td>\n",
       "      <td>0.192118</td>\n",
       "      <td>0.208187</td>\n",
       "      <td>2</td>\n",
       "      <td>0.0</td>\n",
       "    </tr>\n",
       "    <tr>\n",
       "      <th>3</th>\n",
       "      <td>1</td>\n",
       "      <td>1.100000</td>\n",
       "      <td>10.714286</td>\n",
       "      <td>0.334023</td>\n",
       "      <td>0.169834</td>\n",
       "      <td>0.432601</td>\n",
       "      <td>0.185273</td>\n",
       "      <td>0.000000</td>\n",
       "      <td>2</td>\n",
       "      <td>0.0</td>\n",
       "    </tr>\n",
       "    <tr>\n",
       "      <th>4</th>\n",
       "      <td>1</td>\n",
       "      <td>1.100000</td>\n",
       "      <td>10.714286</td>\n",
       "      <td>0.324766</td>\n",
       "      <td>0.165127</td>\n",
       "      <td>0.420612</td>\n",
       "      <td>0.180139</td>\n",
       "      <td>0.101727</td>\n",
       "      <td>2</td>\n",
       "      <td>0.0</td>\n",
       "    </tr>\n",
       "    <tr>\n",
       "      <th>5</th>\n",
       "      <td>1</td>\n",
       "      <td>1.100000</td>\n",
       "      <td>10.714286</td>\n",
       "      <td>0.271999</td>\n",
       "      <td>0.138298</td>\n",
       "      <td>0.352273</td>\n",
       "      <td>0.150870</td>\n",
       "      <td>0.211845</td>\n",
       "      <td>2</td>\n",
       "      <td>0.0</td>\n",
       "    </tr>\n",
       "    <tr>\n",
       "      <th>6</th>\n",
       "      <td>1</td>\n",
       "      <td>1.100000</td>\n",
       "      <td>10.714286</td>\n",
       "      <td>0.291146</td>\n",
       "      <td>0.049793</td>\n",
       "      <td>0.401398</td>\n",
       "      <td>0.161491</td>\n",
       "      <td>0.000000</td>\n",
       "      <td>2</td>\n",
       "      <td>0.0</td>\n",
       "    </tr>\n",
       "    <tr>\n",
       "      <th>7</th>\n",
       "      <td>1</td>\n",
       "      <td>2.115385</td>\n",
       "      <td>10.000000</td>\n",
       "      <td>0.342420</td>\n",
       "      <td>0.121495</td>\n",
       "      <td>0.452979</td>\n",
       "      <td>0.136682</td>\n",
       "      <td>0.000000</td>\n",
       "      <td>2</td>\n",
       "      <td>0.0</td>\n",
       "    </tr>\n",
       "    <tr>\n",
       "      <th>8</th>\n",
       "      <td>1</td>\n",
       "      <td>2.115385</td>\n",
       "      <td>10.000000</td>\n",
       "      <td>0.290267</td>\n",
       "      <td>0.102767</td>\n",
       "      <td>0.383152</td>\n",
       "      <td>0.115613</td>\n",
       "      <td>0.106415</td>\n",
       "      <td>2</td>\n",
       "      <td>0.0</td>\n",
       "    </tr>\n",
       "    <tr>\n",
       "      <th>9</th>\n",
       "      <td>1</td>\n",
       "      <td>2.115385</td>\n",
       "      <td>10.000000</td>\n",
       "      <td>0.307270</td>\n",
       "      <td>0.108787</td>\n",
       "      <td>0.405596</td>\n",
       "      <td>0.122385</td>\n",
       "      <td>0.212300</td>\n",
       "      <td>2</td>\n",
       "      <td>0.0</td>\n",
       "    </tr>\n",
       "  </tbody>\n",
       "</table>\n",
       "</div>"
      ],
      "text/plain": [
       "   FailureMode     M/Vlw      lw/tw  ρvwFy,vw/fc  ρhwFy,vw/fc  ρvcFy,vc/fc  \\\n",
       "0            1  1.100000  10.714286     0.268879     0.136711     0.348231   \n",
       "1            1  1.100000  10.714286     0.262358     0.133396     0.339785   \n",
       "2            1  1.100000  10.714286     0.346364     0.176108     0.448584   \n",
       "3            1  1.100000  10.714286     0.334023     0.169834     0.432601   \n",
       "4            1  1.100000  10.714286     0.324766     0.165127     0.420612   \n",
       "5            1  1.100000  10.714286     0.271999     0.138298     0.352273   \n",
       "6            1  1.100000  10.714286     0.291146     0.049793     0.401398   \n",
       "7            1  2.115385  10.000000     0.342420     0.121495     0.452979   \n",
       "8            1  2.115385  10.000000     0.290267     0.102767     0.383152   \n",
       "9            1  2.115385  10.000000     0.307270     0.108787     0.405596   \n",
       "\n",
       "   ρhcFy,hc/fc    P/fcAg  Section  Ab/Ag  \n",
       "0     0.149140  0.000000        2    0.0  \n",
       "1     0.145522  0.102168        2    0.0  \n",
       "2     0.192118  0.208187        2    0.0  \n",
       "3     0.185273  0.000000        2    0.0  \n",
       "4     0.180139  0.101727        2    0.0  \n",
       "5     0.150870  0.211845        2    0.0  \n",
       "6     0.161491  0.000000        2    0.0  \n",
       "7     0.136682  0.000000        2    0.0  \n",
       "8     0.115613  0.106415        2    0.0  \n",
       "9     0.122385  0.212300        2    0.0  "
      ]
     },
     "execution_count": 8,
     "metadata": {},
     "output_type": "execute_result"
    }
   ],
   "source": [
    "data_mod_lc = data.copy()\n",
    "data_mod_lc['Section'] = data_mod_lc['Section'].astype('category')\n",
    "#print(cat_bird_lc.dtypes)\n",
    "data_mod_lc['Section'] = data_mod_lc['Section'].cat.codes\n",
    "data_mod_lc.head(10)"
   ]
  },
  {
   "cell_type": "code",
   "execution_count": 10,
   "metadata": {
    "colab": {},
    "colab_type": "code",
    "id": "MgP5ZjtZTzrm",
    "outputId": "c6037a54-d449-4eb3-e4ae-cc7db17b5617"
   },
   "outputs": [
    {
     "data": {
      "text/html": [
       "<div>\n",
       "<style scoped>\n",
       "    .dataframe tbody tr th:only-of-type {\n",
       "        vertical-align: middle;\n",
       "    }\n",
       "\n",
       "    .dataframe tbody tr th {\n",
       "        vertical-align: top;\n",
       "    }\n",
       "\n",
       "    .dataframe thead th {\n",
       "        text-align: right;\n",
       "    }\n",
       "</style>\n",
       "<table border=\"1\" class=\"dataframe\">\n",
       "  <thead>\n",
       "    <tr style=\"text-align: right;\">\n",
       "      <th></th>\n",
       "      <th>FailureMode</th>\n",
       "      <th>M/Vlw</th>\n",
       "      <th>lw/tw</th>\n",
       "      <th>ρvwFy,vw/fc</th>\n",
       "      <th>ρhwFy,vw/fc</th>\n",
       "      <th>ρvcFy,vc/fc</th>\n",
       "      <th>ρhcFy,hc/fc</th>\n",
       "      <th>P/fcAg</th>\n",
       "      <th>Section</th>\n",
       "      <th>Ab/Ag</th>\n",
       "    </tr>\n",
       "  </thead>\n",
       "  <tbody>\n",
       "    <tr>\n",
       "      <th>0</th>\n",
       "      <td>1</td>\n",
       "      <td>1.1</td>\n",
       "      <td>10.714286</td>\n",
       "      <td>0.268879</td>\n",
       "      <td>0.136711</td>\n",
       "      <td>0.348231</td>\n",
       "      <td>0.149140</td>\n",
       "      <td>0.000000</td>\n",
       "      <td>2</td>\n",
       "      <td>0.0</td>\n",
       "    </tr>\n",
       "    <tr>\n",
       "      <th>1</th>\n",
       "      <td>1</td>\n",
       "      <td>1.1</td>\n",
       "      <td>10.714286</td>\n",
       "      <td>0.262358</td>\n",
       "      <td>0.133396</td>\n",
       "      <td>0.339785</td>\n",
       "      <td>0.145522</td>\n",
       "      <td>0.102168</td>\n",
       "      <td>2</td>\n",
       "      <td>0.0</td>\n",
       "    </tr>\n",
       "    <tr>\n",
       "      <th>2</th>\n",
       "      <td>1</td>\n",
       "      <td>1.1</td>\n",
       "      <td>10.714286</td>\n",
       "      <td>0.346364</td>\n",
       "      <td>0.176108</td>\n",
       "      <td>0.448584</td>\n",
       "      <td>0.192118</td>\n",
       "      <td>0.208187</td>\n",
       "      <td>2</td>\n",
       "      <td>0.0</td>\n",
       "    </tr>\n",
       "    <tr>\n",
       "      <th>3</th>\n",
       "      <td>1</td>\n",
       "      <td>1.1</td>\n",
       "      <td>10.714286</td>\n",
       "      <td>0.334023</td>\n",
       "      <td>0.169834</td>\n",
       "      <td>0.432601</td>\n",
       "      <td>0.185273</td>\n",
       "      <td>0.000000</td>\n",
       "      <td>2</td>\n",
       "      <td>0.0</td>\n",
       "    </tr>\n",
       "    <tr>\n",
       "      <th>4</th>\n",
       "      <td>1</td>\n",
       "      <td>1.1</td>\n",
       "      <td>10.714286</td>\n",
       "      <td>0.324766</td>\n",
       "      <td>0.165127</td>\n",
       "      <td>0.420612</td>\n",
       "      <td>0.180139</td>\n",
       "      <td>0.101727</td>\n",
       "      <td>2</td>\n",
       "      <td>0.0</td>\n",
       "    </tr>\n",
       "  </tbody>\n",
       "</table>\n",
       "</div>"
      ],
      "text/plain": [
       "   FailureMode  M/Vlw      lw/tw  ρvwFy,vw/fc  ρhwFy,vw/fc  ρvcFy,vc/fc  \\\n",
       "0            1    1.1  10.714286     0.268879     0.136711     0.348231   \n",
       "1            1    1.1  10.714286     0.262358     0.133396     0.339785   \n",
       "2            1    1.1  10.714286     0.346364     0.176108     0.448584   \n",
       "3            1    1.1  10.714286     0.334023     0.169834     0.432601   \n",
       "4            1    1.1  10.714286     0.324766     0.165127     0.420612   \n",
       "\n",
       "   ρhcFy,hc/fc    P/fcAg  Section  Ab/Ag  \n",
       "0     0.149140  0.000000        2    0.0  \n",
       "1     0.145522  0.102168        2    0.0  \n",
       "2     0.192118  0.208187        2    0.0  \n",
       "3     0.185273  0.000000        2    0.0  \n",
       "4     0.180139  0.101727        2    0.0  "
      ]
     },
     "execution_count": 10,
     "metadata": {},
     "output_type": "execute_result"
    }
   ],
   "source": [
    "data['Section'] = data_mod_lc['Section']\n",
    "data.head()"
   ]
  },
  {
   "cell_type": "code",
   "execution_count": 11,
   "metadata": {},
   "outputs": [
    {
     "name": "stdout",
     "output_type": "stream",
     "text": [
      "{0: 0, 1: 1, 2: 2}\n"
     ]
    }
   ],
   "source": [
    "c = data_mod_lc.Section.astype('category')\n",
    "d = dict(enumerate(c.cat.categories))\n",
    "print (d)"
   ]
  },
  {
   "cell_type": "code",
   "execution_count": 12,
   "metadata": {
    "colab": {},
    "colab_type": "code",
    "id": "DEXixTQpTzru",
    "outputId": "c86194d7-44d4-4a6b-f737-97da38d54664"
   },
   "outputs": [
    {
     "data": {
      "text/plain": [
       "FailureMode    0\n",
       "M/Vlw          0\n",
       "lw/tw          0\n",
       "ρvwFy,vw/fc    0\n",
       "ρhwFy,vw/fc    0\n",
       "ρvcFy,vc/fc    0\n",
       "ρhcFy,hc/fc    0\n",
       "P/fcAg         0\n",
       "Section        0\n",
       "Ab/Ag          0\n",
       "dtype: int64"
      ]
     },
     "execution_count": 12,
     "metadata": {},
     "output_type": "execute_result"
    }
   ],
   "source": [
    "#checking missing values by column\n",
    "data.isnull().sum()"
   ]
  },
  {
   "cell_type": "code",
   "execution_count": 14,
   "metadata": {
    "colab": {},
    "colab_type": "code",
    "id": "nfB8qzl5TzsG",
    "outputId": "2f2ed201-82a8-479b-af35-9f617760980c"
   },
   "outputs": [
    {
     "data": {
      "image/png": "[encoded data removed]",
      "text/plain": [
       "<Figure size 864x720 with 2 Axes>"
      ]
     },
     "metadata": {
      "needs_background": "light"
     },
     "output_type": "display_data"
    }
   ],
   "source": [
    "corr = data.drop('FailureMode', axis=1).corr() # examining correlations\n",
    "plt.figure(figsize=(12, 10))\n",
    "\n",
    "sns.heatmap(corr[(corr >= 0.0) | (corr <= -0.0)], \n",
    "            cmap='viridis', vmax=1.0, vmin=-1.0, linewidths=0.1,\n",
    "            annot=True, annot_kws={\"size\": 8}, square=True);"
   ]
  },
  {
   "cell_type": "code",
   "execution_count": 15,
   "metadata": {
    "colab": {},
    "colab_type": "code",
    "id": "7RW9Qk84TzsM",
    "outputId": "cd970685-fb65-43d1-9d52-157af665822f"
   },
   "outputs": [
    {
     "data": {
      "image/png": "[encoded data removed]",
      "text/plain": [
       "<Figure size 864x720 with 2 Axes>"
      ]
     },
     "metadata": {
      "needs_background": "light"
     },
     "output_type": "display_data"
    }
   ],
   "source": [
    "# Plotting correlation above or below 0.5\n",
    "corr = data.drop('FailureMode', axis=1).corr() \n",
    "plt.figure(figsize=(12, 10))\n",
    "\n",
    "sns.heatmap(corr[(corr >= 0.5) | (corr <= -0.5)], \n",
    "            cmap='viridis', vmax=1.0, vmin=-1.0, linewidths=0.1,\n",
    "            annot=True, annot_kws={\"size\": 8}, square=True);"
   ]
  },
  {
   "cell_type": "code",
   "execution_count": 16,
   "metadata": {
    "colab": {},
    "colab_type": "code",
    "id": "ka-rpbZNTzsc",
    "outputId": "f02f7827-b505-42d9-d800-e6632db50281"
   },
   "outputs": [
    {
     "name": "stdout",
     "output_type": "stream",
     "text": [
      "['FailureMode', 'M/Vlw', 'lw/tw', 'ρvwFy,vw/fc', 'ρhwFy,vw/fc', 'ρvcFy,vc/fc', 'ρhcFy,hc/fc', 'P/fcAg', 'Section', 'Ab/Ag']\n"
     ]
    }
   ],
   "source": [
    "features = list(data.columns.values)\n",
    "print(features)"
   ]
  },
  {
   "cell_type": "code",
   "execution_count": 18,
   "metadata": {
    "colab": {},
    "colab_type": "code",
    "id": "cOe0WTrtTzsW",
    "outputId": "c9cc41d7-28b0-4826-f8ea-732416d958c1"
   },
   "outputs": [
    {
     "name": "stderr",
     "output_type": "stream",
     "text": [
      "C:\\Users\\sujit\\AppData\\Local\\Continuum\\anaconda3\\lib\\site-packages\\statsmodels\\nonparametric\\kde.py:487: RuntimeWarning: invalid value encountered in true_divide\n",
      "  binned = fast_linbin(X, a, b, gridsize) / (delta * nobs)\n",
      "C:\\Users\\sujit\\AppData\\Local\\Continuum\\anaconda3\\lib\\site-packages\\statsmodels\\nonparametric\\kdetools.py:34: RuntimeWarning: invalid value encountered in double_scalars\n",
      "  FAC1 = 2*(np.pi*bw/RANGE)**2\n"
     ]
    },
    {
     "data": {
      "text/plain": [
       "<seaborn.axisgrid.PairGrid at 0x26bce1e4ac8>"
      ]
     },
     "execution_count": 18,
     "metadata": {},
     "output_type": "execute_result"
    },
    {
     "data": {
      "image/png": "[encoded data removed]",
      "text/plain": [
       "<Figure size 965.425x900 with 30 Axes>"
      ]
     },
     "metadata": {
      "needs_background": "light"
     },
     "output_type": "display_data"
    }
   ],
   "source": [
    "import seaborn as sns\n",
    "\n",
    "quantitative_features_list1 = ['FailureMode', 'M/Vlw', 'lw/tw', 'ρvwFy,vw/fc', 'ρhwFy,vw/fc']\n",
    "\n",
    "data_plot_data=data_mod_num = data[quantitative_features_list1]\n",
    "sns.pairplot(data_plot_data, hue=\"FailureMode\", palette=\"husl\")"
   ]
  },
  {
   "cell_type": "code",
   "execution_count": 20,
   "metadata": {
    "colab": {},
    "colab_type": "code",
    "id": "XXpIweTmTzsi",
    "outputId": "17a1d8ed-a7cd-4510-daa8-7bfdf854e9fe"
   },
   "outputs": [
    {
     "data": {
      "text/plain": [
       "<seaborn.axisgrid.PairGrid at 0x26bd194eb00>"
      ]
     },
     "execution_count": 20,
     "metadata": {},
     "output_type": "execute_result"
    },
    {
     "data": {
      "image/png": "[encoded data removed]",
      "text/plain": [
       "<Figure size 1145.42x1080 with 42 Axes>"
      ]
     },
     "metadata": {
      "needs_background": "light"
     },
     "output_type": "display_data"
    }
   ],
   "source": [
    "import seaborn as sns\n",
    "\n",
    "quantitative_features_list1 = ['FailureMode', 'ρvcFy,vc/fc', 'ρhcFy,hc/fc', 'P/fcAg', 'Section', 'Ab/Ag']\n",
    "\n",
    "data_plot_data=data_mod_num = data[quantitative_features_list1]\n",
    "sns.pairplot(data_plot_data, hue=\"FailureMode\", palette=\"husl\")"
   ]
  },
  {
   "cell_type": "code",
   "execution_count": 22,
   "metadata": {
    "colab": {},
    "colab_type": "code",
    "id": "4mt5RhS3Tzsy",
    "outputId": "02edebbb-d1c7-40b9-d406-63bc23a633a1"
   },
   "outputs": [
    {
     "data": {
      "text/plain": [
       "Text(0, 0.5, 'Failure Mode')"
      ]
     },
     "execution_count": 22,
     "metadata": {},
     "output_type": "execute_result"
    },
    {
     "data": {
      "image/png": "[encoded data removed]",
      "text/plain": [
       "<Figure size 432x288 with 1 Axes>"
      ]
     },
     "metadata": {
      "needs_background": "light"
     },
     "output_type": "display_data"
    }
   ],
   "source": [
    "table=pd.crosstab(data.Section,data.FailureMode)\n",
    "table.div(table.sum(1).astype(float), axis=0).plot(kind='bar', stacked=True)\n",
    "plt.title('Stacked Bar Section vs Failure')\n",
    "plt.xlabel('Section')\n",
    "plt.ylabel('Failure Mode')"
   ]
  },
  {
   "cell_type": "markdown",
   "metadata": {
    "colab_type": "text",
    "id": "U-aUZRCfTzs4"
   },
   "source": [
    "Section type seems to have an influence on the failure mode. However further analysis is needed to check whether its statistically significant"
   ]
  },
  {
   "cell_type": "code",
   "execution_count": 23,
   "metadata": {
    "colab": {},
    "colab_type": "code",
    "id": "Hi53ZsTzTzs5",
    "outputId": "89b17a7e-dcc2-40d5-9052-f8aa6410d35f"
   },
   "outputs": [
    {
     "data": {
      "image/png": "[encoded data removed]",
      "text/plain": [
       "<Figure size 432x288 with 1 Axes>"
      ]
     },
     "metadata": {},
     "output_type": "display_data"
    }
   ],
   "source": [
    "#Lets check wheter data is imbalanced\n",
    "\n",
    "import seaborn as sns\n",
    "sns.set(style=\"white\")\n",
    "sns.set(style=\"whitegrid\", color_codes=True)\n",
    "sns.countplot(x='FailureMode',data=data, palette='hls')\n",
    "plt.show()"
   ]
  },
  {
   "cell_type": "markdown",
   "metadata": {
    "colab_type": "text",
    "id": "8FESSWWzTzs9"
   },
   "source": [
    "Data set is imbalanced with respect to the Failure Mode"
   ]
  },
  {
   "cell_type": "code",
   "execution_count": 24,
   "metadata": {
    "colab": {},
    "colab_type": "code",
    "id": "q8y6e4m8Tzs_",
    "outputId": "ba13fbea-06e5-459f-cec4-fc1a04ebc4bf"
   },
   "outputs": [
    {
     "data": {
      "text/html": [
       "<div>\n",
       "<style scoped>\n",
       "    .dataframe tbody tr th:only-of-type {\n",
       "        vertical-align: middle;\n",
       "    }\n",
       "\n",
       "    .dataframe tbody tr th {\n",
       "        vertical-align: top;\n",
       "    }\n",
       "\n",
       "    .dataframe thead th {\n",
       "        text-align: right;\n",
       "    }\n",
       "</style>\n",
       "<table border=\"1\" class=\"dataframe\">\n",
       "  <thead>\n",
       "    <tr style=\"text-align: right;\">\n",
       "      <th></th>\n",
       "      <th>FailureMode</th>\n",
       "      <th>M/Vlw</th>\n",
       "      <th>lw/tw</th>\n",
       "      <th>ρvwFy,vw/fc</th>\n",
       "      <th>ρhwFy,vw/fc</th>\n",
       "      <th>ρvcFy,vc/fc</th>\n",
       "      <th>ρhcFy,hc/fc</th>\n",
       "      <th>P/fcAg</th>\n",
       "      <th>Ab/Ag</th>\n",
       "      <th>Section_0</th>\n",
       "      <th>Section_1</th>\n",
       "      <th>Section_2</th>\n",
       "    </tr>\n",
       "  </thead>\n",
       "  <tbody>\n",
       "    <tr>\n",
       "      <th>0</th>\n",
       "      <td>1</td>\n",
       "      <td>1.1</td>\n",
       "      <td>10.714286</td>\n",
       "      <td>0.268879</td>\n",
       "      <td>0.136711</td>\n",
       "      <td>0.348231</td>\n",
       "      <td>0.149140</td>\n",
       "      <td>0.000000</td>\n",
       "      <td>0.0</td>\n",
       "      <td>0</td>\n",
       "      <td>0</td>\n",
       "      <td>1</td>\n",
       "    </tr>\n",
       "    <tr>\n",
       "      <th>1</th>\n",
       "      <td>1</td>\n",
       "      <td>1.1</td>\n",
       "      <td>10.714286</td>\n",
       "      <td>0.262358</td>\n",
       "      <td>0.133396</td>\n",
       "      <td>0.339785</td>\n",
       "      <td>0.145522</td>\n",
       "      <td>0.102168</td>\n",
       "      <td>0.0</td>\n",
       "      <td>0</td>\n",
       "      <td>0</td>\n",
       "      <td>1</td>\n",
       "    </tr>\n",
       "    <tr>\n",
       "      <th>2</th>\n",
       "      <td>1</td>\n",
       "      <td>1.1</td>\n",
       "      <td>10.714286</td>\n",
       "      <td>0.346364</td>\n",
       "      <td>0.176108</td>\n",
       "      <td>0.448584</td>\n",
       "      <td>0.192118</td>\n",
       "      <td>0.208187</td>\n",
       "      <td>0.0</td>\n",
       "      <td>0</td>\n",
       "      <td>0</td>\n",
       "      <td>1</td>\n",
       "    </tr>\n",
       "    <tr>\n",
       "      <th>3</th>\n",
       "      <td>1</td>\n",
       "      <td>1.1</td>\n",
       "      <td>10.714286</td>\n",
       "      <td>0.334023</td>\n",
       "      <td>0.169834</td>\n",
       "      <td>0.432601</td>\n",
       "      <td>0.185273</td>\n",
       "      <td>0.000000</td>\n",
       "      <td>0.0</td>\n",
       "      <td>0</td>\n",
       "      <td>0</td>\n",
       "      <td>1</td>\n",
       "    </tr>\n",
       "    <tr>\n",
       "      <th>4</th>\n",
       "      <td>1</td>\n",
       "      <td>1.1</td>\n",
       "      <td>10.714286</td>\n",
       "      <td>0.324766</td>\n",
       "      <td>0.165127</td>\n",
       "      <td>0.420612</td>\n",
       "      <td>0.180139</td>\n",
       "      <td>0.101727</td>\n",
       "      <td>0.0</td>\n",
       "      <td>0</td>\n",
       "      <td>0</td>\n",
       "      <td>1</td>\n",
       "    </tr>\n",
       "  </tbody>\n",
       "</table>\n",
       "</div>"
      ],
      "text/plain": [
       "   FailureMode  M/Vlw      lw/tw  ρvwFy,vw/fc  ρhwFy,vw/fc  ρvcFy,vc/fc  \\\n",
       "0            1    1.1  10.714286     0.268879     0.136711     0.348231   \n",
       "1            1    1.1  10.714286     0.262358     0.133396     0.339785   \n",
       "2            1    1.1  10.714286     0.346364     0.176108     0.448584   \n",
       "3            1    1.1  10.714286     0.334023     0.169834     0.432601   \n",
       "4            1    1.1  10.714286     0.324766     0.165127     0.420612   \n",
       "\n",
       "   ρhcFy,hc/fc    P/fcAg  Ab/Ag  Section_0  Section_1  Section_2  \n",
       "0     0.149140  0.000000    0.0          0          0          1  \n",
       "1     0.145522  0.102168    0.0          0          0          1  \n",
       "2     0.192118  0.208187    0.0          0          0          1  \n",
       "3     0.185273  0.000000    0.0          0          0          1  \n",
       "4     0.180139  0.101727    0.0          0          0          1  "
      ]
     },
     "execution_count": 24,
     "metadata": {},
     "output_type": "execute_result"
    }
   ],
   "source": [
    "#One Hot Encoding for the categorical values\n",
    "data = pd.get_dummies(data = data , columns=['Section'] )\n",
    "data.head()"
   ]
  },
  {
   "cell_type": "code",
   "execution_count": 26,
   "metadata": {
    "colab": {},
    "colab_type": "code",
    "id": "KbX47FMPTztE",
    "outputId": "d3df6be1-0fb4-4dbe-8012-30a17fd8de20"
   },
   "outputs": [
    {
     "data": {
      "text/html": [
       "<div>\n",
       "<style scoped>\n",
       "    .dataframe tbody tr th:only-of-type {\n",
       "        vertical-align: middle;\n",
       "    }\n",
       "\n",
       "    .dataframe tbody tr th {\n",
       "        vertical-align: top;\n",
       "    }\n",
       "\n",
       "    .dataframe thead th {\n",
       "        text-align: right;\n",
       "    }\n",
       "</style>\n",
       "<table border=\"1\" class=\"dataframe\">\n",
       "  <thead>\n",
       "    <tr style=\"text-align: right;\">\n",
       "      <th></th>\n",
       "      <th>M/Vlw</th>\n",
       "      <th>lw/tw</th>\n",
       "      <th>ρvwFy,vw/fc</th>\n",
       "      <th>ρhwFy,vw/fc</th>\n",
       "      <th>ρvcFy,vc/fc</th>\n",
       "      <th>ρhcFy,hc/fc</th>\n",
       "      <th>P/fcAg</th>\n",
       "      <th>Ab/Ag</th>\n",
       "      <th>Section_0</th>\n",
       "      <th>Section_1</th>\n",
       "      <th>Section_2</th>\n",
       "    </tr>\n",
       "  </thead>\n",
       "  <tbody>\n",
       "    <tr>\n",
       "      <th>0</th>\n",
       "      <td>1.1</td>\n",
       "      <td>10.714286</td>\n",
       "      <td>0.268879</td>\n",
       "      <td>0.136711</td>\n",
       "      <td>0.348231</td>\n",
       "      <td>0.149140</td>\n",
       "      <td>0.000000</td>\n",
       "      <td>0.0</td>\n",
       "      <td>0</td>\n",
       "      <td>0</td>\n",
       "      <td>1</td>\n",
       "    </tr>\n",
       "    <tr>\n",
       "      <th>1</th>\n",
       "      <td>1.1</td>\n",
       "      <td>10.714286</td>\n",
       "      <td>0.262358</td>\n",
       "      <td>0.133396</td>\n",
       "      <td>0.339785</td>\n",
       "      <td>0.145522</td>\n",
       "      <td>0.102168</td>\n",
       "      <td>0.0</td>\n",
       "      <td>0</td>\n",
       "      <td>0</td>\n",
       "      <td>1</td>\n",
       "    </tr>\n",
       "    <tr>\n",
       "      <th>2</th>\n",
       "      <td>1.1</td>\n",
       "      <td>10.714286</td>\n",
       "      <td>0.346364</td>\n",
       "      <td>0.176108</td>\n",
       "      <td>0.448584</td>\n",
       "      <td>0.192118</td>\n",
       "      <td>0.208187</td>\n",
       "      <td>0.0</td>\n",
       "      <td>0</td>\n",
       "      <td>0</td>\n",
       "      <td>1</td>\n",
       "    </tr>\n",
       "    <tr>\n",
       "      <th>3</th>\n",
       "      <td>1.1</td>\n",
       "      <td>10.714286</td>\n",
       "      <td>0.334023</td>\n",
       "      <td>0.169834</td>\n",
       "      <td>0.432601</td>\n",
       "      <td>0.185273</td>\n",
       "      <td>0.000000</td>\n",
       "      <td>0.0</td>\n",
       "      <td>0</td>\n",
       "      <td>0</td>\n",
       "      <td>1</td>\n",
       "    </tr>\n",
       "    <tr>\n",
       "      <th>4</th>\n",
       "      <td>1.1</td>\n",
       "      <td>10.714286</td>\n",
       "      <td>0.324766</td>\n",
       "      <td>0.165127</td>\n",
       "      <td>0.420612</td>\n",
       "      <td>0.180139</td>\n",
       "      <td>0.101727</td>\n",
       "      <td>0.0</td>\n",
       "      <td>0</td>\n",
       "      <td>0</td>\n",
       "      <td>1</td>\n",
       "    </tr>\n",
       "  </tbody>\n",
       "</table>\n",
       "</div>"
      ],
      "text/plain": [
       "   M/Vlw      lw/tw  ρvwFy,vw/fc  ρhwFy,vw/fc  ρvcFy,vc/fc  ρhcFy,hc/fc  \\\n",
       "0    1.1  10.714286     0.268879     0.136711     0.348231     0.149140   \n",
       "1    1.1  10.714286     0.262358     0.133396     0.339785     0.145522   \n",
       "2    1.1  10.714286     0.346364     0.176108     0.448584     0.192118   \n",
       "3    1.1  10.714286     0.334023     0.169834     0.432601     0.185273   \n",
       "4    1.1  10.714286     0.324766     0.165127     0.420612     0.180139   \n",
       "\n",
       "     P/fcAg  Ab/Ag  Section_0  Section_1  Section_2  \n",
       "0  0.000000    0.0          0          0          1  \n",
       "1  0.102168    0.0          0          0          1  \n",
       "2  0.208187    0.0          0          0          1  \n",
       "3  0.000000    0.0          0          0          1  \n",
       "4  0.101727    0.0          0          0          1  "
      ]
     },
     "execution_count": 26,
     "metadata": {},
     "output_type": "execute_result"
    }
   ],
   "source": [
    "X = data.loc[:, data.columns != 'FailureMode']\n",
    "y=data['FailureMode']\n",
    "X.head()"
   ]
  },
  {
   "cell_type": "markdown",
   "metadata": {
    "colab_type": "text",
    "id": "366LZyd_TztP"
   },
   "source": [
    "##### Spliiting the data into training and test sets"
   ]
  },
  {
   "cell_type": "code",
   "execution_count": 27,
   "metadata": {
    "colab": {},
    "colab_type": "code",
    "id": "LIiqbZMBTztQ",
    "outputId": "6f92e63c-d75b-4a95-b544-b80fb640a171"
   },
   "outputs": [
    {
     "data": {
      "text/plain": [
       "0    1\n",
       "1    1\n",
       "2    1\n",
       "3    1\n",
       "4    1\n",
       "Name: FailureMode, dtype: int64"
      ]
     },
     "execution_count": 27,
     "metadata": {},
     "output_type": "execute_result"
    }
   ],
   "source": [
    "y.head()"
   ]
  },
  {
   "cell_type": "code",
   "execution_count": 28,
   "metadata": {
    "colab": {},
    "colab_type": "code",
    "id": "uOuPU1J8TztY"
   },
   "outputs": [],
   "source": [
    "from sklearn.model_selection import train_test_split\n",
    "\n",
    "X_train, X_test, y_train, y_test = train_test_split(X, y, test_size=0.3, random_state=0)\n",
    "\n",
    "from sklearn.preprocessing import MinMaxScaler\n",
    "scaler = MinMaxScaler()\n",
    "X_train = scaler.fit_transform(X_train)\n",
    "X_test = scaler.transform(X_test)"
   ]
  },
  {
   "cell_type": "markdown",
   "metadata": {
    "colab_type": "text",
    "id": "f-fFPc4oTztc"
   },
   "source": [
    "## Naive Bayes techique"
   ]
  },
  {
   "cell_type": "code",
   "execution_count": 29,
   "metadata": {
    "colab": {},
    "colab_type": "code",
    "id": "iPMjAj4-Tztc",
    "outputId": "10ae5a9d-54cc-4a68-a9f3-73df5c692587"
   },
   "outputs": [
    {
     "name": "stdout",
     "output_type": "stream",
     "text": [
      "Accuracy of GNB classifier on training set: 0.69\n",
      "Accuracy of GNB classifier on test set: 0.76\n"
     ]
    }
   ],
   "source": [
    "from sklearn.naive_bayes import GaussianNB\n",
    "\n",
    "gnb = GaussianNB()\n",
    "gnb.fit(X_train, y_train)\n",
    "print('Accuracy of GNB classifier on training set: {:.2f}'\n",
    "     .format(gnb.score(X_train, y_train)))\n",
    "print('Accuracy of GNB classifier on test set: {:.2f}'\n",
    "     .format(gnb.score(X_test, y_test)))"
   ]
  },
  {
   "cell_type": "markdown",
   "metadata": {
    "colab_type": "text",
    "id": "KTsXp13vTztg"
   },
   "source": [
    "Confusion Matrix of training set"
   ]
  },
  {
   "cell_type": "code",
   "execution_count": 30,
   "metadata": {
    "colab": {},
    "colab_type": "code",
    "id": "k-0G6SE7Tzth",
    "outputId": "6c626eb9-a555-4a2b-d372-38c2e05edca3"
   },
   "outputs": [
    {
     "name": "stdout",
     "output_type": "stream",
     "text": [
      "[[82 17  5  2]\n",
      " [15 39 12  0]\n",
      " [ 2 20 61  1]\n",
      " [ 4  3  5  7]]\n"
     ]
    }
   ],
   "source": [
    "y_pred_train = gnb.predict(X_train)\n",
    "from sklearn.metrics import confusion_matrix\n",
    "confusion_matrix = confusion_matrix(y_train, y_pred_train)\n",
    "print(confusion_matrix)"
   ]
  },
  {
   "cell_type": "code",
   "execution_count": 31,
   "metadata": {
    "colab": {},
    "colab_type": "code",
    "id": "0HtbDVi8Tzto",
    "outputId": "593ad5f5-2c90-413b-ed80-b6bd3ceda516"
   },
   "outputs": [
    {
     "name": "stdout",
     "output_type": "stream",
     "text": [
      "              precision    recall  f1-score   support\n",
      "\n",
      "           1       0.80      0.77      0.78       106\n",
      "           2       0.49      0.59      0.54        66\n",
      "           3       0.73      0.73      0.73        84\n",
      "           4       0.70      0.37      0.48        19\n",
      "\n",
      "    accuracy                           0.69       275\n",
      "   macro avg       0.68      0.61      0.63       275\n",
      "weighted avg       0.70      0.69      0.69       275\n",
      "\n"
     ]
    }
   ],
   "source": [
    "from sklearn.metrics import classification_report\n",
    "print(classification_report(y_train, y_pred_train))"
   ]
  },
  {
   "cell_type": "markdown",
   "metadata": {
    "colab_type": "text",
    "id": "IyAogJmnTztt"
   },
   "source": [
    "Confusion Matrix of test set"
   ]
  },
  {
   "cell_type": "code",
   "execution_count": 32,
   "metadata": {
    "colab": {},
    "colab_type": "code",
    "id": "RbbgiCbiTztu",
    "outputId": "ac8fdfae-343b-499e-b9f2-f0b19f2a9488"
   },
   "outputs": [
    {
     "name": "stdout",
     "output_type": "stream",
     "text": [
      "[[38  4  3  1]\n",
      " [ 6 21  3  0]\n",
      " [ 2  5 30  1]\n",
      " [ 1  1  1  1]]\n"
     ]
    }
   ],
   "source": [
    "y_pred = gnb.predict(X_test)\n",
    "from sklearn.metrics import confusion_matrix\n",
    "confusion_matrix = confusion_matrix(y_test, y_pred)\n",
    "print(confusion_matrix)"
   ]
  },
  {
   "cell_type": "code",
   "execution_count": 33,
   "metadata": {
    "colab": {},
    "colab_type": "code",
    "id": "RTE2oDbMTztx",
    "outputId": "ea5ac5a4-0ad3-4ec0-de34-8b2a5143ed44"
   },
   "outputs": [
    {
     "name": "stdout",
     "output_type": "stream",
     "text": [
      "              precision    recall  f1-score   support\n",
      "\n",
      "           1       0.81      0.83      0.82        46\n",
      "           2       0.68      0.70      0.69        30\n",
      "           3       0.81      0.79      0.80        38\n",
      "           4       0.33      0.25      0.29         4\n",
      "\n",
      "    accuracy                           0.76       118\n",
      "   macro avg       0.66      0.64      0.65       118\n",
      "weighted avg       0.76      0.76      0.76       118\n",
      "\n"
     ]
    }
   ],
   "source": [
    "from sklearn.metrics import classification_report\n",
    "print(classification_report(y_test, y_pred))"
   ]
  },
  {
   "cell_type": "markdown",
   "metadata": {
    "colab_type": "text",
    "id": "v3Kg1AZrTzt5"
   },
   "source": [
    "## K-Nearest neighbors"
   ]
  },
  {
   "cell_type": "code",
   "execution_count": 34,
   "metadata": {
    "colab": {},
    "colab_type": "code",
    "id": "0tnXuEmzTzt6",
    "outputId": "79b65c9e-43d5-493b-8a2e-a47343b58665"
   },
   "outputs": [
    {
     "name": "stdout",
     "output_type": "stream",
     "text": [
      "Accuracy of K-NN classifier on training set: 0.80\n",
      "Accuracy of K-NN classifier on test set: 0.85\n"
     ]
    }
   ],
   "source": [
    "from sklearn.neighbors import KNeighborsClassifier\n",
    "\n",
    "knn = KNeighborsClassifier(n_neighbors=5)\n",
    "knn.fit(X_train, y_train)\n",
    "print('Accuracy of K-NN classifier on training set: {:.2f}'\n",
    "     .format(knn.score(X_train, y_train)))\n",
    "print('Accuracy of K-NN classifier on test set: {:.2f}'\n",
    "     .format(knn.score(X_test, y_test)))"
   ]
  },
  {
   "cell_type": "markdown",
   "metadata": {
    "colab_type": "text",
    "id": "29_0EemhTzuA"
   },
   "source": [
    "Confusion Matrix of training set"
   ]
  },
  {
   "cell_type": "code",
   "execution_count": 35,
   "metadata": {
    "colab": {},
    "colab_type": "code",
    "id": "31rFd3wKTzuB",
    "outputId": "f6f18e56-5278-4cb7-b630-1c01fb97906b"
   },
   "outputs": [
    {
     "name": "stdout",
     "output_type": "stream",
     "text": [
      "[[96  5  3  2]\n",
      " [15 46  5  0]\n",
      " [ 4  8 72  0]\n",
      " [ 4  3  6  6]]\n"
     ]
    }
   ],
   "source": [
    "y_pred_train = knn.predict(X_train)\n",
    "from sklearn.metrics import confusion_matrix\n",
    "confusion_matrix = confusion_matrix(y_train, y_pred_train)\n",
    "print(confusion_matrix)"
   ]
  },
  {
   "cell_type": "code",
   "execution_count": 36,
   "metadata": {
    "colab": {},
    "colab_type": "code",
    "id": "RehZDmFMTzuF",
    "outputId": "c623f37e-849b-4754-b6ab-cb1ec0b79ec4"
   },
   "outputs": [
    {
     "name": "stdout",
     "output_type": "stream",
     "text": [
      "              precision    recall  f1-score   support\n",
      "\n",
      "           1       0.81      0.91      0.85       106\n",
      "           2       0.74      0.70      0.72        66\n",
      "           3       0.84      0.86      0.85        84\n",
      "           4       0.75      0.32      0.44        19\n",
      "\n",
      "    accuracy                           0.80       275\n",
      "   macro avg       0.78      0.69      0.72       275\n",
      "weighted avg       0.80      0.80      0.79       275\n",
      "\n"
     ]
    }
   ],
   "source": [
    "from sklearn.metrics import classification_report\n",
    "print(classification_report(y_train, y_pred_train))"
   ]
  },
  {
   "cell_type": "markdown",
   "metadata": {
    "colab_type": "text",
    "id": "PE_QYJQXTzuK"
   },
   "source": [
    "Confusion Matrix of test set"
   ]
  },
  {
   "cell_type": "code",
   "execution_count": 37,
   "metadata": {
    "colab": {},
    "colab_type": "code",
    "id": "dZo3mv6QTzuM",
    "outputId": "0dfc2261-b314-4ef3-a24c-e01b82d613c1"
   },
   "outputs": [
    {
     "name": "stdout",
     "output_type": "stream",
     "text": [
      "[[43  1  0  2]\n",
      " [ 7 20  3  0]\n",
      " [ 1  3 34  0]\n",
      " [ 0  0  1  3]]\n"
     ]
    }
   ],
   "source": [
    "y_pred = knn.predict(X_test)\n",
    "from sklearn.metrics import confusion_matrix\n",
    "confusion_matrix = confusion_matrix(y_test, y_pred)\n",
    "print(confusion_matrix)"
   ]
  },
  {
   "cell_type": "code",
   "execution_count": 38,
   "metadata": {
    "colab": {},
    "colab_type": "code",
    "id": "4x4Iin7gTzuO",
    "outputId": "3bbd5f90-38a0-4fa9-a931-85307ec284aa"
   },
   "outputs": [
    {
     "name": "stdout",
     "output_type": "stream",
     "text": [
      "              precision    recall  f1-score   support\n",
      "\n",
      "           1       0.84      0.93      0.89        46\n",
      "           2       0.83      0.67      0.74        30\n",
      "           3       0.89      0.89      0.89        38\n",
      "           4       0.60      0.75      0.67         4\n",
      "\n",
      "    accuracy                           0.85       118\n",
      "   macro avg       0.79      0.81      0.80       118\n",
      "weighted avg       0.85      0.85      0.84       118\n",
      "\n"
     ]
    }
   ],
   "source": [
    "from sklearn.metrics import classification_report\n",
    "print(classification_report(y_test, y_pred))"
   ]
  },
  {
   "cell_type": "markdown",
   "metadata": {
    "colab_type": "text",
    "id": "qXUhD2IeTzuU"
   },
   "source": [
    "## Decision Tree"
   ]
  },
  {
   "cell_type": "code",
   "execution_count": 39,
   "metadata": {
    "colab": {},
    "colab_type": "code",
    "id": "yH0FxUy-TzuV",
    "outputId": "14c6ac93-3fe5-4772-cf96-4d525b07ef4f"
   },
   "outputs": [
    {
     "name": "stdout",
     "output_type": "stream",
     "text": [
      "Accuracy of Decision Tree classifier on training set: 1.00\n",
      "Accuracy of Decision Tree classifier on test set: 0.79\n"
     ]
    }
   ],
   "source": [
    "from sklearn.tree import DecisionTreeClassifier\n",
    "clf = DecisionTreeClassifier().fit(X_train, y_train)\n",
    "\n",
    "print('Accuracy of Decision Tree classifier on training set: {:.2f}'\n",
    "     .format(clf.score(X_train, y_train)))\n",
    "print('Accuracy of Decision Tree classifier on test set: {:.2f}'\n",
    "     .format(clf.score(X_test, y_test)))"
   ]
  },
  {
   "cell_type": "markdown",
   "metadata": {
    "colab_type": "text",
    "id": "uB08Jb66TzuZ"
   },
   "source": [
    "Confusion Matrix of training set"
   ]
  },
  {
   "cell_type": "code",
   "execution_count": 40,
   "metadata": {
    "colab": {},
    "colab_type": "code",
    "id": "M1fAeRF5Tzua",
    "outputId": "d801af9f-dec2-4e7e-cf83-3133765f2f24"
   },
   "outputs": [
    {
     "name": "stdout",
     "output_type": "stream",
     "text": [
      "[[106   0   0   0]\n",
      " [  0  66   0   0]\n",
      " [  0   0  84   0]\n",
      " [  0   0   0  19]]\n"
     ]
    }
   ],
   "source": [
    "y_pred_train = clf.predict(X_train)\n",
    "from sklearn.metrics import confusion_matrix\n",
    "confusion_matrix = confusion_matrix(y_train, y_pred_train)\n",
    "print(confusion_matrix)"
   ]
  },
  {
   "cell_type": "code",
   "execution_count": 41,
   "metadata": {
    "colab": {},
    "colab_type": "code",
    "id": "1uVvWo8VTzuf",
    "outputId": "425d9605-18e5-42fe-a7fe-e998f335dc27"
   },
   "outputs": [
    {
     "name": "stdout",
     "output_type": "stream",
     "text": [
      "              precision    recall  f1-score   support\n",
      "\n",
      "           1       1.00      1.00      1.00       106\n",
      "           2       1.00      1.00      1.00        66\n",
      "           3       1.00      1.00      1.00        84\n",
      "           4       1.00      1.00      1.00        19\n",
      "\n",
      "    accuracy                           1.00       275\n",
      "   macro avg       1.00      1.00      1.00       275\n",
      "weighted avg       1.00      1.00      1.00       275\n",
      "\n"
     ]
    }
   ],
   "source": [
    "from sklearn.metrics import classification_report\n",
    "print(classification_report(y_train, y_pred_train))"
   ]
  },
  {
   "cell_type": "markdown",
   "metadata": {
    "colab_type": "text",
    "id": "pNRazBnhTzuj"
   },
   "source": [
    "Confusion Matrix of test set"
   ]
  },
  {
   "cell_type": "code",
   "execution_count": 42,
   "metadata": {
    "colab": {},
    "colab_type": "code",
    "id": "3jfh7yguTzuz",
    "outputId": "53b0b7c9-218d-49fe-b2b1-a293e0a88ecf"
   },
   "outputs": [
    {
     "name": "stdout",
     "output_type": "stream",
     "text": [
      "[[37  6  3  0]\n",
      " [ 4 22  1  3]\n",
      " [ 4  1 31  2]\n",
      " [ 0  1  0  3]]\n"
     ]
    }
   ],
   "source": [
    "y_pred = clf.predict(X_test)\n",
    "from sklearn.metrics import confusion_matrix\n",
    "confusion_matrix = confusion_matrix(y_test, y_pred)\n",
    "print(confusion_matrix)"
   ]
  },
  {
   "cell_type": "code",
   "execution_count": 43,
   "metadata": {
    "colab": {},
    "colab_type": "code",
    "id": "vSIu4oNRTzu2",
    "outputId": "b717a1be-438e-439c-ee96-31820d943ef1"
   },
   "outputs": [
    {
     "name": "stdout",
     "output_type": "stream",
     "text": [
      "              precision    recall  f1-score   support\n",
      "\n",
      "           1       0.82      0.80      0.81        46\n",
      "           2       0.73      0.73      0.73        30\n",
      "           3       0.89      0.82      0.85        38\n",
      "           4       0.38      0.75      0.50         4\n",
      "\n",
      "    accuracy                           0.79       118\n",
      "   macro avg       0.70      0.78      0.72       118\n",
      "weighted avg       0.80      0.79      0.79       118\n",
      "\n"
     ]
    }
   ],
   "source": [
    "from sklearn.metrics import classification_report\n",
    "print(classification_report(y_test, y_pred))"
   ]
  },
  {
   "cell_type": "markdown",
   "metadata": {
    "colab_type": "text",
    "id": "TA73LJkaTzu7"
   },
   "source": [
    "## Random Forest"
   ]
  },
  {
   "cell_type": "code",
   "execution_count": 44,
   "metadata": {
    "colab": {},
    "colab_type": "code",
    "id": "TyxKSXsgTzu8",
    "outputId": "8ab6dcd4-3287-486d-f6ce-ff09db57efff"
   },
   "outputs": [
    {
     "name": "stdout",
     "output_type": "stream",
     "text": [
      "Accuracy of RF classifier on training set: 1.00\n",
      "Accuracy of RF classifier on test set: 0.86\n"
     ]
    }
   ],
   "source": [
    "from sklearn.ensemble import RandomForestClassifier\n",
    "from sklearn.datasets import make_classification\n",
    "RF = RandomForestClassifier(n_estimators=200,  random_state=0)\n",
    "RF.fit(X_train, y_train)\n",
    "print('Accuracy of RF classifier on training set: {:.2f}'\n",
    "     .format(RF.score(X_train, y_train)))\n",
    "print('Accuracy of RF classifier on test set: {:.2f}'\n",
    "     .format(RF.score(X_test, y_test)))"
   ]
  },
  {
   "cell_type": "markdown",
   "metadata": {
    "colab_type": "text",
    "id": "gZo7-oyITzu_"
   },
   "source": [
    "Confusion Matrix of training set"
   ]
  },
  {
   "cell_type": "code",
   "execution_count": 45,
   "metadata": {
    "colab": {},
    "colab_type": "code",
    "id": "yadH4kocTzu_",
    "outputId": "0dac5566-f035-44ee-ecc6-b0efe462402e"
   },
   "outputs": [
    {
     "name": "stdout",
     "output_type": "stream",
     "text": [
      "[[106   0   0   0]\n",
      " [  0  66   0   0]\n",
      " [  0   0  84   0]\n",
      " [  0   0   0  19]]\n"
     ]
    }
   ],
   "source": [
    "y_pred_train = RF.predict(X_train)\n",
    "from sklearn.metrics import confusion_matrix\n",
    "confusion_matrix = confusion_matrix(y_train, y_pred_train)\n",
    "print(confusion_matrix)"
   ]
  },
  {
   "cell_type": "markdown",
   "metadata": {
    "colab_type": "text",
    "id": "GkAaSOMqTzvC"
   },
   "source": [
    "Confusion Matrix of test set\n"
   ]
  },
  {
   "cell_type": "code",
   "execution_count": 46,
   "metadata": {
    "colab": {},
    "colab_type": "code",
    "id": "e5gNpfYMTzvD",
    "outputId": "a3616b21-33fd-4be1-e923-81eb3779a348"
   },
   "outputs": [
    {
     "name": "stdout",
     "output_type": "stream",
     "text": [
      "[[43  2  0  1]\n",
      " [ 5 21  3  1]\n",
      " [ 2  2 34  0]\n",
      " [ 0  0  0  4]]\n"
     ]
    }
   ],
   "source": [
    "y_pred = RF.predict(X_test)\n",
    "from sklearn.metrics import confusion_matrix\n",
    "confusion_matrix = confusion_matrix(y_test, y_pred)\n",
    "print(confusion_matrix)"
   ]
  },
  {
   "cell_type": "code",
   "execution_count": 47,
   "metadata": {
    "colab": {},
    "colab_type": "code",
    "id": "p_iIF41gTzvH",
    "outputId": "e55e6469-839c-4365-eb06-8756188c112c"
   },
   "outputs": [
    {
     "name": "stdout",
     "output_type": "stream",
     "text": [
      "              precision    recall  f1-score   support\n",
      "\n",
      "           1       0.86      0.93      0.90        46\n",
      "           2       0.84      0.70      0.76        30\n",
      "           3       0.92      0.89      0.91        38\n",
      "           4       0.67      1.00      0.80         4\n",
      "\n",
      "    accuracy                           0.86       118\n",
      "   macro avg       0.82      0.88      0.84       118\n",
      "weighted avg       0.87      0.86      0.86       118\n",
      "\n"
     ]
    }
   ],
   "source": [
    "from sklearn.metrics import classification_report\n",
    "print(classification_report(y_test, y_pred))"
   ]
  },
  {
   "cell_type": "code",
   "execution_count": 48,
   "metadata": {
    "colab": {},
    "colab_type": "code",
    "id": "rjGFr1lrTzvK",
    "outputId": "07185949-9017-4c3d-d083-38f2e208aa36"
   },
   "outputs": [
    {
     "data": {
      "text/plain": [
       "array([0.19314531, 0.13153915, 0.09183167, 0.09759066, 0.1397623 ,\n",
       "       0.13749226, 0.06990941, 0.07369148, 0.00996661, 0.01949359,\n",
       "       0.03557756])"
      ]
     },
     "execution_count": 48,
     "metadata": {},
     "output_type": "execute_result"
    }
   ],
   "source": [
    "RF.feature_importances_"
   ]
  },
  {
   "cell_type": "code",
   "execution_count": 49,
   "metadata": {
    "colab": {},
    "colab_type": "code",
    "id": "QSHwkGM7TzvW",
    "outputId": "ea0b0ae2-1d5b-4b39-abf6-3b2ecd7426e7",
    "scrolled": true
   },
   "outputs": [
    {
     "data": {
      "image/png": "[encoded data removed]",
      "text/plain": [
       "<Figure size 432x288 with 1 Axes>"
      ]
     },
     "metadata": {},
     "output_type": "display_data"
    }
   ],
   "source": [
    "features = list(X.columns.values)\n",
    "\n",
    "importances = RF.feature_importances_\n",
    "import numpy as np\n",
    "indices = np.argsort(importances)\n",
    "\n",
    "plt.title('Feature Importances')\n",
    "plt.barh(range(len(indices)), importances[indices], color='b', align='center')\n",
    "plt.yticks(range(len(indices)), [features[i] for i in indices])\n",
    "plt.xlabel('Relative Importance')\n",
    "plt.show()"
   ]
  },
  {
   "cell_type": "markdown",
   "metadata": {
    "colab_type": "text",
    "id": "8nHBvNZnTzvd"
   },
   "source": [
    "### Hypertune Random Forest Parameters to improve the accuracy"
   ]
  },
  {
   "cell_type": "code",
   "execution_count": 50,
   "metadata": {},
   "outputs": [
    {
     "name": "stdout",
     "output_type": "stream",
     "text": [
      "Fitting 10 folds for each of 100 candidates, totalling 1000 fits\n"
     ]
    },
    {
     "name": "stderr",
     "output_type": "stream",
     "text": [
      "[Parallel(n_jobs=-1)]: Using backend LokyBackend with 12 concurrent workers.\n",
      "[Parallel(n_jobs=-1)]: Done  17 tasks      | elapsed:   12.1s\n",
      "[Parallel(n_jobs=-1)]: Done 138 tasks      | elapsed:   45.4s\n",
      "[Parallel(n_jobs=-1)]: Done 341 tasks      | elapsed:  1.6min\n",
      "[Parallel(n_jobs=-1)]: Done 624 tasks      | elapsed:  2.6min\n",
      "[Parallel(n_jobs=-1)]: Done 1000 out of 1000 | elapsed:  4.0min finished\n",
      "C:\\Users\\sujit\\AppData\\Local\\Continuum\\anaconda3\\lib\\site-packages\\sklearn\\model_selection\\_search.py:813: DeprecationWarning: The default of the `iid` parameter will change from True to False in version 0.22 and will be removed in 0.24. This will change numeric results when test-set sizes are unequal.\n",
      "  DeprecationWarning)\n"
     ]
    },
    {
     "name": "stdout",
     "output_type": "stream",
     "text": [
      "{'n_estimators': 1000, 'min_samples_split': 2, 'min_samples_leaf': 1, 'max_features': 'auto', 'max_depth': 50, 'bootstrap': False}\n"
     ]
    }
   ],
   "source": [
    "from sklearn.model_selection import RandomizedSearchCV\n",
    "# Number of trees in random forest\n",
    "n_estimators = [int(x) for x in np.linspace(start = 200, stop = 2000, num = 10)]\n",
    "# Number of features to consider at every split\n",
    "max_features = ['auto', 'sqrt']\n",
    "#Maximum number of levels in tree\n",
    "max_depth = [int(x) for x in np.linspace(10, 110, num = 11)]\n",
    "max_depth.append(None)\n",
    "# Minimum number of samples required to split a node\n",
    "min_samples_split = [2, 5, 10]\n",
    "# Minimum number of samples required at each leaf node\n",
    "min_samples_leaf = [1, 2, 4]\n",
    "# Method of selecting samples for training each tree\n",
    "bootstrap = [True, False]\n",
    "# Create the random grid\n",
    "random_grid = {'n_estimators': n_estimators,\n",
    "               'max_features': max_features,\n",
    "               'max_depth': max_depth,\n",
    "               'min_samples_split': min_samples_split,\n",
    "               'min_samples_leaf': min_samples_leaf,\n",
    "               'bootstrap': bootstrap}\n",
    "#print(random_grid)\n",
    "\n",
    "# Random search of parameters\n",
    "rfc_random = RandomizedSearchCV(estimator = RF, param_distributions = random_grid, n_iter = 100, cv = 10, verbose=2, random_state=42, n_jobs = -1)\n",
    "\n",
    "# Fit the model\n",
    "rfc_random.fit(X_train, y_train)\n",
    "\n",
    "# print results\n",
    "print(rfc_random.best_params_)"
   ]
  },
  {
   "cell_type": "code",
   "execution_count": 51,
   "metadata": {},
   "outputs": [
    {
     "name": "stdout",
     "output_type": "stream",
     "text": [
      "Accuracy of RF classifier on training set: 1.00\n",
      "Accuracy of RF classifier on test set: 0.86\n"
     ]
    }
   ],
   "source": [
    "from sklearn.ensemble import RandomForestClassifier\n",
    "from sklearn.datasets import make_classification\n",
    "RF1 = RandomForestClassifier(n_estimators= 1000, min_samples_split= 2, min_samples_leaf= 1, max_features= 'auto', max_depth=50, bootstrap= 'False')\n",
    "RF1.fit(X_train, y_train)\n",
    "print('Accuracy of RF classifier on training set: {:.2f}'\n",
    "     .format(RF1.score(X_train, y_train)))\n",
    "print('Accuracy of RF classifier on test set: {:.2f}'\n",
    "     .format(RF1.score(X_test, y_test)))"
   ]
  },
  {
   "cell_type": "markdown",
   "metadata": {},
   "source": [
    "Optimization doeent improve the performance"
   ]
  },
  {
   "cell_type": "markdown",
   "metadata": {},
   "source": [
    "Confusion Matrix of training set"
   ]
  },
  {
   "cell_type": "code",
   "execution_count": 55,
   "metadata": {},
   "outputs": [
    {
     "name": "stdout",
     "output_type": "stream",
     "text": [
      "[[106   0   0   0]\n",
      " [  0  66   0   0]\n",
      " [  0   0  84   0]\n",
      " [  0   0   0  19]]\n"
     ]
    }
   ],
   "source": [
    "y_pred_train = RF1.predict(X_train)\n",
    "from sklearn.metrics import confusion_matrix\n",
    "confusion_matrix = confusion_matrix(y_train, y_pred_train)\n",
    "print(confusion_matrix)"
   ]
  },
  {
   "cell_type": "markdown",
   "metadata": {},
   "source": [
    "Confusion Matrix of test set"
   ]
  },
  {
   "cell_type": "code",
   "execution_count": 56,
   "metadata": {
    "scrolled": true
   },
   "outputs": [
    {
     "name": "stdout",
     "output_type": "stream",
     "text": [
      "[[42  3  0  1]\n",
      " [ 5 21  3  1]\n",
      " [ 2  1 35  0]\n",
      " [ 0  0  0  4]]\n"
     ]
    }
   ],
   "source": [
    "y_pred = RF1.predict(X_test)\n",
    "from sklearn.metrics import confusion_matrix\n",
    "confusion_matrix = confusion_matrix(y_test, y_pred)\n",
    "print(confusion_matrix)"
   ]
  },
  {
   "cell_type": "code",
   "execution_count": 57,
   "metadata": {},
   "outputs": [
    {
     "name": "stdout",
     "output_type": "stream",
     "text": [
      "              precision    recall  f1-score   support\n",
      "\n",
      "           1       0.86      0.91      0.88        46\n",
      "           2       0.84      0.70      0.76        30\n",
      "           3       0.92      0.92      0.92        38\n",
      "           4       0.67      1.00      0.80         4\n",
      "\n",
      "    accuracy                           0.86       118\n",
      "   macro avg       0.82      0.88      0.84       118\n",
      "weighted avg       0.87      0.86      0.86       118\n",
      "\n"
     ]
    }
   ],
   "source": [
    "from sklearn.metrics import classification_report\n",
    "print(classification_report(y_test, y_pred))"
   ]
  },
  {
   "cell_type": "code",
   "execution_count": 58,
   "metadata": {},
   "outputs": [
    {
     "data": {
      "image/png": "[encoded data removed]",
      "text/plain": [
       "<Figure size 432x288 with 1 Axes>"
      ]
     },
     "metadata": {},
     "output_type": "display_data"
    }
   ],
   "source": [
    "RF1.feature_importances_\n",
    "features = list(X.columns.values)\n",
    "\n",
    "importances = RF1.feature_importances_\n",
    "import numpy as np\n",
    "indices = np.argsort(importances)\n",
    "\n",
    "plt.title('Feature Importances')\n",
    "plt.barh(range(len(indices)), importances[indices], color='b', align='center')\n",
    "plt.yticks(range(len(indices)), [features[i] for i in indices])\n",
    "plt.xlabel('Relative Importance')\n",
    "plt.show()"
   ]
  },
  {
   "cell_type": "markdown",
   "metadata": {
    "colab_type": "text",
    "id": "2dkUBqbITzvn"
   },
   "source": [
    "## ADABOOST"
   ]
  },
  {
   "cell_type": "code",
   "execution_count": 59,
   "metadata": {
    "colab": {},
    "colab_type": "code",
    "id": "zNy69xhRTzvn",
    "outputId": "30af90ad-3244-4177-dc1b-422e2970b2eb"
   },
   "outputs": [
    {
     "name": "stdout",
     "output_type": "stream",
     "text": [
      "Accuracy of ADB classifier on training set: 0.76\n",
      "Accuracy of ADB classifier on test set: 0.67\n"
     ]
    }
   ],
   "source": [
    "from sklearn.ensemble import AdaBoostClassifier\n",
    "from sklearn.datasets import make_classification\n",
    "\n",
    "ADB = AdaBoostClassifier(n_estimators=100, random_state=0)\n",
    "ADB.fit(X_train, y_train)\n",
    "print('Accuracy of ADB classifier on training set: {:.2f}'\n",
    "     .format(ADB.score(X_train, y_train)))\n",
    "print('Accuracy of ADB classifier on test set: {:.2f}'\n",
    "     .format(ADB.score(X_test, y_test)))"
   ]
  },
  {
   "cell_type": "markdown",
   "metadata": {
    "colab_type": "text",
    "id": "DHqmMeqyTzvq"
   },
   "source": [
    "Confusion Matrix of training set"
   ]
  },
  {
   "cell_type": "code",
   "execution_count": 60,
   "metadata": {
    "colab": {},
    "colab_type": "code",
    "id": "baP35PyFTzvr",
    "outputId": "34322a91-f2f9-42c8-c67b-2be230ea0b77"
   },
   "outputs": [
    {
     "name": "stdout",
     "output_type": "stream",
     "text": [
      "[[85 17  4  0]\n",
      " [13 46  6  1]\n",
      " [ 7 13 62  2]\n",
      " [ 0  2  2 15]]\n"
     ]
    }
   ],
   "source": [
    "y_pred_train = ADB.predict(X_train)\n",
    "from sklearn.metrics import confusion_matrix\n",
    "confusion_matrix = confusion_matrix(y_train, y_pred_train)\n",
    "print(confusion_matrix)"
   ]
  },
  {
   "cell_type": "code",
   "execution_count": 61,
   "metadata": {
    "colab": {},
    "colab_type": "code",
    "id": "uSzAXxurTzvw",
    "outputId": "ea38a951-db50-445f-df17-3d999276d98f"
   },
   "outputs": [
    {
     "name": "stdout",
     "output_type": "stream",
     "text": [
      "              precision    recall  f1-score   support\n",
      "\n",
      "           1       0.81      0.80      0.81       106\n",
      "           2       0.59      0.70      0.64        66\n",
      "           3       0.84      0.74      0.78        84\n",
      "           4       0.83      0.79      0.81        19\n",
      "\n",
      "    accuracy                           0.76       275\n",
      "   macro avg       0.77      0.76      0.76       275\n",
      "weighted avg       0.77      0.76      0.76       275\n",
      "\n"
     ]
    }
   ],
   "source": [
    "from sklearn.metrics import classification_report\n",
    "print(classification_report(y_train, y_pred_train))"
   ]
  },
  {
   "cell_type": "markdown",
   "metadata": {
    "colab_type": "text",
    "id": "w0iIvbPsTzv1"
   },
   "source": [
    "Confusion Matrix of test set"
   ]
  },
  {
   "cell_type": "code",
   "execution_count": 62,
   "metadata": {
    "colab": {},
    "colab_type": "code",
    "id": "-9nP0vYwTzv3",
    "outputId": "106afec8-a195-4d42-e2ed-5332e8965bbe"
   },
   "outputs": [
    {
     "name": "stdout",
     "output_type": "stream",
     "text": [
      "[[36  6  1  3]\n",
      " [ 9 15  5  1]\n",
      " [ 4  8 26  0]\n",
      " [ 0  2  0  2]]\n"
     ]
    }
   ],
   "source": [
    "y_pred = ADB.predict(X_test)\n",
    "from sklearn.metrics import confusion_matrix\n",
    "confusion_matrix = confusion_matrix(y_test, y_pred)\n",
    "print(confusion_matrix)"
   ]
  },
  {
   "cell_type": "code",
   "execution_count": 64,
   "metadata": {
    "colab": {},
    "colab_type": "code",
    "id": "8nyl3tyoTzv6",
    "outputId": "c7219b4c-56f5-4fae-9444-b44948ab7ea5"
   },
   "outputs": [
    {
     "name": "stdout",
     "output_type": "stream",
     "text": [
      "              precision    recall  f1-score   support\n",
      "\n",
      "           1       0.73      0.78      0.76        46\n",
      "           2       0.48      0.50      0.49        30\n",
      "           3       0.81      0.68      0.74        38\n",
      "           4       0.33      0.50      0.40         4\n",
      "\n",
      "    accuracy                           0.67       118\n",
      "   macro avg       0.59      0.62      0.60       118\n",
      "weighted avg       0.68      0.67      0.67       118\n",
      "\n"
     ]
    }
   ],
   "source": [
    "from sklearn.metrics import classification_report\n",
    "print(classification_report(y_test, y_pred))"
   ]
  },
  {
   "cell_type": "markdown",
   "metadata": {
    "colab_type": "text",
    "id": "_h-zq05ATzv-"
   },
   "source": [
    "## XGBOOST"
   ]
  },
  {
   "cell_type": "code",
   "execution_count": 65,
   "metadata": {
    "colab": {},
    "colab_type": "code",
    "id": "w5VyRmJGTzv-",
    "outputId": "dfa6f7b1-4f6d-4a5a-ede5-3192aa416f6d"
   },
   "outputs": [
    {
     "name": "stdout",
     "output_type": "stream",
     "text": [
      "Accuracy of XGB classifier on training set: 1.00\n",
      "Accuracy of XGB classifier on test set: 0.83\n"
     ]
    }
   ],
   "source": [
    "from xgboost import XGBClassifier\n",
    "from sklearn.datasets import make_classification\n",
    "\n",
    "XGB = XGBClassifier()\n",
    "XGB.fit(X_train, y_train)\n",
    "print('Accuracy of XGB classifier on training set: {:.2f}'\n",
    "     .format(XGB.score(X_train, y_train)))\n",
    "print('Accuracy of XGB classifier on test set: {:.2f}'\n",
    "     .format(XGB.score(X_test, y_test)))"
   ]
  },
  {
   "cell_type": "markdown",
   "metadata": {
    "colab_type": "text",
    "id": "3U1LjtB-TzwB"
   },
   "source": [
    "Confusion Matrix of training set"
   ]
  },
  {
   "cell_type": "code",
   "execution_count": 66,
   "metadata": {
    "colab": {},
    "colab_type": "code",
    "id": "sX5WmJD-TzwC",
    "outputId": "8f186c1e-656c-498c-ada3-9fe2bb9ee11b"
   },
   "outputs": [
    {
     "name": "stdout",
     "output_type": "stream",
     "text": [
      "[[106   0   0   0]\n",
      " [  0  66   0   0]\n",
      " [  0   0  84   0]\n",
      " [  0   0   0  19]]\n"
     ]
    }
   ],
   "source": [
    "y_pred_train = XGB.predict(X_train)\n",
    "from sklearn.metrics import confusion_matrix\n",
    "confusion_matrix = confusion_matrix(y_train, y_pred_train)\n",
    "print(confusion_matrix)"
   ]
  },
  {
   "cell_type": "code",
   "execution_count": 67,
   "metadata": {
    "colab": {},
    "colab_type": "code",
    "id": "7hOLYB74TzwE",
    "outputId": "c058ce82-46b4-4e3a-ade2-2240de914d53"
   },
   "outputs": [
    {
     "name": "stdout",
     "output_type": "stream",
     "text": [
      "              precision    recall  f1-score   support\n",
      "\n",
      "           1       1.00      1.00      1.00       106\n",
      "           2       1.00      1.00      1.00        66\n",
      "           3       1.00      1.00      1.00        84\n",
      "           4       1.00      1.00      1.00        19\n",
      "\n",
      "    accuracy                           1.00       275\n",
      "   macro avg       1.00      1.00      1.00       275\n",
      "weighted avg       1.00      1.00      1.00       275\n",
      "\n"
     ]
    }
   ],
   "source": [
    "from sklearn.metrics import classification_report\n",
    "print(classification_report(y_train, y_pred_train))"
   ]
  },
  {
   "cell_type": "markdown",
   "metadata": {
    "colab_type": "text",
    "id": "sGGzBLVlTzwH"
   },
   "source": [
    "Confusion Matrix of test set"
   ]
  },
  {
   "cell_type": "code",
   "execution_count": 68,
   "metadata": {
    "colab": {},
    "colab_type": "code",
    "id": "52QXpqJqTzwI",
    "outputId": "d85022e2-b72e-4094-d74f-09f06062dfc0"
   },
   "outputs": [
    {
     "name": "stdout",
     "output_type": "stream",
     "text": [
      "[[41  4  0  1]\n",
      " [ 7 19  3  1]\n",
      " [ 2  2 34  0]\n",
      " [ 0  0  0  4]]\n"
     ]
    }
   ],
   "source": [
    "y_pred = XGB.predict(X_test)\n",
    "from sklearn.metrics import confusion_matrix\n",
    "confusion_matrix = confusion_matrix(y_test, y_pred)\n",
    "print(confusion_matrix)"
   ]
  },
  {
   "cell_type": "code",
   "execution_count": 69,
   "metadata": {
    "colab": {},
    "colab_type": "code",
    "id": "bPx9aLPCTzwM",
    "outputId": "89267532-fb38-4494-dcd8-a9c5c92091b1"
   },
   "outputs": [
    {
     "name": "stdout",
     "output_type": "stream",
     "text": [
      "              precision    recall  f1-score   support\n",
      "\n",
      "           1       0.82      0.89      0.85        46\n",
      "           2       0.76      0.63      0.69        30\n",
      "           3       0.92      0.89      0.91        38\n",
      "           4       0.67      1.00      0.80         4\n",
      "\n",
      "    accuracy                           0.83       118\n",
      "   macro avg       0.79      0.85      0.81       118\n",
      "weighted avg       0.83      0.83      0.83       118\n",
      "\n"
     ]
    }
   ],
   "source": [
    "from sklearn.metrics import classification_report\n",
    "print(classification_report(y_test, y_pred))"
   ]
  },
  {
   "cell_type": "markdown",
   "metadata": {
    "colab_type": "text",
    "id": "ys09efjyTzwW"
   },
   "source": [
    "## Light GBM"
   ]
  },
  {
   "cell_type": "code",
   "execution_count": 70,
   "metadata": {
    "colab": {},
    "colab_type": "code",
    "id": "rCZlxJdzTzwW",
    "outputId": "2d1b5fd6-3bf7-4ba6-b704-44c272842952"
   },
   "outputs": [
    {
     "name": "stdout",
     "output_type": "stream",
     "text": [
      "Accuracy of LGB classifier on training set: 1.00\n",
      "Accuracy of LGB classifier on test set: 0.80\n"
     ]
    }
   ],
   "source": [
    "from lightgbm import LGBMClassifier\n",
    "from sklearn.datasets import make_classification\n",
    "\n",
    "LGB = LGBMClassifier()\n",
    "LGB.fit(X_train, y_train)\n",
    "print('Accuracy of LGB classifier on training set: {:.2f}'\n",
    "     .format(LGB.score(X_train, y_train)))\n",
    "print('Accuracy of LGB classifier on test set: {:.2f}'\n",
    "     .format(LGB.score(X_test, y_test)))"
   ]
  },
  {
   "cell_type": "markdown",
   "metadata": {
    "colab_type": "text",
    "id": "X3_oy953TzwY"
   },
   "source": [
    "Confusion Matrix of training set"
   ]
  },
  {
   "cell_type": "code",
   "execution_count": 71,
   "metadata": {
    "colab": {},
    "colab_type": "code",
    "id": "fEKJczl1TzwY",
    "outputId": "487614c4-f6b0-4f40-cb44-aa0a9a1694c3"
   },
   "outputs": [
    {
     "name": "stdout",
     "output_type": "stream",
     "text": [
      "[[106   0   0   0]\n",
      " [  0  66   0   0]\n",
      " [  0   0  84   0]\n",
      " [  0   0   0  19]]\n"
     ]
    }
   ],
   "source": [
    "y_pred_train = LGB.predict(X_train)\n",
    "from sklearn.metrics import confusion_matrix\n",
    "confusion_matrix = confusion_matrix(y_train, y_pred_train)\n",
    "print(confusion_matrix)"
   ]
  },
  {
   "cell_type": "code",
   "execution_count": 72,
   "metadata": {
    "colab": {},
    "colab_type": "code",
    "id": "fu4ouGJpTzwc",
    "outputId": "4bc4d5df-112a-4018-ce11-0910fecb20e2",
    "scrolled": true
   },
   "outputs": [
    {
     "name": "stdout",
     "output_type": "stream",
     "text": [
      "              precision    recall  f1-score   support\n",
      "\n",
      "           1       1.00      1.00      1.00       106\n",
      "           2       1.00      1.00      1.00        66\n",
      "           3       1.00      1.00      1.00        84\n",
      "           4       1.00      1.00      1.00        19\n",
      "\n",
      "    accuracy                           1.00       275\n",
      "   macro avg       1.00      1.00      1.00       275\n",
      "weighted avg       1.00      1.00      1.00       275\n",
      "\n"
     ]
    }
   ],
   "source": [
    "from sklearn.metrics import classification_report\n",
    "print(classification_report(y_train, y_pred_train))"
   ]
  },
  {
   "cell_type": "markdown",
   "metadata": {
    "colab_type": "text",
    "id": "_SerIgneTzwf"
   },
   "source": [
    "Confusion Matrix of test set\n"
   ]
  },
  {
   "cell_type": "code",
   "execution_count": 73,
   "metadata": {
    "colab": {},
    "colab_type": "code",
    "id": "Rpi3JYTVTzwg",
    "outputId": "554fb12e-03ad-455e-b89a-9f8db9f9b52d"
   },
   "outputs": [
    {
     "name": "stdout",
     "output_type": "stream",
     "text": [
      "[[39  7  0  0]\n",
      " [ 7 19  3  1]\n",
      " [ 3  3 32  0]\n",
      " [ 0  0  0  4]]\n"
     ]
    }
   ],
   "source": [
    "y_pred = LGB.predict(X_test)\n",
    "from sklearn.metrics import confusion_matrix\n",
    "confusion_matrix = confusion_matrix(y_test, y_pred)\n",
    "print(confusion_matrix)"
   ]
  },
  {
   "cell_type": "code",
   "execution_count": 74,
   "metadata": {
    "colab": {},
    "colab_type": "code",
    "id": "5VZpZNiPTzwj",
    "outputId": "22038642-7144-4bb7-d8c3-152bf32e08e6"
   },
   "outputs": [
    {
     "name": "stdout",
     "output_type": "stream",
     "text": [
      "              precision    recall  f1-score   support\n",
      "\n",
      "           1       0.80      0.85      0.82        46\n",
      "           2       0.66      0.63      0.64        30\n",
      "           3       0.91      0.84      0.88        38\n",
      "           4       0.80      1.00      0.89         4\n",
      "\n",
      "    accuracy                           0.80       118\n",
      "   macro avg       0.79      0.83      0.81       118\n",
      "weighted avg       0.80      0.80      0.80       118\n",
      "\n"
     ]
    }
   ],
   "source": [
    "from sklearn.metrics import classification_report\n",
    "print(classification_report(y_test, y_pred))"
   ]
  },
  {
   "cell_type": "markdown",
   "metadata": {
    "colab_type": "text",
    "id": "Q7nmI2H7Tzwk"
   },
   "source": [
    "# Cat BOOST"
   ]
  },
  {
   "cell_type": "code",
   "execution_count": 75,
   "metadata": {
    "colab": {},
    "colab_type": "code",
    "id": "-Btw9Fs8Tzwl",
    "outputId": "90e0dd9b-895a-4b3b-f162-db210a99c709"
   },
   "outputs": [
    {
     "name": "stdout",
     "output_type": "stream",
     "text": [
      "0:\tlearn: 1.3665560\ttotal: 148ms\tremaining: 2m 27s\n",
      "1:\tlearn: 1.3426094\ttotal: 234ms\tremaining: 1m 56s\n",
      "2:\tlearn: 1.3250671\ttotal: 316ms\tremaining: 1m 44s\n",
      "3:\tlearn: 1.3026843\ttotal: 395ms\tremaining: 1m 38s\n",
      "4:\tlearn: 1.2793238\ttotal: 495ms\tremaining: 1m 38s\n",
      "5:\tlearn: 1.2611143\ttotal: 596ms\tremaining: 1m 38s\n",
      "6:\tlearn: 1.2440581\ttotal: 677ms\tremaining: 1m 36s\n",
      "7:\tlearn: 1.2263877\ttotal: 768ms\tremaining: 1m 35s\n",
      "8:\tlearn: 1.2075932\ttotal: 862ms\tremaining: 1m 34s\n",
      "9:\tlearn: 1.1887973\ttotal: 976ms\tremaining: 1m 36s\n",
      "10:\tlearn: 1.1737944\ttotal: 1.06s\tremaining: 1m 35s\n",
      "11:\tlearn: 1.1567462\ttotal: 1.13s\tremaining: 1m 32s\n",
      "12:\tlearn: 1.1415825\ttotal: 1.22s\tremaining: 1m 32s\n",
      "13:\tlearn: 1.1281637\ttotal: 1.32s\tremaining: 1m 33s\n",
      "14:\tlearn: 1.1131922\ttotal: 1.42s\tremaining: 1m 33s\n",
      "15:\tlearn: 1.0999947\ttotal: 1.51s\tremaining: 1m 32s\n",
      "16:\tlearn: 1.0853985\ttotal: 1.6s\tremaining: 1m 32s\n",
      "17:\tlearn: 1.0725912\ttotal: 1.69s\tremaining: 1m 32s\n",
      "18:\tlearn: 1.0603859\ttotal: 1.78s\tremaining: 1m 32s\n",
      "19:\tlearn: 1.0485313\ttotal: 1.87s\tremaining: 1m 31s\n",
      "20:\tlearn: 1.0359357\ttotal: 1.97s\tremaining: 1m 31s\n",
      "21:\tlearn: 1.0253466\ttotal: 2.05s\tremaining: 1m 31s\n",
      "22:\tlearn: 1.0144713\ttotal: 2.12s\tremaining: 1m 29s\n",
      "23:\tlearn: 1.0037375\ttotal: 2.17s\tremaining: 1m 28s\n",
      "24:\tlearn: 0.9954329\ttotal: 2.22s\tremaining: 1m 26s\n",
      "25:\tlearn: 0.9863663\ttotal: 2.25s\tremaining: 1m 24s\n",
      "26:\tlearn: 0.9754231\ttotal: 2.31s\tremaining: 1m 23s\n",
      "27:\tlearn: 0.9651944\ttotal: 2.4s\tremaining: 1m 23s\n",
      "28:\tlearn: 0.9551039\ttotal: 2.44s\tremaining: 1m 21s\n",
      "29:\tlearn: 0.9465472\ttotal: 2.5s\tremaining: 1m 20s\n",
      "30:\tlearn: 0.9373785\ttotal: 2.6s\tremaining: 1m 21s\n",
      "31:\tlearn: 0.9289191\ttotal: 2.69s\tremaining: 1m 21s\n",
      "32:\tlearn: 0.9200059\ttotal: 2.78s\tremaining: 1m 21s\n",
      "33:\tlearn: 0.9104275\ttotal: 2.88s\tremaining: 1m 21s\n",
      "34:\tlearn: 0.9025242\ttotal: 2.97s\tremaining: 1m 21s\n",
      "35:\tlearn: 0.8953557\ttotal: 3.06s\tremaining: 1m 21s\n",
      "36:\tlearn: 0.8876808\ttotal: 3.15s\tremaining: 1m 21s\n",
      "37:\tlearn: 0.8796697\ttotal: 3.24s\tremaining: 1m 22s\n",
      "38:\tlearn: 0.8716238\ttotal: 3.34s\tremaining: 1m 22s\n",
      "39:\tlearn: 0.8618436\ttotal: 3.43s\tremaining: 1m 22s\n",
      "40:\tlearn: 0.8544933\ttotal: 3.53s\tremaining: 1m 22s\n",
      "41:\tlearn: 0.8467282\ttotal: 3.62s\tremaining: 1m 22s\n",
      "42:\tlearn: 0.8397720\ttotal: 3.71s\tremaining: 1m 22s\n",
      "43:\tlearn: 0.8334676\ttotal: 3.81s\tremaining: 1m 22s\n",
      "44:\tlearn: 0.8262891\ttotal: 3.91s\tremaining: 1m 22s\n",
      "45:\tlearn: 0.8196401\ttotal: 4s\tremaining: 1m 23s\n",
      "46:\tlearn: 0.8139987\ttotal: 4.1s\tremaining: 1m 23s\n",
      "47:\tlearn: 0.8072747\ttotal: 4.19s\tremaining: 1m 23s\n",
      "48:\tlearn: 0.8009388\ttotal: 4.29s\tremaining: 1m 23s\n",
      "49:\tlearn: 0.7962597\ttotal: 4.38s\tremaining: 1m 23s\n",
      "50:\tlearn: 0.7908052\ttotal: 4.47s\tremaining: 1m 23s\n",
      "51:\tlearn: 0.7848604\ttotal: 4.57s\tremaining: 1m 23s\n",
      "52:\tlearn: 0.7784758\ttotal: 4.66s\tremaining: 1m 23s\n",
      "53:\tlearn: 0.7728114\ttotal: 4.75s\tremaining: 1m 23s\n",
      "54:\tlearn: 0.7672699\ttotal: 4.86s\tremaining: 1m 23s\n",
      "55:\tlearn: 0.7619560\ttotal: 4.95s\tremaining: 1m 23s\n",
      "56:\tlearn: 0.7568246\ttotal: 5.04s\tremaining: 1m 23s\n",
      "57:\tlearn: 0.7532694\ttotal: 5.13s\tremaining: 1m 23s\n",
      "58:\tlearn: 0.7481551\ttotal: 5.22s\tremaining: 1m 23s\n",
      "59:\tlearn: 0.7437930\ttotal: 5.32s\tremaining: 1m 23s\n",
      "60:\tlearn: 0.7381372\ttotal: 5.41s\tremaining: 1m 23s\n",
      "61:\tlearn: 0.7333871\ttotal: 5.51s\tremaining: 1m 23s\n",
      "62:\tlearn: 0.7296654\ttotal: 5.6s\tremaining: 1m 23s\n",
      "63:\tlearn: 0.7248142\ttotal: 5.68s\tremaining: 1m 23s\n",
      "64:\tlearn: 0.7205173\ttotal: 5.79s\tremaining: 1m 23s\n",
      "65:\tlearn: 0.7153494\ttotal: 5.88s\tremaining: 1m 23s\n",
      "66:\tlearn: 0.7116831\ttotal: 5.97s\tremaining: 1m 23s\n",
      "67:\tlearn: 0.7074380\ttotal: 6.06s\tremaining: 1m 23s\n",
      "68:\tlearn: 0.7035260\ttotal: 6.16s\tremaining: 1m 23s\n",
      "69:\tlearn: 0.6992460\ttotal: 6.25s\tremaining: 1m 23s\n",
      "70:\tlearn: 0.6948713\ttotal: 6.34s\tremaining: 1m 22s\n",
      "71:\tlearn: 0.6907218\ttotal: 6.43s\tremaining: 1m 22s\n",
      "72:\tlearn: 0.6864685\ttotal: 6.52s\tremaining: 1m 22s\n",
      "73:\tlearn: 0.6811083\ttotal: 6.62s\tremaining: 1m 22s\n",
      "74:\tlearn: 0.6764213\ttotal: 6.72s\tremaining: 1m 22s\n",
      "75:\tlearn: 0.6728523\ttotal: 6.81s\tremaining: 1m 22s\n",
      "76:\tlearn: 0.6692279\ttotal: 6.9s\tremaining: 1m 22s\n",
      "77:\tlearn: 0.6659190\ttotal: 6.99s\tremaining: 1m 22s\n",
      "78:\tlearn: 0.6633182\ttotal: 7.02s\tremaining: 1m 21s\n",
      "79:\tlearn: 0.6595886\ttotal: 7.11s\tremaining: 1m 21s\n",
      "80:\tlearn: 0.6559327\ttotal: 7.2s\tremaining: 1m 21s\n",
      "81:\tlearn: 0.6522156\ttotal: 7.29s\tremaining: 1m 21s\n",
      "82:\tlearn: 0.6487198\ttotal: 7.38s\tremaining: 1m 21s\n",
      "83:\tlearn: 0.6451384\ttotal: 7.48s\tremaining: 1m 21s\n",
      "84:\tlearn: 0.6415383\ttotal: 7.56s\tremaining: 1m 21s\n",
      "85:\tlearn: 0.6388395\ttotal: 7.66s\tremaining: 1m 21s\n",
      "86:\tlearn: 0.6354007\ttotal: 7.74s\tremaining: 1m 21s\n",
      "87:\tlearn: 0.6327603\ttotal: 7.81s\tremaining: 1m 20s\n",
      "88:\tlearn: 0.6296575\ttotal: 7.9s\tremaining: 1m 20s\n",
      "89:\tlearn: 0.6262108\ttotal: 8s\tremaining: 1m 20s\n",
      "90:\tlearn: 0.6237676\ttotal: 8.09s\tremaining: 1m 20s\n",
      "91:\tlearn: 0.6204600\ttotal: 8.18s\tremaining: 1m 20s\n",
      "92:\tlearn: 0.6170977\ttotal: 8.26s\tremaining: 1m 20s\n",
      "93:\tlearn: 0.6138457\ttotal: 8.37s\tremaining: 1m 20s\n",
      "94:\tlearn: 0.6111439\ttotal: 8.46s\tremaining: 1m 20s\n",
      "95:\tlearn: 0.6087065\ttotal: 8.56s\tremaining: 1m 20s\n",
      "96:\tlearn: 0.6047106\ttotal: 8.65s\tremaining: 1m 20s\n",
      "97:\tlearn: 0.6022373\ttotal: 8.75s\tremaining: 1m 20s\n",
      "98:\tlearn: 0.5999023\ttotal: 8.85s\tremaining: 1m 20s\n",
      "99:\tlearn: 0.5981484\ttotal: 8.94s\tremaining: 1m 20s\n",
      "100:\tlearn: 0.5962254\ttotal: 9.04s\tremaining: 1m 20s\n",
      "101:\tlearn: 0.5934444\ttotal: 9.13s\tremaining: 1m 20s\n",
      "102:\tlearn: 0.5915428\ttotal: 9.22s\tremaining: 1m 20s\n",
      "103:\tlearn: 0.5883822\ttotal: 9.33s\tremaining: 1m 20s\n",
      "104:\tlearn: 0.5866091\ttotal: 9.37s\tremaining: 1m 19s\n",
      "105:\tlearn: 0.5837154\ttotal: 9.46s\tremaining: 1m 19s\n",
      "106:\tlearn: 0.5797428\ttotal: 9.55s\tremaining: 1m 19s\n",
      "107:\tlearn: 0.5773030\ttotal: 9.65s\tremaining: 1m 19s\n",
      "108:\tlearn: 0.5750463\ttotal: 9.75s\tremaining: 1m 19s\n",
      "109:\tlearn: 0.5728165\ttotal: 9.84s\tremaining: 1m 19s\n",
      "110:\tlearn: 0.5705919\ttotal: 9.94s\tremaining: 1m 19s\n",
      "111:\tlearn: 0.5677486\ttotal: 10s\tremaining: 1m 19s\n",
      "112:\tlearn: 0.5649020\ttotal: 10.1s\tremaining: 1m 19s\n",
      "113:\tlearn: 0.5624919\ttotal: 10.2s\tremaining: 1m 19s\n",
      "114:\tlearn: 0.5598245\ttotal: 10.3s\tremaining: 1m 19s\n",
      "115:\tlearn: 0.5573198\ttotal: 10.4s\tremaining: 1m 19s\n",
      "116:\tlearn: 0.5554624\ttotal: 10.5s\tremaining: 1m 19s\n",
      "117:\tlearn: 0.5527756\ttotal: 10.6s\tremaining: 1m 19s\n",
      "118:\tlearn: 0.5499322\ttotal: 10.7s\tremaining: 1m 19s\n",
      "119:\tlearn: 0.5473485\ttotal: 10.8s\tremaining: 1m 19s\n",
      "120:\tlearn: 0.5456872\ttotal: 10.9s\tremaining: 1m 19s\n",
      "121:\tlearn: 0.5435720\ttotal: 11s\tremaining: 1m 19s\n",
      "122:\tlearn: 0.5410726\ttotal: 11.1s\tremaining: 1m 18s\n",
      "123:\tlearn: 0.5385221\ttotal: 11.2s\tremaining: 1m 18s\n",
      "124:\tlearn: 0.5361764\ttotal: 11.3s\tremaining: 1m 18s\n",
      "125:\tlearn: 0.5335167\ttotal: 11.4s\tremaining: 1m 18s\n",
      "126:\tlearn: 0.5311526\ttotal: 11.5s\tremaining: 1m 18s\n",
      "127:\tlearn: 0.5292654\ttotal: 11.5s\tremaining: 1m 18s\n",
      "128:\tlearn: 0.5270830\ttotal: 11.6s\tremaining: 1m 18s\n",
      "129:\tlearn: 0.5246450\ttotal: 11.7s\tremaining: 1m 18s\n",
      "130:\tlearn: 0.5227740\ttotal: 11.8s\tremaining: 1m 18s\n",
      "131:\tlearn: 0.5200080\ttotal: 11.9s\tremaining: 1m 18s\n",
      "132:\tlearn: 0.5174304\ttotal: 12s\tremaining: 1m 18s\n",
      "133:\tlearn: 0.5158801\ttotal: 12.1s\tremaining: 1m 18s\n",
      "134:\tlearn: 0.5134794\ttotal: 12.2s\tremaining: 1m 17s\n",
      "135:\tlearn: 0.5124962\ttotal: 12.2s\tremaining: 1m 17s\n",
      "136:\tlearn: 0.5107151\ttotal: 12.2s\tremaining: 1m 16s\n",
      "137:\tlearn: 0.5080975\ttotal: 12.3s\tremaining: 1m 16s\n",
      "138:\tlearn: 0.5061593\ttotal: 12.3s\tremaining: 1m 16s\n",
      "139:\tlearn: 0.5037023\ttotal: 12.4s\tremaining: 1m 15s\n",
      "140:\tlearn: 0.5018483\ttotal: 12.4s\tremaining: 1m 15s\n",
      "141:\tlearn: 0.4994863\ttotal: 12.5s\tremaining: 1m 15s\n",
      "142:\tlearn: 0.4972601\ttotal: 12.5s\tremaining: 1m 15s\n",
      "143:\tlearn: 0.4957970\ttotal: 12.6s\tremaining: 1m 14s\n",
      "144:\tlearn: 0.4937503\ttotal: 12.6s\tremaining: 1m 14s\n",
      "145:\tlearn: 0.4925086\ttotal: 12.7s\tremaining: 1m 14s\n",
      "146:\tlearn: 0.4903093\ttotal: 12.8s\tremaining: 1m 14s\n",
      "147:\tlearn: 0.4885918\ttotal: 12.9s\tremaining: 1m 13s\n",
      "148:\tlearn: 0.4872799\ttotal: 12.9s\tremaining: 1m 13s\n",
      "149:\tlearn: 0.4853896\ttotal: 12.9s\tremaining: 1m 13s\n",
      "150:\tlearn: 0.4845296\ttotal: 13s\tremaining: 1m 12s\n",
      "151:\tlearn: 0.4823589\ttotal: 13s\tremaining: 1m 12s\n",
      "152:\tlearn: 0.4815191\ttotal: 13s\tremaining: 1m 12s\n",
      "153:\tlearn: 0.4795022\ttotal: 13.1s\tremaining: 1m 11s\n",
      "154:\tlearn: 0.4773549\ttotal: 13.1s\tremaining: 1m 11s\n",
      "155:\tlearn: 0.4755210\ttotal: 13.2s\tremaining: 1m 11s\n",
      "156:\tlearn: 0.4733024\ttotal: 13.3s\tremaining: 1m 11s\n",
      "157:\tlearn: 0.4712532\ttotal: 13.4s\tremaining: 1m 11s\n",
      "158:\tlearn: 0.4689384\ttotal: 13.5s\tremaining: 1m 11s\n"
     ]
    },
    {
     "name": "stdout",
     "output_type": "stream",
     "text": [
      "159:\tlearn: 0.4668673\ttotal: 13.6s\tremaining: 1m 11s\n",
      "160:\tlearn: 0.4643303\ttotal: 13.7s\tremaining: 1m 11s\n",
      "161:\tlearn: 0.4627145\ttotal: 13.7s\tremaining: 1m 11s\n",
      "162:\tlearn: 0.4614726\ttotal: 13.8s\tremaining: 1m 11s\n",
      "163:\tlearn: 0.4600907\ttotal: 13.9s\tremaining: 1m 11s\n",
      "164:\tlearn: 0.4579551\ttotal: 14s\tremaining: 1m 11s\n",
      "165:\tlearn: 0.4559516\ttotal: 14.1s\tremaining: 1m 10s\n",
      "166:\tlearn: 0.4540119\ttotal: 14.2s\tremaining: 1m 10s\n",
      "167:\tlearn: 0.4523024\ttotal: 14.3s\tremaining: 1m 10s\n",
      "168:\tlearn: 0.4500752\ttotal: 14.4s\tremaining: 1m 10s\n",
      "169:\tlearn: 0.4482068\ttotal: 14.5s\tremaining: 1m 10s\n",
      "170:\tlearn: 0.4474807\ttotal: 14.5s\tremaining: 1m 10s\n",
      "171:\tlearn: 0.4460594\ttotal: 14.6s\tremaining: 1m 10s\n",
      "172:\tlearn: 0.4446447\ttotal: 14.7s\tremaining: 1m 10s\n",
      "173:\tlearn: 0.4422568\ttotal: 14.8s\tremaining: 1m 10s\n",
      "174:\tlearn: 0.4404793\ttotal: 14.9s\tremaining: 1m 10s\n",
      "175:\tlearn: 0.4390612\ttotal: 15s\tremaining: 1m 10s\n",
      "176:\tlearn: 0.4369715\ttotal: 15.1s\tremaining: 1m 10s\n",
      "177:\tlearn: 0.4356954\ttotal: 15.1s\tremaining: 1m 9s\n",
      "178:\tlearn: 0.4342927\ttotal: 15.2s\tremaining: 1m 9s\n",
      "179:\tlearn: 0.4328447\ttotal: 15.3s\tremaining: 1m 9s\n",
      "180:\tlearn: 0.4317003\ttotal: 15.4s\tremaining: 1m 9s\n",
      "181:\tlearn: 0.4303676\ttotal: 15.5s\tremaining: 1m 9s\n",
      "182:\tlearn: 0.4293384\ttotal: 15.6s\tremaining: 1m 9s\n",
      "183:\tlearn: 0.4281349\ttotal: 15.7s\tremaining: 1m 9s\n",
      "184:\tlearn: 0.4265617\ttotal: 15.8s\tremaining: 1m 9s\n",
      "185:\tlearn: 0.4250137\ttotal: 15.9s\tremaining: 1m 9s\n",
      "186:\tlearn: 0.4231131\ttotal: 16s\tremaining: 1m 9s\n",
      "187:\tlearn: 0.4216388\ttotal: 16.1s\tremaining: 1m 9s\n",
      "188:\tlearn: 0.4204566\ttotal: 16.2s\tremaining: 1m 9s\n",
      "189:\tlearn: 0.4190458\ttotal: 16.3s\tremaining: 1m 9s\n",
      "190:\tlearn: 0.4179354\ttotal: 16.4s\tremaining: 1m 9s\n",
      "191:\tlearn: 0.4168961\ttotal: 16.4s\tremaining: 1m 9s\n",
      "192:\tlearn: 0.4154883\ttotal: 16.5s\tremaining: 1m 9s\n",
      "193:\tlearn: 0.4140412\ttotal: 16.6s\tremaining: 1m 9s\n",
      "194:\tlearn: 0.4127180\ttotal: 16.7s\tremaining: 1m 9s\n",
      "195:\tlearn: 0.4113154\ttotal: 16.8s\tremaining: 1m 8s\n",
      "196:\tlearn: 0.4095826\ttotal: 16.9s\tremaining: 1m 8s\n",
      "197:\tlearn: 0.4077511\ttotal: 17s\tremaining: 1m 8s\n",
      "198:\tlearn: 0.4061175\ttotal: 17.1s\tremaining: 1m 8s\n",
      "199:\tlearn: 0.4049088\ttotal: 17.2s\tremaining: 1m 8s\n",
      "200:\tlearn: 0.4034250\ttotal: 17.3s\tremaining: 1m 8s\n",
      "201:\tlearn: 0.4016699\ttotal: 17.4s\tremaining: 1m 8s\n",
      "202:\tlearn: 0.4005751\ttotal: 17.5s\tremaining: 1m 8s\n",
      "203:\tlearn: 0.3990911\ttotal: 17.6s\tremaining: 1m 8s\n",
      "204:\tlearn: 0.3973564\ttotal: 17.6s\tremaining: 1m 8s\n",
      "205:\tlearn: 0.3956076\ttotal: 17.7s\tremaining: 1m 8s\n",
      "206:\tlearn: 0.3945643\ttotal: 17.8s\tremaining: 1m 8s\n",
      "207:\tlearn: 0.3933271\ttotal: 17.9s\tremaining: 1m 8s\n",
      "208:\tlearn: 0.3918761\ttotal: 18s\tremaining: 1m 8s\n",
      "209:\tlearn: 0.3909291\ttotal: 18.1s\tremaining: 1m 8s\n",
      "210:\tlearn: 0.3902266\ttotal: 18.2s\tremaining: 1m 8s\n",
      "211:\tlearn: 0.3885234\ttotal: 18.3s\tremaining: 1m 8s\n",
      "212:\tlearn: 0.3870969\ttotal: 18.4s\tremaining: 1m 7s\n",
      "213:\tlearn: 0.3854673\ttotal: 18.5s\tremaining: 1m 7s\n",
      "214:\tlearn: 0.3836634\ttotal: 18.6s\tremaining: 1m 7s\n",
      "215:\tlearn: 0.3823131\ttotal: 18.7s\tremaining: 1m 7s\n",
      "216:\tlearn: 0.3809269\ttotal: 18.8s\tremaining: 1m 7s\n",
      "217:\tlearn: 0.3794915\ttotal: 18.9s\tremaining: 1m 7s\n",
      "218:\tlearn: 0.3778603\ttotal: 18.9s\tremaining: 1m 7s\n",
      "219:\tlearn: 0.3765820\ttotal: 19s\tremaining: 1m 7s\n",
      "220:\tlearn: 0.3752487\ttotal: 19.1s\tremaining: 1m 7s\n",
      "221:\tlearn: 0.3738760\ttotal: 19.2s\tremaining: 1m 7s\n",
      "222:\tlearn: 0.3728290\ttotal: 19.3s\tremaining: 1m 7s\n",
      "223:\tlearn: 0.3715802\ttotal: 19.4s\tremaining: 1m 7s\n",
      "224:\tlearn: 0.3700541\ttotal: 19.5s\tremaining: 1m 7s\n",
      "225:\tlearn: 0.3690428\ttotal: 19.6s\tremaining: 1m 7s\n",
      "226:\tlearn: 0.3675727\ttotal: 19.7s\tremaining: 1m 7s\n",
      "227:\tlearn: 0.3662523\ttotal: 19.8s\tremaining: 1m 6s\n",
      "228:\tlearn: 0.3648411\ttotal: 19.9s\tremaining: 1m 6s\n",
      "229:\tlearn: 0.3639293\ttotal: 20s\tremaining: 1m 6s\n",
      "230:\tlearn: 0.3626272\ttotal: 20.1s\tremaining: 1m 6s\n",
      "231:\tlearn: 0.3611640\ttotal: 20.1s\tremaining: 1m 6s\n",
      "232:\tlearn: 0.3601262\ttotal: 20.2s\tremaining: 1m 6s\n",
      "233:\tlearn: 0.3588137\ttotal: 20.3s\tremaining: 1m 6s\n",
      "234:\tlearn: 0.3574555\ttotal: 20.4s\tremaining: 1m 6s\n",
      "235:\tlearn: 0.3567833\ttotal: 20.5s\tremaining: 1m 6s\n",
      "236:\tlearn: 0.3554047\ttotal: 20.6s\tremaining: 1m 6s\n",
      "237:\tlearn: 0.3542932\ttotal: 20.7s\tremaining: 1m 6s\n",
      "238:\tlearn: 0.3530145\ttotal: 20.8s\tremaining: 1m 6s\n",
      "239:\tlearn: 0.3520068\ttotal: 20.9s\tremaining: 1m 6s\n",
      "240:\tlearn: 0.3507692\ttotal: 21s\tremaining: 1m 6s\n",
      "241:\tlearn: 0.3496152\ttotal: 21.1s\tremaining: 1m 6s\n",
      "242:\tlearn: 0.3484054\ttotal: 21.2s\tremaining: 1m 5s\n",
      "243:\tlearn: 0.3471885\ttotal: 21.3s\tremaining: 1m 5s\n",
      "244:\tlearn: 0.3458392\ttotal: 21.4s\tremaining: 1m 5s\n",
      "245:\tlearn: 0.3449321\ttotal: 21.5s\tremaining: 1m 5s\n",
      "246:\tlearn: 0.3439337\ttotal: 21.5s\tremaining: 1m 5s\n",
      "247:\tlearn: 0.3432080\ttotal: 21.6s\tremaining: 1m 5s\n",
      "248:\tlearn: 0.3422837\ttotal: 21.7s\tremaining: 1m 5s\n",
      "249:\tlearn: 0.3413494\ttotal: 21.8s\tremaining: 1m 5s\n",
      "250:\tlearn: 0.3401271\ttotal: 21.9s\tremaining: 1m 5s\n",
      "251:\tlearn: 0.3390045\ttotal: 22s\tremaining: 1m 5s\n",
      "252:\tlearn: 0.3375140\ttotal: 22.1s\tremaining: 1m 5s\n",
      "253:\tlearn: 0.3366190\ttotal: 22.2s\tremaining: 1m 5s\n",
      "254:\tlearn: 0.3349765\ttotal: 22.3s\tremaining: 1m 5s\n",
      "255:\tlearn: 0.3343818\ttotal: 22.4s\tremaining: 1m 5s\n",
      "256:\tlearn: 0.3332925\ttotal: 22.5s\tremaining: 1m 4s\n",
      "257:\tlearn: 0.3329012\ttotal: 22.5s\tremaining: 1m 4s\n",
      "258:\tlearn: 0.3319274\ttotal: 22.6s\tremaining: 1m 4s\n",
      "259:\tlearn: 0.3313077\ttotal: 22.7s\tremaining: 1m 4s\n",
      "260:\tlearn: 0.3301818\ttotal: 22.8s\tremaining: 1m 4s\n",
      "261:\tlearn: 0.3288859\ttotal: 22.9s\tremaining: 1m 4s\n",
      "262:\tlearn: 0.3283649\ttotal: 23s\tremaining: 1m 4s\n",
      "263:\tlearn: 0.3273119\ttotal: 23.1s\tremaining: 1m 4s\n",
      "264:\tlearn: 0.3265318\ttotal: 23.2s\tremaining: 1m 4s\n",
      "265:\tlearn: 0.3253035\ttotal: 23.3s\tremaining: 1m 4s\n",
      "266:\tlearn: 0.3239149\ttotal: 23.4s\tremaining: 1m 4s\n",
      "267:\tlearn: 0.3229175\ttotal: 23.5s\tremaining: 1m 4s\n",
      "268:\tlearn: 0.3217678\ttotal: 23.6s\tremaining: 1m 4s\n",
      "269:\tlearn: 0.3209412\ttotal: 23.7s\tremaining: 1m 3s\n",
      "270:\tlearn: 0.3197631\ttotal: 23.7s\tremaining: 1m 3s\n",
      "271:\tlearn: 0.3188397\ttotal: 23.8s\tremaining: 1m 3s\n",
      "272:\tlearn: 0.3174504\ttotal: 23.9s\tremaining: 1m 3s\n",
      "273:\tlearn: 0.3162593\ttotal: 24s\tremaining: 1m 3s\n",
      "274:\tlearn: 0.3154897\ttotal: 24.1s\tremaining: 1m 3s\n",
      "275:\tlearn: 0.3142684\ttotal: 24.2s\tremaining: 1m 3s\n",
      "276:\tlearn: 0.3132413\ttotal: 24.3s\tremaining: 1m 3s\n",
      "277:\tlearn: 0.3122043\ttotal: 24.4s\tremaining: 1m 3s\n",
      "278:\tlearn: 0.3110419\ttotal: 24.5s\tremaining: 1m 3s\n",
      "279:\tlearn: 0.3100281\ttotal: 24.6s\tremaining: 1m 3s\n",
      "280:\tlearn: 0.3087854\ttotal: 24.7s\tremaining: 1m 3s\n",
      "281:\tlearn: 0.3077288\ttotal: 24.8s\tremaining: 1m 3s\n",
      "282:\tlearn: 0.3064757\ttotal: 24.9s\tremaining: 1m 3s\n",
      "283:\tlearn: 0.3053726\ttotal: 25s\tremaining: 1m 2s\n",
      "284:\tlearn: 0.3044838\ttotal: 25.1s\tremaining: 1m 2s\n",
      "285:\tlearn: 0.3034931\ttotal: 25.2s\tremaining: 1m 2s\n",
      "286:\tlearn: 0.3027208\ttotal: 25.3s\tremaining: 1m 2s\n",
      "287:\tlearn: 0.3018877\ttotal: 25.3s\tremaining: 1m 2s\n",
      "288:\tlearn: 0.3009683\ttotal: 25.4s\tremaining: 1m 2s\n",
      "289:\tlearn: 0.2999526\ttotal: 25.5s\tremaining: 1m 2s\n",
      "290:\tlearn: 0.2989007\ttotal: 25.7s\tremaining: 1m 2s\n",
      "291:\tlearn: 0.2977862\ttotal: 25.7s\tremaining: 1m 2s\n",
      "292:\tlearn: 0.2969692\ttotal: 25.8s\tremaining: 1m 2s\n",
      "293:\tlearn: 0.2961071\ttotal: 25.9s\tremaining: 1m 2s\n",
      "294:\tlearn: 0.2952757\ttotal: 26s\tremaining: 1m 2s\n",
      "295:\tlearn: 0.2944220\ttotal: 26.1s\tremaining: 1m 2s\n",
      "296:\tlearn: 0.2936897\ttotal: 26.2s\tremaining: 1m 2s\n",
      "297:\tlearn: 0.2930919\ttotal: 26.3s\tremaining: 1m 1s\n",
      "298:\tlearn: 0.2919657\ttotal: 26.4s\tremaining: 1m 1s\n",
      "299:\tlearn: 0.2910940\ttotal: 26.5s\tremaining: 1m 1s\n",
      "300:\tlearn: 0.2901057\ttotal: 26.6s\tremaining: 1m 1s\n",
      "301:\tlearn: 0.2893964\ttotal: 26.7s\tremaining: 1m 1s\n",
      "302:\tlearn: 0.2889072\ttotal: 26.7s\tremaining: 1m 1s\n",
      "303:\tlearn: 0.2878711\ttotal: 26.8s\tremaining: 1m 1s\n",
      "304:\tlearn: 0.2869048\ttotal: 26.9s\tremaining: 1m 1s\n",
      "305:\tlearn: 0.2861456\ttotal: 27s\tremaining: 1m 1s\n",
      "306:\tlearn: 0.2853896\ttotal: 27.1s\tremaining: 1m 1s\n",
      "307:\tlearn: 0.2846024\ttotal: 27.2s\tremaining: 1m 1s\n",
      "308:\tlearn: 0.2834333\ttotal: 27.3s\tremaining: 1m 1s\n",
      "309:\tlearn: 0.2824286\ttotal: 27.4s\tremaining: 1m\n",
      "310:\tlearn: 0.2815976\ttotal: 27.5s\tremaining: 1m\n",
      "311:\tlearn: 0.2808857\ttotal: 27.6s\tremaining: 1m\n",
      "312:\tlearn: 0.2802165\ttotal: 27.7s\tremaining: 1m\n",
      "313:\tlearn: 0.2791849\ttotal: 27.7s\tremaining: 1m\n",
      "314:\tlearn: 0.2786053\ttotal: 27.8s\tremaining: 1m\n",
      "315:\tlearn: 0.2777060\ttotal: 27.9s\tremaining: 1m\n",
      "316:\tlearn: 0.2768166\ttotal: 28s\tremaining: 1m\n",
      "317:\tlearn: 0.2762550\ttotal: 28.1s\tremaining: 1m\n",
      "318:\tlearn: 0.2753588\ttotal: 28.1s\tremaining: 1m\n"
     ]
    },
    {
     "name": "stdout",
     "output_type": "stream",
     "text": [
      "319:\tlearn: 0.2746216\ttotal: 28.2s\tremaining: 59.9s\n",
      "320:\tlearn: 0.2741361\ttotal: 28.2s\tremaining: 59.7s\n",
      "321:\tlearn: 0.2731803\ttotal: 28.3s\tremaining: 59.5s\n",
      "322:\tlearn: 0.2723186\ttotal: 28.3s\tremaining: 59.4s\n",
      "323:\tlearn: 0.2715387\ttotal: 28.4s\tremaining: 59.2s\n",
      "324:\tlearn: 0.2706288\ttotal: 28.4s\tremaining: 59s\n",
      "325:\tlearn: 0.2703078\ttotal: 28.5s\tremaining: 59s\n",
      "326:\tlearn: 0.2698823\ttotal: 28.6s\tremaining: 58.9s\n",
      "327:\tlearn: 0.2690255\ttotal: 28.7s\tremaining: 58.7s\n",
      "328:\tlearn: 0.2682972\ttotal: 28.7s\tremaining: 58.5s\n",
      "329:\tlearn: 0.2675084\ttotal: 28.7s\tremaining: 58.4s\n",
      "330:\tlearn: 0.2667865\ttotal: 28.8s\tremaining: 58.2s\n",
      "331:\tlearn: 0.2656480\ttotal: 28.9s\tremaining: 58.1s\n",
      "332:\tlearn: 0.2649850\ttotal: 28.9s\tremaining: 57.9s\n",
      "333:\tlearn: 0.2644942\ttotal: 29s\tremaining: 57.7s\n",
      "334:\tlearn: 0.2637162\ttotal: 29s\tremaining: 57.6s\n",
      "335:\tlearn: 0.2631609\ttotal: 29.1s\tremaining: 57.6s\n",
      "336:\tlearn: 0.2621806\ttotal: 29.2s\tremaining: 57.5s\n",
      "337:\tlearn: 0.2613208\ttotal: 29.3s\tremaining: 57.4s\n",
      "338:\tlearn: 0.2607433\ttotal: 29.4s\tremaining: 57.3s\n",
      "339:\tlearn: 0.2598218\ttotal: 29.5s\tremaining: 57.3s\n",
      "340:\tlearn: 0.2593810\ttotal: 29.6s\tremaining: 57.2s\n",
      "341:\tlearn: 0.2586517\ttotal: 29.7s\tremaining: 57.2s\n",
      "342:\tlearn: 0.2578727\ttotal: 29.8s\tremaining: 57.1s\n",
      "343:\tlearn: 0.2569622\ttotal: 29.9s\tremaining: 57s\n",
      "344:\tlearn: 0.2561808\ttotal: 30s\tremaining: 56.9s\n",
      "345:\tlearn: 0.2552032\ttotal: 30.1s\tremaining: 56.9s\n",
      "346:\tlearn: 0.2547484\ttotal: 30.2s\tremaining: 56.8s\n",
      "347:\tlearn: 0.2539947\ttotal: 30.3s\tremaining: 56.7s\n",
      "348:\tlearn: 0.2535474\ttotal: 30.4s\tremaining: 56.7s\n",
      "349:\tlearn: 0.2527730\ttotal: 30.5s\tremaining: 56.6s\n",
      "350:\tlearn: 0.2520753\ttotal: 30.6s\tremaining: 56.5s\n",
      "351:\tlearn: 0.2514527\ttotal: 30.7s\tremaining: 56.4s\n",
      "352:\tlearn: 0.2508748\ttotal: 30.8s\tremaining: 56.4s\n",
      "353:\tlearn: 0.2499011\ttotal: 30.9s\tremaining: 56.3s\n",
      "354:\tlearn: 0.2491083\ttotal: 31s\tremaining: 56.3s\n",
      "355:\tlearn: 0.2484654\ttotal: 31.1s\tremaining: 56.2s\n",
      "356:\tlearn: 0.2480218\ttotal: 31.1s\tremaining: 56.1s\n",
      "357:\tlearn: 0.2474176\ttotal: 31.2s\tremaining: 56s\n",
      "358:\tlearn: 0.2470052\ttotal: 31.3s\tremaining: 55.9s\n",
      "359:\tlearn: 0.2464360\ttotal: 31.4s\tremaining: 55.9s\n",
      "360:\tlearn: 0.2460327\ttotal: 31.5s\tremaining: 55.8s\n",
      "361:\tlearn: 0.2453764\ttotal: 31.6s\tremaining: 55.7s\n",
      "362:\tlearn: 0.2449116\ttotal: 31.7s\tremaining: 55.6s\n",
      "363:\tlearn: 0.2442086\ttotal: 31.8s\tremaining: 55.5s\n",
      "364:\tlearn: 0.2436012\ttotal: 31.9s\tremaining: 55.5s\n",
      "365:\tlearn: 0.2431088\ttotal: 32s\tremaining: 55.4s\n",
      "366:\tlearn: 0.2426515\ttotal: 32.1s\tremaining: 55.3s\n",
      "367:\tlearn: 0.2419975\ttotal: 32.2s\tremaining: 55.2s\n",
      "368:\tlearn: 0.2415778\ttotal: 32.2s\tremaining: 55.1s\n",
      "369:\tlearn: 0.2411999\ttotal: 32.3s\tremaining: 55.1s\n",
      "370:\tlearn: 0.2408540\ttotal: 32.4s\tremaining: 55s\n",
      "371:\tlearn: 0.2403197\ttotal: 32.5s\tremaining: 54.9s\n",
      "372:\tlearn: 0.2396852\ttotal: 32.6s\tremaining: 54.8s\n",
      "373:\tlearn: 0.2390161\ttotal: 32.7s\tremaining: 54.7s\n",
      "374:\tlearn: 0.2385926\ttotal: 32.8s\tremaining: 54.7s\n",
      "375:\tlearn: 0.2378897\ttotal: 32.9s\tremaining: 54.6s\n",
      "376:\tlearn: 0.2369465\ttotal: 33s\tremaining: 54.5s\n",
      "377:\tlearn: 0.2363857\ttotal: 33.1s\tremaining: 54.4s\n",
      "378:\tlearn: 0.2355414\ttotal: 33.2s\tremaining: 54.3s\n",
      "379:\tlearn: 0.2350384\ttotal: 33.3s\tremaining: 54.3s\n",
      "380:\tlearn: 0.2345834\ttotal: 33.3s\tremaining: 54.2s\n",
      "381:\tlearn: 0.2338911\ttotal: 33.4s\tremaining: 54.1s\n",
      "382:\tlearn: 0.2333583\ttotal: 33.5s\tremaining: 54s\n",
      "383:\tlearn: 0.2327520\ttotal: 33.6s\tremaining: 53.9s\n",
      "384:\tlearn: 0.2322596\ttotal: 33.7s\tremaining: 53.9s\n",
      "385:\tlearn: 0.2318624\ttotal: 33.8s\tremaining: 53.8s\n",
      "386:\tlearn: 0.2313777\ttotal: 33.9s\tremaining: 53.7s\n",
      "387:\tlearn: 0.2307128\ttotal: 34s\tremaining: 53.6s\n",
      "388:\tlearn: 0.2304753\ttotal: 34.1s\tremaining: 53.5s\n",
      "389:\tlearn: 0.2300547\ttotal: 34.2s\tremaining: 53.5s\n",
      "390:\tlearn: 0.2294589\ttotal: 34.3s\tremaining: 53.4s\n",
      "391:\tlearn: 0.2290487\ttotal: 34.4s\tremaining: 53.3s\n",
      "392:\tlearn: 0.2285228\ttotal: 34.5s\tremaining: 53.2s\n",
      "393:\tlearn: 0.2279258\ttotal: 34.5s\tremaining: 53.1s\n",
      "394:\tlearn: 0.2274029\ttotal: 34.6s\tremaining: 53.1s\n",
      "395:\tlearn: 0.2267159\ttotal: 34.7s\tremaining: 53s\n",
      "396:\tlearn: 0.2261808\ttotal: 34.8s\tremaining: 52.9s\n",
      "397:\tlearn: 0.2256118\ttotal: 34.9s\tremaining: 52.8s\n",
      "398:\tlearn: 0.2253214\ttotal: 35s\tremaining: 52.7s\n",
      "399:\tlearn: 0.2246798\ttotal: 35.1s\tremaining: 52.6s\n",
      "400:\tlearn: 0.2240764\ttotal: 35.2s\tremaining: 52.6s\n",
      "401:\tlearn: 0.2236753\ttotal: 35.3s\tremaining: 52.5s\n",
      "402:\tlearn: 0.2234281\ttotal: 35.4s\tremaining: 52.4s\n",
      "403:\tlearn: 0.2229884\ttotal: 35.5s\tremaining: 52.3s\n",
      "404:\tlearn: 0.2224711\ttotal: 35.6s\tremaining: 52.3s\n",
      "405:\tlearn: 0.2221759\ttotal: 35.7s\tremaining: 52.2s\n",
      "406:\tlearn: 0.2215898\ttotal: 35.8s\tremaining: 52.1s\n",
      "407:\tlearn: 0.2211096\ttotal: 35.8s\tremaining: 52s\n",
      "408:\tlearn: 0.2206639\ttotal: 36s\tremaining: 52s\n",
      "409:\tlearn: 0.2201279\ttotal: 36.1s\tremaining: 51.9s\n",
      "410:\tlearn: 0.2195185\ttotal: 36.2s\tremaining: 51.8s\n",
      "411:\tlearn: 0.2190972\ttotal: 36.2s\tremaining: 51.7s\n",
      "412:\tlearn: 0.2189371\ttotal: 36.3s\tremaining: 51.6s\n",
      "413:\tlearn: 0.2185146\ttotal: 36.4s\tremaining: 51.6s\n",
      "414:\tlearn: 0.2180801\ttotal: 36.5s\tremaining: 51.5s\n",
      "415:\tlearn: 0.2175283\ttotal: 36.6s\tremaining: 51.4s\n",
      "416:\tlearn: 0.2171124\ttotal: 36.7s\tremaining: 51.3s\n",
      "417:\tlearn: 0.2165773\ttotal: 36.8s\tremaining: 51.2s\n",
      "418:\tlearn: 0.2160373\ttotal: 36.9s\tremaining: 51.1s\n",
      "419:\tlearn: 0.2154501\ttotal: 37s\tremaining: 51.1s\n",
      "420:\tlearn: 0.2147854\ttotal: 37.1s\tremaining: 51s\n",
      "421:\tlearn: 0.2142999\ttotal: 37.2s\tremaining: 50.9s\n",
      "422:\tlearn: 0.2139679\ttotal: 37.2s\tremaining: 50.8s\n",
      "423:\tlearn: 0.2134206\ttotal: 37.3s\tremaining: 50.7s\n",
      "424:\tlearn: 0.2130117\ttotal: 37.4s\tremaining: 50.6s\n",
      "425:\tlearn: 0.2123245\ttotal: 37.5s\tremaining: 50.6s\n",
      "426:\tlearn: 0.2118152\ttotal: 37.6s\tremaining: 50.5s\n",
      "427:\tlearn: 0.2114548\ttotal: 37.7s\tremaining: 50.4s\n",
      "428:\tlearn: 0.2108974\ttotal: 37.8s\tremaining: 50.3s\n",
      "429:\tlearn: 0.2104686\ttotal: 37.9s\tremaining: 50.2s\n",
      "430:\tlearn: 0.2100886\ttotal: 38s\tremaining: 50.2s\n",
      "431:\tlearn: 0.2094543\ttotal: 38.1s\tremaining: 50.1s\n",
      "432:\tlearn: 0.2087319\ttotal: 38.2s\tremaining: 50s\n",
      "433:\tlearn: 0.2083903\ttotal: 38.3s\tremaining: 49.9s\n",
      "434:\tlearn: 0.2078418\ttotal: 38.4s\tremaining: 49.8s\n",
      "435:\tlearn: 0.2074881\ttotal: 38.4s\tremaining: 49.7s\n",
      "436:\tlearn: 0.2069531\ttotal: 38.5s\tremaining: 49.6s\n",
      "437:\tlearn: 0.2063296\ttotal: 38.6s\tremaining: 49.6s\n",
      "438:\tlearn: 0.2058052\ttotal: 38.7s\tremaining: 49.5s\n",
      "439:\tlearn: 0.2055093\ttotal: 38.8s\tremaining: 49.4s\n",
      "440:\tlearn: 0.2049642\ttotal: 38.9s\tremaining: 49.3s\n",
      "441:\tlearn: 0.2044045\ttotal: 38.9s\tremaining: 49.2s\n",
      "442:\tlearn: 0.2039906\ttotal: 39s\tremaining: 49.1s\n",
      "443:\tlearn: 0.2036474\ttotal: 39.1s\tremaining: 49s\n",
      "444:\tlearn: 0.2030422\ttotal: 39.2s\tremaining: 48.9s\n",
      "445:\tlearn: 0.2025677\ttotal: 39.3s\tremaining: 48.8s\n",
      "446:\tlearn: 0.2020700\ttotal: 39.4s\tremaining: 48.8s\n",
      "447:\tlearn: 0.2018736\ttotal: 39.5s\tremaining: 48.7s\n",
      "448:\tlearn: 0.2013392\ttotal: 39.6s\tremaining: 48.6s\n",
      "449:\tlearn: 0.2010065\ttotal: 39.7s\tremaining: 48.5s\n",
      "450:\tlearn: 0.2005100\ttotal: 39.8s\tremaining: 48.4s\n",
      "451:\tlearn: 0.2001965\ttotal: 39.9s\tremaining: 48.3s\n",
      "452:\tlearn: 0.1998002\ttotal: 40s\tremaining: 48.3s\n",
      "453:\tlearn: 0.1993394\ttotal: 40.1s\tremaining: 48.2s\n",
      "454:\tlearn: 0.1991782\ttotal: 40.2s\tremaining: 48.1s\n",
      "455:\tlearn: 0.1988041\ttotal: 40.3s\tremaining: 48s\n",
      "456:\tlearn: 0.1983210\ttotal: 40.4s\tremaining: 48s\n",
      "457:\tlearn: 0.1978380\ttotal: 40.5s\tremaining: 47.9s\n",
      "458:\tlearn: 0.1975897\ttotal: 40.6s\tremaining: 47.8s\n",
      "459:\tlearn: 0.1971573\ttotal: 40.7s\tremaining: 47.7s\n",
      "460:\tlearn: 0.1965991\ttotal: 40.7s\tremaining: 47.6s\n",
      "461:\tlearn: 0.1961430\ttotal: 40.8s\tremaining: 47.6s\n",
      "462:\tlearn: 0.1954831\ttotal: 40.9s\tremaining: 47.5s\n",
      "463:\tlearn: 0.1951788\ttotal: 41s\tremaining: 47.4s\n",
      "464:\tlearn: 0.1948277\ttotal: 41.1s\tremaining: 47.3s\n",
      "465:\tlearn: 0.1943669\ttotal: 41.2s\tremaining: 47.2s\n",
      "466:\tlearn: 0.1938875\ttotal: 41.3s\tremaining: 47.1s\n",
      "467:\tlearn: 0.1932074\ttotal: 41.4s\tremaining: 47s\n",
      "468:\tlearn: 0.1930005\ttotal: 41.5s\tremaining: 47s\n",
      "469:\tlearn: 0.1925122\ttotal: 41.6s\tremaining: 46.9s\n",
      "470:\tlearn: 0.1921415\ttotal: 41.7s\tremaining: 46.8s\n",
      "471:\tlearn: 0.1916998\ttotal: 41.8s\tremaining: 46.7s\n",
      "472:\tlearn: 0.1913042\ttotal: 41.9s\tremaining: 46.6s\n",
      "473:\tlearn: 0.1908219\ttotal: 41.9s\tremaining: 46.6s\n",
      "474:\tlearn: 0.1906171\ttotal: 42s\tremaining: 46.5s\n",
      "475:\tlearn: 0.1901648\ttotal: 42.1s\tremaining: 46.4s\n",
      "476:\tlearn: 0.1898758\ttotal: 42.2s\tremaining: 46.3s\n",
      "477:\tlearn: 0.1895862\ttotal: 42.3s\tremaining: 46.2s\n",
      "478:\tlearn: 0.1892349\ttotal: 42.4s\tremaining: 46.1s\n"
     ]
    },
    {
     "name": "stdout",
     "output_type": "stream",
     "text": [
      "479:\tlearn: 0.1888772\ttotal: 42.5s\tremaining: 46s\n",
      "480:\tlearn: 0.1886124\ttotal: 42.6s\tremaining: 46s\n",
      "481:\tlearn: 0.1881266\ttotal: 42.7s\tremaining: 45.9s\n",
      "482:\tlearn: 0.1877798\ttotal: 42.8s\tremaining: 45.8s\n",
      "483:\tlearn: 0.1874838\ttotal: 42.9s\tremaining: 45.7s\n",
      "484:\tlearn: 0.1870637\ttotal: 43s\tremaining: 45.6s\n",
      "485:\tlearn: 0.1866432\ttotal: 43.1s\tremaining: 45.6s\n",
      "486:\tlearn: 0.1862453\ttotal: 43.1s\tremaining: 45.5s\n",
      "487:\tlearn: 0.1859177\ttotal: 43.2s\tremaining: 45.3s\n",
      "488:\tlearn: 0.1854658\ttotal: 43.3s\tremaining: 45.2s\n",
      "489:\tlearn: 0.1851249\ttotal: 43.3s\tremaining: 45.1s\n",
      "490:\tlearn: 0.1848924\ttotal: 43.4s\tremaining: 44.9s\n",
      "491:\tlearn: 0.1845854\ttotal: 43.4s\tremaining: 44.8s\n",
      "492:\tlearn: 0.1843497\ttotal: 43.4s\tremaining: 44.7s\n",
      "493:\tlearn: 0.1839248\ttotal: 43.5s\tremaining: 44.6s\n",
      "494:\tlearn: 0.1835758\ttotal: 43.5s\tremaining: 44.4s\n",
      "495:\tlearn: 0.1831606\ttotal: 43.6s\tremaining: 44.3s\n",
      "496:\tlearn: 0.1828425\ttotal: 43.6s\tremaining: 44.2s\n",
      "497:\tlearn: 0.1823421\ttotal: 43.7s\tremaining: 44.1s\n",
      "498:\tlearn: 0.1820007\ttotal: 43.8s\tremaining: 44s\n",
      "499:\tlearn: 0.1817083\ttotal: 43.9s\tremaining: 43.9s\n",
      "500:\tlearn: 0.1813258\ttotal: 43.9s\tremaining: 43.7s\n",
      "501:\tlearn: 0.1809052\ttotal: 44s\tremaining: 43.6s\n",
      "502:\tlearn: 0.1805441\ttotal: 44s\tremaining: 43.5s\n",
      "503:\tlearn: 0.1803171\ttotal: 44.1s\tremaining: 43.4s\n",
      "504:\tlearn: 0.1801400\ttotal: 44.1s\tremaining: 43.2s\n",
      "505:\tlearn: 0.1797360\ttotal: 44.2s\tremaining: 43.2s\n",
      "506:\tlearn: 0.1792030\ttotal: 44.3s\tremaining: 43s\n",
      "507:\tlearn: 0.1789544\ttotal: 44.3s\tremaining: 42.9s\n",
      "508:\tlearn: 0.1786600\ttotal: 44.4s\tremaining: 42.8s\n",
      "509:\tlearn: 0.1782270\ttotal: 44.5s\tremaining: 42.8s\n",
      "510:\tlearn: 0.1777298\ttotal: 44.6s\tremaining: 42.7s\n",
      "511:\tlearn: 0.1775330\ttotal: 44.7s\tremaining: 42.6s\n",
      "512:\tlearn: 0.1770166\ttotal: 44.8s\tremaining: 42.5s\n",
      "513:\tlearn: 0.1766225\ttotal: 44.9s\tremaining: 42.4s\n",
      "514:\tlearn: 0.1763634\ttotal: 45s\tremaining: 42.3s\n",
      "515:\tlearn: 0.1759904\ttotal: 45.1s\tremaining: 42.3s\n",
      "516:\tlearn: 0.1754808\ttotal: 45.2s\tremaining: 42.2s\n",
      "517:\tlearn: 0.1751269\ttotal: 45.3s\tremaining: 42.1s\n",
      "518:\tlearn: 0.1749203\ttotal: 45.3s\tremaining: 42s\n",
      "519:\tlearn: 0.1745737\ttotal: 45.4s\tremaining: 41.9s\n",
      "520:\tlearn: 0.1741474\ttotal: 45.5s\tremaining: 41.9s\n",
      "521:\tlearn: 0.1738632\ttotal: 45.6s\tremaining: 41.8s\n",
      "522:\tlearn: 0.1735524\ttotal: 45.7s\tremaining: 41.7s\n",
      "523:\tlearn: 0.1732719\ttotal: 45.8s\tremaining: 41.6s\n",
      "524:\tlearn: 0.1728658\ttotal: 45.9s\tremaining: 41.5s\n",
      "525:\tlearn: 0.1724151\ttotal: 46s\tremaining: 41.5s\n",
      "526:\tlearn: 0.1721195\ttotal: 46.1s\tremaining: 41.4s\n",
      "527:\tlearn: 0.1718467\ttotal: 46.2s\tremaining: 41.3s\n",
      "528:\tlearn: 0.1713967\ttotal: 46.3s\tremaining: 41.2s\n",
      "529:\tlearn: 0.1711044\ttotal: 46.4s\tremaining: 41.1s\n",
      "530:\tlearn: 0.1708175\ttotal: 46.5s\tremaining: 41.1s\n",
      "531:\tlearn: 0.1703816\ttotal: 46.6s\tremaining: 41s\n",
      "532:\tlearn: 0.1700624\ttotal: 46.7s\tremaining: 40.9s\n",
      "533:\tlearn: 0.1697278\ttotal: 46.8s\tremaining: 40.8s\n",
      "534:\tlearn: 0.1694261\ttotal: 46.9s\tremaining: 40.7s\n",
      "535:\tlearn: 0.1691173\ttotal: 46.9s\tremaining: 40.6s\n",
      "536:\tlearn: 0.1689085\ttotal: 47s\tremaining: 40.6s\n",
      "537:\tlearn: 0.1686753\ttotal: 47.1s\tremaining: 40.5s\n",
      "538:\tlearn: 0.1683783\ttotal: 47.2s\tremaining: 40.4s\n",
      "539:\tlearn: 0.1678709\ttotal: 47.3s\tremaining: 40.3s\n",
      "540:\tlearn: 0.1674960\ttotal: 47.4s\tremaining: 40.2s\n",
      "541:\tlearn: 0.1672486\ttotal: 47.5s\tremaining: 40.2s\n",
      "542:\tlearn: 0.1670504\ttotal: 47.6s\tremaining: 40.1s\n",
      "543:\tlearn: 0.1668863\ttotal: 47.7s\tremaining: 40s\n",
      "544:\tlearn: 0.1666214\ttotal: 47.8s\tremaining: 39.9s\n",
      "545:\tlearn: 0.1662850\ttotal: 47.9s\tremaining: 39.8s\n",
      "546:\tlearn: 0.1657706\ttotal: 48s\tremaining: 39.7s\n",
      "547:\tlearn: 0.1654531\ttotal: 48.1s\tremaining: 39.7s\n",
      "548:\tlearn: 0.1653049\ttotal: 48.2s\tremaining: 39.6s\n",
      "549:\tlearn: 0.1649571\ttotal: 48.3s\tremaining: 39.5s\n",
      "550:\tlearn: 0.1645286\ttotal: 48.4s\tremaining: 39.4s\n",
      "551:\tlearn: 0.1641850\ttotal: 48.4s\tremaining: 39.3s\n",
      "552:\tlearn: 0.1639556\ttotal: 48.5s\tremaining: 39.2s\n",
      "553:\tlearn: 0.1637788\ttotal: 48.6s\tremaining: 39.1s\n",
      "554:\tlearn: 0.1635216\ttotal: 48.7s\tremaining: 39s\n",
      "555:\tlearn: 0.1631718\ttotal: 48.8s\tremaining: 39s\n",
      "556:\tlearn: 0.1629742\ttotal: 48.9s\tremaining: 38.9s\n",
      "557:\tlearn: 0.1627376\ttotal: 49s\tremaining: 38.8s\n",
      "558:\tlearn: 0.1625028\ttotal: 49.1s\tremaining: 38.7s\n",
      "559:\tlearn: 0.1621555\ttotal: 49.2s\tremaining: 38.6s\n",
      "560:\tlearn: 0.1619483\ttotal: 49.3s\tremaining: 38.6s\n",
      "561:\tlearn: 0.1617286\ttotal: 49.4s\tremaining: 38.5s\n",
      "562:\tlearn: 0.1613682\ttotal: 49.5s\tremaining: 38.4s\n",
      "563:\tlearn: 0.1612205\ttotal: 49.5s\tremaining: 38.3s\n",
      "564:\tlearn: 0.1609361\ttotal: 49.6s\tremaining: 38.2s\n",
      "565:\tlearn: 0.1607401\ttotal: 49.7s\tremaining: 38.1s\n",
      "566:\tlearn: 0.1605870\ttotal: 49.8s\tremaining: 38.1s\n",
      "567:\tlearn: 0.1604307\ttotal: 49.9s\tremaining: 38s\n",
      "568:\tlearn: 0.1601024\ttotal: 50s\tremaining: 37.9s\n",
      "569:\tlearn: 0.1598375\ttotal: 50.1s\tremaining: 37.8s\n",
      "570:\tlearn: 0.1596015\ttotal: 50.2s\tremaining: 37.7s\n",
      "571:\tlearn: 0.1592270\ttotal: 50.3s\tremaining: 37.6s\n",
      "572:\tlearn: 0.1591445\ttotal: 50.4s\tremaining: 37.5s\n",
      "573:\tlearn: 0.1588771\ttotal: 50.5s\tremaining: 37.4s\n",
      "574:\tlearn: 0.1586264\ttotal: 50.5s\tremaining: 37.4s\n",
      "575:\tlearn: 0.1583464\ttotal: 50.6s\tremaining: 37.3s\n",
      "576:\tlearn: 0.1580106\ttotal: 50.7s\tremaining: 37.2s\n",
      "577:\tlearn: 0.1577624\ttotal: 50.8s\tremaining: 37.1s\n",
      "578:\tlearn: 0.1574435\ttotal: 50.9s\tremaining: 37s\n",
      "579:\tlearn: 0.1572042\ttotal: 51s\tremaining: 36.9s\n",
      "580:\tlearn: 0.1569016\ttotal: 51.1s\tremaining: 36.9s\n",
      "581:\tlearn: 0.1566607\ttotal: 51.2s\tremaining: 36.8s\n",
      "582:\tlearn: 0.1564958\ttotal: 51.3s\tremaining: 36.7s\n",
      "583:\tlearn: 0.1561736\ttotal: 51.4s\tremaining: 36.6s\n",
      "584:\tlearn: 0.1559970\ttotal: 51.5s\tremaining: 36.5s\n",
      "585:\tlearn: 0.1556542\ttotal: 51.5s\tremaining: 36.4s\n",
      "586:\tlearn: 0.1553368\ttotal: 51.6s\tremaining: 36.3s\n",
      "587:\tlearn: 0.1550528\ttotal: 51.7s\tremaining: 36.2s\n",
      "588:\tlearn: 0.1546747\ttotal: 51.8s\tremaining: 36.1s\n",
      "589:\tlearn: 0.1544766\ttotal: 51.9s\tremaining: 36s\n",
      "590:\tlearn: 0.1541617\ttotal: 52s\tremaining: 36s\n",
      "591:\tlearn: 0.1537997\ttotal: 52s\tremaining: 35.9s\n",
      "592:\tlearn: 0.1534708\ttotal: 52.1s\tremaining: 35.8s\n",
      "593:\tlearn: 0.1532150\ttotal: 52.2s\tremaining: 35.7s\n",
      "594:\tlearn: 0.1529391\ttotal: 52.3s\tremaining: 35.6s\n",
      "595:\tlearn: 0.1528159\ttotal: 52.4s\tremaining: 35.5s\n",
      "596:\tlearn: 0.1525502\ttotal: 52.5s\tremaining: 35.4s\n",
      "597:\tlearn: 0.1522920\ttotal: 52.6s\tremaining: 35.4s\n",
      "598:\tlearn: 0.1520439\ttotal: 52.7s\tremaining: 35.3s\n",
      "599:\tlearn: 0.1517946\ttotal: 52.8s\tremaining: 35.2s\n",
      "600:\tlearn: 0.1515320\ttotal: 52.9s\tremaining: 35.1s\n",
      "601:\tlearn: 0.1511680\ttotal: 53s\tremaining: 35s\n",
      "602:\tlearn: 0.1509245\ttotal: 53.1s\tremaining: 34.9s\n",
      "603:\tlearn: 0.1505554\ttotal: 53.2s\tremaining: 34.9s\n",
      "604:\tlearn: 0.1502480\ttotal: 53.2s\tremaining: 34.8s\n",
      "605:\tlearn: 0.1499945\ttotal: 53.3s\tremaining: 34.7s\n",
      "606:\tlearn: 0.1498457\ttotal: 53.4s\tremaining: 34.6s\n",
      "607:\tlearn: 0.1495704\ttotal: 53.5s\tremaining: 34.5s\n",
      "608:\tlearn: 0.1492554\ttotal: 53.6s\tremaining: 34.4s\n",
      "609:\tlearn: 0.1490700\ttotal: 53.7s\tremaining: 34.3s\n",
      "610:\tlearn: 0.1487901\ttotal: 53.8s\tremaining: 34.3s\n",
      "611:\tlearn: 0.1485800\ttotal: 53.9s\tremaining: 34.2s\n",
      "612:\tlearn: 0.1484350\ttotal: 54s\tremaining: 34.1s\n",
      "613:\tlearn: 0.1481635\ttotal: 54.1s\tremaining: 34s\n",
      "614:\tlearn: 0.1477660\ttotal: 54.2s\tremaining: 33.9s\n",
      "615:\tlearn: 0.1474200\ttotal: 54.3s\tremaining: 33.8s\n",
      "616:\tlearn: 0.1472203\ttotal: 54.4s\tremaining: 33.7s\n",
      "617:\tlearn: 0.1470113\ttotal: 54.5s\tremaining: 33.7s\n",
      "618:\tlearn: 0.1466893\ttotal: 54.5s\tremaining: 33.6s\n",
      "619:\tlearn: 0.1463351\ttotal: 54.6s\tremaining: 33.5s\n",
      "620:\tlearn: 0.1461222\ttotal: 54.7s\tremaining: 33.4s\n",
      "621:\tlearn: 0.1457737\ttotal: 54.8s\tremaining: 33.3s\n",
      "622:\tlearn: 0.1455199\ttotal: 54.9s\tremaining: 33.2s\n",
      "623:\tlearn: 0.1453324\ttotal: 55s\tremaining: 33.1s\n",
      "624:\tlearn: 0.1451297\ttotal: 55.1s\tremaining: 33.1s\n",
      "625:\tlearn: 0.1449507\ttotal: 55.2s\tremaining: 33s\n",
      "626:\tlearn: 0.1447523\ttotal: 55.3s\tremaining: 32.9s\n",
      "627:\tlearn: 0.1445689\ttotal: 55.4s\tremaining: 32.8s\n",
      "628:\tlearn: 0.1442127\ttotal: 55.5s\tremaining: 32.7s\n",
      "629:\tlearn: 0.1438602\ttotal: 55.6s\tremaining: 32.6s\n",
      "630:\tlearn: 0.1435092\ttotal: 55.7s\tremaining: 32.5s\n",
      "631:\tlearn: 0.1433621\ttotal: 55.8s\tremaining: 32.5s\n",
      "632:\tlearn: 0.1431737\ttotal: 55.9s\tremaining: 32.4s\n",
      "633:\tlearn: 0.1428636\ttotal: 55.9s\tremaining: 32.3s\n",
      "634:\tlearn: 0.1426076\ttotal: 56s\tremaining: 32.2s\n",
      "635:\tlearn: 0.1422690\ttotal: 56.1s\tremaining: 32.1s\n",
      "636:\tlearn: 0.1420032\ttotal: 56.2s\tremaining: 32s\n",
      "637:\tlearn: 0.1417594\ttotal: 56.3s\tremaining: 32s\n",
      "638:\tlearn: 0.1415246\ttotal: 56.4s\tremaining: 31.9s\n"
     ]
    },
    {
     "name": "stdout",
     "output_type": "stream",
     "text": [
      "639:\tlearn: 0.1412729\ttotal: 56.5s\tremaining: 31.8s\n",
      "640:\tlearn: 0.1411146\ttotal: 56.6s\tremaining: 31.7s\n",
      "641:\tlearn: 0.1409020\ttotal: 56.7s\tremaining: 31.6s\n",
      "642:\tlearn: 0.1406710\ttotal: 56.8s\tremaining: 31.5s\n",
      "643:\tlearn: 0.1404656\ttotal: 56.9s\tremaining: 31.4s\n",
      "644:\tlearn: 0.1402378\ttotal: 57s\tremaining: 31.4s\n",
      "645:\tlearn: 0.1400464\ttotal: 57.1s\tremaining: 31.3s\n",
      "646:\tlearn: 0.1398964\ttotal: 57.2s\tremaining: 31.2s\n",
      "647:\tlearn: 0.1397267\ttotal: 57.3s\tremaining: 31.1s\n",
      "648:\tlearn: 0.1393871\ttotal: 57.3s\tremaining: 31s\n",
      "649:\tlearn: 0.1392244\ttotal: 57.4s\tremaining: 30.9s\n",
      "650:\tlearn: 0.1390785\ttotal: 57.5s\tremaining: 30.8s\n",
      "651:\tlearn: 0.1388562\ttotal: 57.6s\tremaining: 30.8s\n",
      "652:\tlearn: 0.1386118\ttotal: 57.7s\tremaining: 30.7s\n",
      "653:\tlearn: 0.1383421\ttotal: 57.8s\tremaining: 30.6s\n",
      "654:\tlearn: 0.1381401\ttotal: 57.9s\tremaining: 30.5s\n",
      "655:\tlearn: 0.1378592\ttotal: 58s\tremaining: 30.4s\n",
      "656:\tlearn: 0.1376649\ttotal: 58.1s\tremaining: 30.3s\n",
      "657:\tlearn: 0.1372949\ttotal: 58.2s\tremaining: 30.2s\n",
      "658:\tlearn: 0.1370859\ttotal: 58.3s\tremaining: 30.2s\n",
      "659:\tlearn: 0.1366886\ttotal: 58.4s\tremaining: 30.1s\n",
      "660:\tlearn: 0.1364182\ttotal: 58.5s\tremaining: 30s\n",
      "661:\tlearn: 0.1360969\ttotal: 58.6s\tremaining: 29.9s\n",
      "662:\tlearn: 0.1358950\ttotal: 58.7s\tremaining: 29.8s\n",
      "663:\tlearn: 0.1356146\ttotal: 58.8s\tremaining: 29.7s\n",
      "664:\tlearn: 0.1355104\ttotal: 58.8s\tremaining: 29.6s\n",
      "665:\tlearn: 0.1354390\ttotal: 58.9s\tremaining: 29.5s\n",
      "666:\tlearn: 0.1352816\ttotal: 59s\tremaining: 29.4s\n",
      "667:\tlearn: 0.1350895\ttotal: 59s\tremaining: 29.3s\n",
      "668:\tlearn: 0.1348696\ttotal: 59.1s\tremaining: 29.2s\n",
      "669:\tlearn: 0.1347247\ttotal: 59.1s\tremaining: 29.1s\n",
      "670:\tlearn: 0.1345698\ttotal: 59.2s\tremaining: 29s\n",
      "671:\tlearn: 0.1343753\ttotal: 59.2s\tremaining: 28.9s\n",
      "672:\tlearn: 0.1341058\ttotal: 59.3s\tremaining: 28.8s\n",
      "673:\tlearn: 0.1339562\ttotal: 59.3s\tremaining: 28.7s\n",
      "674:\tlearn: 0.1337600\ttotal: 59.4s\tremaining: 28.6s\n",
      "675:\tlearn: 0.1336388\ttotal: 59.4s\tremaining: 28.5s\n",
      "676:\tlearn: 0.1334596\ttotal: 59.5s\tremaining: 28.4s\n",
      "677:\tlearn: 0.1331243\ttotal: 59.6s\tremaining: 28.3s\n",
      "678:\tlearn: 0.1327921\ttotal: 59.6s\tremaining: 28.2s\n",
      "679:\tlearn: 0.1325730\ttotal: 59.7s\tremaining: 28.1s\n",
      "680:\tlearn: 0.1323320\ttotal: 59.7s\tremaining: 28s\n",
      "681:\tlearn: 0.1322363\ttotal: 59.8s\tremaining: 27.9s\n",
      "682:\tlearn: 0.1320666\ttotal: 59.8s\tremaining: 27.8s\n",
      "683:\tlearn: 0.1318801\ttotal: 59.9s\tremaining: 27.7s\n",
      "684:\tlearn: 0.1315524\ttotal: 60s\tremaining: 27.6s\n",
      "685:\tlearn: 0.1312987\ttotal: 1m\tremaining: 27.5s\n",
      "686:\tlearn: 0.1310970\ttotal: 1m\tremaining: 27.4s\n",
      "687:\tlearn: 0.1308765\ttotal: 1m\tremaining: 27.3s\n",
      "688:\tlearn: 0.1306616\ttotal: 1m\tremaining: 27.2s\n",
      "689:\tlearn: 0.1305294\ttotal: 1m\tremaining: 27.1s\n",
      "690:\tlearn: 0.1303557\ttotal: 1m\tremaining: 27.1s\n",
      "691:\tlearn: 0.1301396\ttotal: 1m\tremaining: 27s\n",
      "692:\tlearn: 0.1299449\ttotal: 1m\tremaining: 26.9s\n",
      "693:\tlearn: 0.1297926\ttotal: 1m\tremaining: 26.8s\n",
      "694:\tlearn: 0.1295811\ttotal: 1m\tremaining: 26.7s\n",
      "695:\tlearn: 0.1293728\ttotal: 1m\tremaining: 26.6s\n",
      "696:\tlearn: 0.1291995\ttotal: 1m 1s\tremaining: 26.5s\n",
      "697:\tlearn: 0.1291138\ttotal: 1m 1s\tremaining: 26.5s\n",
      "698:\tlearn: 0.1288527\ttotal: 1m 1s\tremaining: 26.4s\n",
      "699:\tlearn: 0.1287634\ttotal: 1m 1s\tremaining: 26.3s\n",
      "700:\tlearn: 0.1285281\ttotal: 1m 1s\tremaining: 26.2s\n",
      "701:\tlearn: 0.1284094\ttotal: 1m 1s\tremaining: 26.1s\n",
      "702:\tlearn: 0.1281625\ttotal: 1m 1s\tremaining: 26s\n",
      "703:\tlearn: 0.1278985\ttotal: 1m 1s\tremaining: 25.9s\n",
      "704:\tlearn: 0.1277385\ttotal: 1m 1s\tremaining: 25.9s\n",
      "705:\tlearn: 0.1275339\ttotal: 1m 1s\tremaining: 25.8s\n",
      "706:\tlearn: 0.1273560\ttotal: 1m 1s\tremaining: 25.7s\n",
      "707:\tlearn: 0.1272502\ttotal: 1m 2s\tremaining: 25.6s\n",
      "708:\tlearn: 0.1270115\ttotal: 1m 2s\tremaining: 25.5s\n",
      "709:\tlearn: 0.1267666\ttotal: 1m 2s\tremaining: 25.4s\n",
      "710:\tlearn: 0.1265942\ttotal: 1m 2s\tremaining: 25.3s\n",
      "711:\tlearn: 0.1265083\ttotal: 1m 2s\tremaining: 25.3s\n",
      "712:\tlearn: 0.1261984\ttotal: 1m 2s\tremaining: 25.2s\n",
      "713:\tlearn: 0.1259831\ttotal: 1m 2s\tremaining: 25.1s\n",
      "714:\tlearn: 0.1258625\ttotal: 1m 2s\tremaining: 25s\n",
      "715:\tlearn: 0.1256290\ttotal: 1m 2s\tremaining: 24.9s\n",
      "716:\tlearn: 0.1254533\ttotal: 1m 2s\tremaining: 24.8s\n",
      "717:\tlearn: 0.1253034\ttotal: 1m 2s\tremaining: 24.7s\n",
      "718:\tlearn: 0.1251210\ttotal: 1m 3s\tremaining: 24.7s\n",
      "719:\tlearn: 0.1249459\ttotal: 1m 3s\tremaining: 24.6s\n",
      "720:\tlearn: 0.1247076\ttotal: 1m 3s\tremaining: 24.5s\n",
      "721:\tlearn: 0.1244978\ttotal: 1m 3s\tremaining: 24.4s\n",
      "722:\tlearn: 0.1241589\ttotal: 1m 3s\tremaining: 24.3s\n",
      "723:\tlearn: 0.1240013\ttotal: 1m 3s\tremaining: 24.2s\n",
      "724:\tlearn: 0.1237303\ttotal: 1m 3s\tremaining: 24.1s\n",
      "725:\tlearn: 0.1235438\ttotal: 1m 3s\tremaining: 24.1s\n",
      "726:\tlearn: 0.1232244\ttotal: 1m 3s\tremaining: 24s\n",
      "727:\tlearn: 0.1230906\ttotal: 1m 3s\tremaining: 23.9s\n",
      "728:\tlearn: 0.1229025\ttotal: 1m 4s\tremaining: 23.8s\n",
      "729:\tlearn: 0.1228033\ttotal: 1m 4s\tremaining: 23.7s\n",
      "730:\tlearn: 0.1226870\ttotal: 1m 4s\tremaining: 23.6s\n",
      "731:\tlearn: 0.1225496\ttotal: 1m 4s\tremaining: 23.5s\n",
      "732:\tlearn: 0.1223675\ttotal: 1m 4s\tremaining: 23.4s\n",
      "733:\tlearn: 0.1222517\ttotal: 1m 4s\tremaining: 23.4s\n",
      "734:\tlearn: 0.1219677\ttotal: 1m 4s\tremaining: 23.3s\n",
      "735:\tlearn: 0.1217618\ttotal: 1m 4s\tremaining: 23.2s\n",
      "736:\tlearn: 0.1215339\ttotal: 1m 4s\tremaining: 23.1s\n",
      "737:\tlearn: 0.1213234\ttotal: 1m 4s\tremaining: 23s\n",
      "738:\tlearn: 0.1211352\ttotal: 1m 4s\tremaining: 22.9s\n",
      "739:\tlearn: 0.1210515\ttotal: 1m 5s\tremaining: 22.8s\n",
      "740:\tlearn: 0.1208682\ttotal: 1m 5s\tremaining: 22.8s\n",
      "741:\tlearn: 0.1207621\ttotal: 1m 5s\tremaining: 22.7s\n",
      "742:\tlearn: 0.1205599\ttotal: 1m 5s\tremaining: 22.6s\n",
      "743:\tlearn: 0.1204354\ttotal: 1m 5s\tremaining: 22.5s\n",
      "744:\tlearn: 0.1202091\ttotal: 1m 5s\tremaining: 22.4s\n",
      "745:\tlearn: 0.1199691\ttotal: 1m 5s\tremaining: 22.3s\n",
      "746:\tlearn: 0.1198040\ttotal: 1m 5s\tremaining: 22.2s\n",
      "747:\tlearn: 0.1196385\ttotal: 1m 5s\tremaining: 22.2s\n",
      "748:\tlearn: 0.1194903\ttotal: 1m 5s\tremaining: 22.1s\n",
      "749:\tlearn: 0.1193526\ttotal: 1m 5s\tremaining: 22s\n",
      "750:\tlearn: 0.1192372\ttotal: 1m 6s\tremaining: 21.9s\n",
      "751:\tlearn: 0.1190919\ttotal: 1m 6s\tremaining: 21.8s\n",
      "752:\tlearn: 0.1189250\ttotal: 1m 6s\tremaining: 21.7s\n",
      "753:\tlearn: 0.1187626\ttotal: 1m 6s\tremaining: 21.6s\n",
      "754:\tlearn: 0.1185873\ttotal: 1m 6s\tremaining: 21.6s\n",
      "755:\tlearn: 0.1183564\ttotal: 1m 6s\tremaining: 21.5s\n",
      "756:\tlearn: 0.1181947\ttotal: 1m 6s\tremaining: 21.4s\n",
      "757:\tlearn: 0.1181015\ttotal: 1m 6s\tremaining: 21.3s\n",
      "758:\tlearn: 0.1179326\ttotal: 1m 6s\tremaining: 21.2s\n",
      "759:\tlearn: 0.1177431\ttotal: 1m 6s\tremaining: 21.1s\n",
      "760:\tlearn: 0.1174771\ttotal: 1m 6s\tremaining: 21s\n",
      "761:\tlearn: 0.1173706\ttotal: 1m 7s\tremaining: 20.9s\n",
      "762:\tlearn: 0.1171770\ttotal: 1m 7s\tremaining: 20.9s\n",
      "763:\tlearn: 0.1169391\ttotal: 1m 7s\tremaining: 20.8s\n",
      "764:\tlearn: 0.1167754\ttotal: 1m 7s\tremaining: 20.7s\n",
      "765:\tlearn: 0.1166425\ttotal: 1m 7s\tremaining: 20.6s\n",
      "766:\tlearn: 0.1164531\ttotal: 1m 7s\tremaining: 20.5s\n",
      "767:\tlearn: 0.1163714\ttotal: 1m 7s\tremaining: 20.4s\n",
      "768:\tlearn: 0.1161969\ttotal: 1m 7s\tremaining: 20.3s\n",
      "769:\tlearn: 0.1160016\ttotal: 1m 7s\tremaining: 20.3s\n",
      "770:\tlearn: 0.1158576\ttotal: 1m 7s\tremaining: 20.2s\n",
      "771:\tlearn: 0.1156359\ttotal: 1m 8s\tremaining: 20.1s\n",
      "772:\tlearn: 0.1155294\ttotal: 1m 8s\tremaining: 20s\n",
      "773:\tlearn: 0.1154399\ttotal: 1m 8s\tremaining: 19.9s\n",
      "774:\tlearn: 0.1153334\ttotal: 1m 8s\tremaining: 19.8s\n",
      "775:\tlearn: 0.1151691\ttotal: 1m 8s\tremaining: 19.7s\n",
      "776:\tlearn: 0.1150823\ttotal: 1m 8s\tremaining: 19.6s\n",
      "777:\tlearn: 0.1149021\ttotal: 1m 8s\tremaining: 19.6s\n",
      "778:\tlearn: 0.1147472\ttotal: 1m 8s\tremaining: 19.5s\n",
      "779:\tlearn: 0.1146434\ttotal: 1m 8s\tremaining: 19.4s\n",
      "780:\tlearn: 0.1143938\ttotal: 1m 8s\tremaining: 19.3s\n",
      "781:\tlearn: 0.1141497\ttotal: 1m 8s\tremaining: 19.2s\n",
      "782:\tlearn: 0.1139518\ttotal: 1m 9s\tremaining: 19.1s\n",
      "783:\tlearn: 0.1137327\ttotal: 1m 9s\tremaining: 19s\n",
      "784:\tlearn: 0.1135895\ttotal: 1m 9s\tremaining: 19s\n",
      "785:\tlearn: 0.1134485\ttotal: 1m 9s\tremaining: 18.9s\n",
      "786:\tlearn: 0.1133254\ttotal: 1m 9s\tremaining: 18.8s\n",
      "787:\tlearn: 0.1131623\ttotal: 1m 9s\tremaining: 18.7s\n",
      "788:\tlearn: 0.1130661\ttotal: 1m 9s\tremaining: 18.6s\n",
      "789:\tlearn: 0.1128141\ttotal: 1m 9s\tremaining: 18.5s\n",
      "790:\tlearn: 0.1127017\ttotal: 1m 9s\tremaining: 18.4s\n",
      "791:\tlearn: 0.1124214\ttotal: 1m 9s\tremaining: 18.3s\n",
      "792:\tlearn: 0.1122711\ttotal: 1m 9s\tremaining: 18.3s\n",
      "793:\tlearn: 0.1121295\ttotal: 1m 10s\tremaining: 18.2s\n",
      "794:\tlearn: 0.1118965\ttotal: 1m 10s\tremaining: 18.1s\n",
      "795:\tlearn: 0.1117256\ttotal: 1m 10s\tremaining: 18s\n",
      "796:\tlearn: 0.1115780\ttotal: 1m 10s\tremaining: 17.9s\n",
      "797:\tlearn: 0.1114428\ttotal: 1m 10s\tremaining: 17.8s\n"
     ]
    },
    {
     "name": "stdout",
     "output_type": "stream",
     "text": [
      "798:\tlearn: 0.1113239\ttotal: 1m 10s\tremaining: 17.7s\n",
      "799:\tlearn: 0.1111835\ttotal: 1m 10s\tremaining: 17.7s\n",
      "800:\tlearn: 0.1109735\ttotal: 1m 10s\tremaining: 17.6s\n",
      "801:\tlearn: 0.1108472\ttotal: 1m 10s\tremaining: 17.5s\n",
      "802:\tlearn: 0.1107488\ttotal: 1m 10s\tremaining: 17.4s\n",
      "803:\tlearn: 0.1106111\ttotal: 1m 10s\tremaining: 17.3s\n",
      "804:\tlearn: 0.1104067\ttotal: 1m 11s\tremaining: 17.2s\n",
      "805:\tlearn: 0.1102703\ttotal: 1m 11s\tremaining: 17.1s\n",
      "806:\tlearn: 0.1101902\ttotal: 1m 11s\tremaining: 17s\n",
      "807:\tlearn: 0.1100055\ttotal: 1m 11s\tremaining: 17s\n",
      "808:\tlearn: 0.1098594\ttotal: 1m 11s\tremaining: 16.9s\n",
      "809:\tlearn: 0.1097437\ttotal: 1m 11s\tremaining: 16.8s\n",
      "810:\tlearn: 0.1095612\ttotal: 1m 11s\tremaining: 16.7s\n",
      "811:\tlearn: 0.1094359\ttotal: 1m 11s\tremaining: 16.6s\n",
      "812:\tlearn: 0.1092888\ttotal: 1m 11s\tremaining: 16.5s\n",
      "813:\tlearn: 0.1092204\ttotal: 1m 11s\tremaining: 16.4s\n",
      "814:\tlearn: 0.1090113\ttotal: 1m 12s\tremaining: 16.4s\n",
      "815:\tlearn: 0.1088017\ttotal: 1m 12s\tremaining: 16.3s\n",
      "816:\tlearn: 0.1086665\ttotal: 1m 12s\tremaining: 16.2s\n",
      "817:\tlearn: 0.1085338\ttotal: 1m 12s\tremaining: 16.1s\n",
      "818:\tlearn: 0.1083349\ttotal: 1m 12s\tremaining: 16s\n",
      "819:\tlearn: 0.1082248\ttotal: 1m 12s\tremaining: 15.9s\n",
      "820:\tlearn: 0.1081049\ttotal: 1m 12s\tremaining: 15.8s\n",
      "821:\tlearn: 0.1079412\ttotal: 1m 12s\tremaining: 15.7s\n",
      "822:\tlearn: 0.1077886\ttotal: 1m 12s\tremaining: 15.7s\n",
      "823:\tlearn: 0.1075765\ttotal: 1m 12s\tremaining: 15.6s\n",
      "824:\tlearn: 0.1073384\ttotal: 1m 13s\tremaining: 15.5s\n",
      "825:\tlearn: 0.1071921\ttotal: 1m 13s\tremaining: 15.4s\n",
      "826:\tlearn: 0.1070522\ttotal: 1m 13s\tremaining: 15.3s\n",
      "827:\tlearn: 0.1069594\ttotal: 1m 13s\tremaining: 15.2s\n",
      "828:\tlearn: 0.1068512\ttotal: 1m 13s\tremaining: 15.1s\n",
      "829:\tlearn: 0.1067309\ttotal: 1m 13s\tremaining: 15s\n",
      "830:\tlearn: 0.1065794\ttotal: 1m 13s\tremaining: 15s\n",
      "831:\tlearn: 0.1064576\ttotal: 1m 13s\tremaining: 14.9s\n",
      "832:\tlearn: 0.1063883\ttotal: 1m 13s\tremaining: 14.8s\n",
      "833:\tlearn: 0.1062410\ttotal: 1m 13s\tremaining: 14.7s\n",
      "834:\tlearn: 0.1059908\ttotal: 1m 13s\tremaining: 14.6s\n",
      "835:\tlearn: 0.1058373\ttotal: 1m 14s\tremaining: 14.5s\n",
      "836:\tlearn: 0.1056916\ttotal: 1m 14s\tremaining: 14.4s\n",
      "837:\tlearn: 0.1055920\ttotal: 1m 14s\tremaining: 14.3s\n",
      "838:\tlearn: 0.1055001\ttotal: 1m 14s\tremaining: 14.3s\n",
      "839:\tlearn: 0.1053526\ttotal: 1m 14s\tremaining: 14.2s\n",
      "840:\tlearn: 0.1052338\ttotal: 1m 14s\tremaining: 14.1s\n",
      "841:\tlearn: 0.1050539\ttotal: 1m 14s\tremaining: 14s\n",
      "842:\tlearn: 0.1049580\ttotal: 1m 14s\tremaining: 13.9s\n",
      "843:\tlearn: 0.1048257\ttotal: 1m 14s\tremaining: 13.8s\n",
      "844:\tlearn: 0.1045886\ttotal: 1m 14s\tremaining: 13.7s\n",
      "845:\tlearn: 0.1044108\ttotal: 1m 14s\tremaining: 13.6s\n",
      "846:\tlearn: 0.1042538\ttotal: 1m 14s\tremaining: 13.5s\n",
      "847:\tlearn: 0.1040847\ttotal: 1m 14s\tremaining: 13.4s\n",
      "848:\tlearn: 0.1039022\ttotal: 1m 14s\tremaining: 13.3s\n",
      "849:\tlearn: 0.1037937\ttotal: 1m 14s\tremaining: 13.2s\n",
      "850:\tlearn: 0.1036990\ttotal: 1m 15s\tremaining: 13.1s\n",
      "851:\tlearn: 0.1035477\ttotal: 1m 15s\tremaining: 13s\n",
      "852:\tlearn: 0.1034297\ttotal: 1m 15s\tremaining: 13s\n",
      "853:\tlearn: 0.1032818\ttotal: 1m 15s\tremaining: 12.9s\n",
      "854:\tlearn: 0.1031139\ttotal: 1m 15s\tremaining: 12.8s\n",
      "855:\tlearn: 0.1029700\ttotal: 1m 15s\tremaining: 12.7s\n",
      "856:\tlearn: 0.1028411\ttotal: 1m 15s\tremaining: 12.6s\n",
      "857:\tlearn: 0.1026886\ttotal: 1m 15s\tremaining: 12.5s\n",
      "858:\tlearn: 0.1025708\ttotal: 1m 15s\tremaining: 12.4s\n",
      "859:\tlearn: 0.1024698\ttotal: 1m 15s\tremaining: 12.3s\n",
      "860:\tlearn: 0.1022470\ttotal: 1m 15s\tremaining: 12.2s\n",
      "861:\tlearn: 0.1021689\ttotal: 1m 15s\tremaining: 12.1s\n",
      "862:\tlearn: 0.1020074\ttotal: 1m 15s\tremaining: 12s\n",
      "863:\tlearn: 0.1018011\ttotal: 1m 15s\tremaining: 12s\n",
      "864:\tlearn: 0.1016948\ttotal: 1m 16s\tremaining: 11.9s\n",
      "865:\tlearn: 0.1015548\ttotal: 1m 16s\tremaining: 11.8s\n",
      "866:\tlearn: 0.1014376\ttotal: 1m 16s\tremaining: 11.7s\n",
      "867:\tlearn: 0.1013773\ttotal: 1m 16s\tremaining: 11.6s\n",
      "868:\tlearn: 0.1012814\ttotal: 1m 16s\tremaining: 11.5s\n",
      "869:\tlearn: 0.1012329\ttotal: 1m 16s\tremaining: 11.4s\n",
      "870:\tlearn: 0.1010839\ttotal: 1m 16s\tremaining: 11.3s\n",
      "871:\tlearn: 0.1010044\ttotal: 1m 16s\tremaining: 11.3s\n",
      "872:\tlearn: 0.1008361\ttotal: 1m 16s\tremaining: 11.2s\n",
      "873:\tlearn: 0.1006527\ttotal: 1m 16s\tremaining: 11.1s\n",
      "874:\tlearn: 0.1005706\ttotal: 1m 16s\tremaining: 11s\n",
      "875:\tlearn: 0.1005038\ttotal: 1m 17s\tremaining: 10.9s\n",
      "876:\tlearn: 0.1003972\ttotal: 1m 17s\tremaining: 10.8s\n",
      "877:\tlearn: 0.1002870\ttotal: 1m 17s\tremaining: 10.7s\n",
      "878:\tlearn: 0.1001869\ttotal: 1m 17s\tremaining: 10.6s\n",
      "879:\tlearn: 0.1000446\ttotal: 1m 17s\tremaining: 10.6s\n",
      "880:\tlearn: 0.0998718\ttotal: 1m 17s\tremaining: 10.5s\n",
      "881:\tlearn: 0.0997323\ttotal: 1m 17s\tremaining: 10.4s\n",
      "882:\tlearn: 0.0996318\ttotal: 1m 17s\tremaining: 10.3s\n",
      "883:\tlearn: 0.0994976\ttotal: 1m 17s\tremaining: 10.2s\n",
      "884:\tlearn: 0.0994343\ttotal: 1m 17s\tremaining: 10.1s\n",
      "885:\tlearn: 0.0993071\ttotal: 1m 17s\tremaining: 10s\n",
      "886:\tlearn: 0.0992188\ttotal: 1m 18s\tremaining: 9.95s\n",
      "887:\tlearn: 0.0991515\ttotal: 1m 18s\tremaining: 9.86s\n",
      "888:\tlearn: 0.0990713\ttotal: 1m 18s\tremaining: 9.77s\n",
      "889:\tlearn: 0.0988779\ttotal: 1m 18s\tremaining: 9.68s\n",
      "890:\tlearn: 0.0987825\ttotal: 1m 18s\tremaining: 9.6s\n",
      "891:\tlearn: 0.0986539\ttotal: 1m 18s\tremaining: 9.51s\n",
      "892:\tlearn: 0.0985972\ttotal: 1m 18s\tremaining: 9.42s\n",
      "893:\tlearn: 0.0985092\ttotal: 1m 18s\tremaining: 9.34s\n",
      "894:\tlearn: 0.0984089\ttotal: 1m 18s\tremaining: 9.25s\n",
      "895:\tlearn: 0.0982666\ttotal: 1m 18s\tremaining: 9.16s\n",
      "896:\tlearn: 0.0981664\ttotal: 1m 19s\tremaining: 9.07s\n",
      "897:\tlearn: 0.0980691\ttotal: 1m 19s\tremaining: 8.98s\n",
      "898:\tlearn: 0.0979587\ttotal: 1m 19s\tremaining: 8.9s\n",
      "899:\tlearn: 0.0978568\ttotal: 1m 19s\tremaining: 8.81s\n",
      "900:\tlearn: 0.0977237\ttotal: 1m 19s\tremaining: 8.72s\n",
      "901:\tlearn: 0.0974794\ttotal: 1m 19s\tremaining: 8.63s\n",
      "902:\tlearn: 0.0973440\ttotal: 1m 19s\tremaining: 8.55s\n",
      "903:\tlearn: 0.0972349\ttotal: 1m 19s\tremaining: 8.46s\n",
      "904:\tlearn: 0.0970714\ttotal: 1m 19s\tremaining: 8.37s\n",
      "905:\tlearn: 0.0969437\ttotal: 1m 19s\tremaining: 8.28s\n",
      "906:\tlearn: 0.0968281\ttotal: 1m 19s\tremaining: 8.2s\n",
      "907:\tlearn: 0.0966897\ttotal: 1m 20s\tremaining: 8.11s\n",
      "908:\tlearn: 0.0965640\ttotal: 1m 20s\tremaining: 8.02s\n",
      "909:\tlearn: 0.0963729\ttotal: 1m 20s\tremaining: 7.93s\n",
      "910:\tlearn: 0.0962469\ttotal: 1m 20s\tremaining: 7.84s\n",
      "911:\tlearn: 0.0962012\ttotal: 1m 20s\tremaining: 7.76s\n",
      "912:\tlearn: 0.0959873\ttotal: 1m 20s\tremaining: 7.67s\n",
      "913:\tlearn: 0.0959107\ttotal: 1m 20s\tremaining: 7.58s\n",
      "914:\tlearn: 0.0958236\ttotal: 1m 20s\tremaining: 7.5s\n",
      "915:\tlearn: 0.0956790\ttotal: 1m 20s\tremaining: 7.41s\n",
      "916:\tlearn: 0.0955930\ttotal: 1m 20s\tremaining: 7.32s\n",
      "917:\tlearn: 0.0954544\ttotal: 1m 20s\tremaining: 7.23s\n",
      "918:\tlearn: 0.0953514\ttotal: 1m 21s\tremaining: 7.14s\n",
      "919:\tlearn: 0.0952196\ttotal: 1m 21s\tremaining: 7.06s\n",
      "920:\tlearn: 0.0951417\ttotal: 1m 21s\tremaining: 6.97s\n",
      "921:\tlearn: 0.0950173\ttotal: 1m 21s\tremaining: 6.88s\n",
      "922:\tlearn: 0.0949109\ttotal: 1m 21s\tremaining: 6.79s\n",
      "923:\tlearn: 0.0947317\ttotal: 1m 21s\tremaining: 6.7s\n",
      "924:\tlearn: 0.0945273\ttotal: 1m 21s\tremaining: 6.61s\n",
      "925:\tlearn: 0.0944491\ttotal: 1m 21s\tremaining: 6.53s\n",
      "926:\tlearn: 0.0943036\ttotal: 1m 21s\tremaining: 6.44s\n",
      "927:\tlearn: 0.0941503\ttotal: 1m 21s\tremaining: 6.35s\n",
      "928:\tlearn: 0.0940475\ttotal: 1m 21s\tremaining: 6.26s\n",
      "929:\tlearn: 0.0939510\ttotal: 1m 22s\tremaining: 6.17s\n",
      "930:\tlearn: 0.0938960\ttotal: 1m 22s\tremaining: 6.08s\n",
      "931:\tlearn: 0.0937665\ttotal: 1m 22s\tremaining: 6s\n",
      "932:\tlearn: 0.0936462\ttotal: 1m 22s\tremaining: 5.91s\n",
      "933:\tlearn: 0.0935351\ttotal: 1m 22s\tremaining: 5.82s\n",
      "934:\tlearn: 0.0934631\ttotal: 1m 22s\tremaining: 5.73s\n",
      "935:\tlearn: 0.0932945\ttotal: 1m 22s\tremaining: 5.64s\n",
      "936:\tlearn: 0.0931433\ttotal: 1m 22s\tremaining: 5.56s\n",
      "937:\tlearn: 0.0930558\ttotal: 1m 22s\tremaining: 5.47s\n",
      "938:\tlearn: 0.0929716\ttotal: 1m 22s\tremaining: 5.38s\n",
      "939:\tlearn: 0.0928763\ttotal: 1m 22s\tremaining: 5.29s\n",
      "940:\tlearn: 0.0927839\ttotal: 1m 23s\tremaining: 5.21s\n",
      "941:\tlearn: 0.0927282\ttotal: 1m 23s\tremaining: 5.12s\n",
      "942:\tlearn: 0.0925439\ttotal: 1m 23s\tremaining: 5.03s\n",
      "943:\tlearn: 0.0924597\ttotal: 1m 23s\tremaining: 4.94s\n",
      "944:\tlearn: 0.0923330\ttotal: 1m 23s\tremaining: 4.85s\n",
      "945:\tlearn: 0.0922737\ttotal: 1m 23s\tremaining: 4.76s\n",
      "946:\tlearn: 0.0922181\ttotal: 1m 23s\tremaining: 4.68s\n",
      "947:\tlearn: 0.0920805\ttotal: 1m 23s\tremaining: 4.59s\n",
      "948:\tlearn: 0.0919652\ttotal: 1m 23s\tremaining: 4.5s\n",
      "949:\tlearn: 0.0918732\ttotal: 1m 23s\tremaining: 4.41s\n",
      "950:\tlearn: 0.0917628\ttotal: 1m 23s\tremaining: 4.33s\n",
      "951:\tlearn: 0.0917041\ttotal: 1m 24s\tremaining: 4.24s\n",
      "952:\tlearn: 0.0916753\ttotal: 1m 24s\tremaining: 4.15s\n",
      "953:\tlearn: 0.0915848\ttotal: 1m 24s\tremaining: 4.06s\n"
     ]
    },
    {
     "name": "stdout",
     "output_type": "stream",
     "text": [
      "954:\tlearn: 0.0915024\ttotal: 1m 24s\tremaining: 3.97s\n",
      "955:\tlearn: 0.0914697\ttotal: 1m 24s\tremaining: 3.88s\n",
      "956:\tlearn: 0.0912682\ttotal: 1m 24s\tremaining: 3.8s\n",
      "957:\tlearn: 0.0911501\ttotal: 1m 24s\tremaining: 3.71s\n",
      "958:\tlearn: 0.0911094\ttotal: 1m 24s\tremaining: 3.62s\n",
      "959:\tlearn: 0.0909931\ttotal: 1m 24s\tremaining: 3.53s\n",
      "960:\tlearn: 0.0908592\ttotal: 1m 24s\tremaining: 3.44s\n",
      "961:\tlearn: 0.0907420\ttotal: 1m 24s\tremaining: 3.36s\n",
      "962:\tlearn: 0.0906336\ttotal: 1m 25s\tremaining: 3.27s\n",
      "963:\tlearn: 0.0905466\ttotal: 1m 25s\tremaining: 3.18s\n",
      "964:\tlearn: 0.0904071\ttotal: 1m 25s\tremaining: 3.09s\n",
      "965:\tlearn: 0.0903348\ttotal: 1m 25s\tremaining: 3s\n",
      "966:\tlearn: 0.0902453\ttotal: 1m 25s\tremaining: 2.92s\n",
      "967:\tlearn: 0.0901782\ttotal: 1m 25s\tremaining: 2.83s\n",
      "968:\tlearn: 0.0900939\ttotal: 1m 25s\tremaining: 2.74s\n",
      "969:\tlearn: 0.0900249\ttotal: 1m 25s\tremaining: 2.65s\n",
      "970:\tlearn: 0.0899274\ttotal: 1m 25s\tremaining: 2.56s\n",
      "971:\tlearn: 0.0898216\ttotal: 1m 25s\tremaining: 2.48s\n",
      "972:\tlearn: 0.0896655\ttotal: 1m 26s\tremaining: 2.39s\n",
      "973:\tlearn: 0.0895945\ttotal: 1m 26s\tremaining: 2.3s\n",
      "974:\tlearn: 0.0894572\ttotal: 1m 26s\tremaining: 2.21s\n",
      "975:\tlearn: 0.0893488\ttotal: 1m 26s\tremaining: 2.12s\n",
      "976:\tlearn: 0.0893145\ttotal: 1m 26s\tremaining: 2.03s\n",
      "977:\tlearn: 0.0892681\ttotal: 1m 26s\tremaining: 1.95s\n",
      "978:\tlearn: 0.0891618\ttotal: 1m 26s\tremaining: 1.86s\n",
      "979:\tlearn: 0.0890374\ttotal: 1m 26s\tremaining: 1.77s\n",
      "980:\tlearn: 0.0888830\ttotal: 1m 26s\tremaining: 1.68s\n",
      "981:\tlearn: 0.0887340\ttotal: 1m 26s\tremaining: 1.59s\n",
      "982:\tlearn: 0.0886365\ttotal: 1m 26s\tremaining: 1.5s\n",
      "983:\tlearn: 0.0884715\ttotal: 1m 27s\tremaining: 1.42s\n",
      "984:\tlearn: 0.0884131\ttotal: 1m 27s\tremaining: 1.33s\n",
      "985:\tlearn: 0.0883099\ttotal: 1m 27s\tremaining: 1.24s\n",
      "986:\tlearn: 0.0881817\ttotal: 1m 27s\tremaining: 1.15s\n",
      "987:\tlearn: 0.0880464\ttotal: 1m 27s\tremaining: 1.06s\n",
      "988:\tlearn: 0.0879242\ttotal: 1m 27s\tremaining: 973ms\n",
      "989:\tlearn: 0.0878524\ttotal: 1m 27s\tremaining: 885ms\n",
      "990:\tlearn: 0.0876885\ttotal: 1m 27s\tremaining: 797ms\n",
      "991:\tlearn: 0.0876046\ttotal: 1m 27s\tremaining: 708ms\n",
      "992:\tlearn: 0.0875158\ttotal: 1m 27s\tremaining: 620ms\n",
      "993:\tlearn: 0.0874146\ttotal: 1m 27s\tremaining: 531ms\n",
      "994:\tlearn: 0.0873498\ttotal: 1m 28s\tremaining: 443ms\n",
      "995:\tlearn: 0.0872874\ttotal: 1m 28s\tremaining: 354ms\n",
      "996:\tlearn: 0.0872147\ttotal: 1m 28s\tremaining: 266ms\n",
      "997:\tlearn: 0.0870823\ttotal: 1m 28s\tremaining: 177ms\n",
      "998:\tlearn: 0.0869579\ttotal: 1m 28s\tremaining: 88.6ms\n",
      "999:\tlearn: 0.0868362\ttotal: 1m 28s\tremaining: 0us\n",
      "Accuracy of CGB classifier on training set: 1.00\n",
      "Accuracy of CGB classifier on test set: 0.84\n"
     ]
    }
   ],
   "source": [
    "from catboost import CatBoostClassifier\n",
    "from sklearn.datasets import make_classification\n",
    "\n",
    "CGB = CatBoostClassifier()\n",
    "CGB.fit(X_train, y_train)\n",
    "print('Accuracy of CGB classifier on training set: {:.2f}'\n",
    "     .format(CGB.score(X_train, y_train)))\n",
    "print('Accuracy of CGB classifier on test set: {:.2f}'\n",
    "     .format(CGB.score(X_test, y_test)))"
   ]
  },
  {
   "cell_type": "markdown",
   "metadata": {
    "colab_type": "text",
    "id": "wYz5oAF2Tzwo"
   },
   "source": [
    "Confusion Matrix of training set"
   ]
  },
  {
   "cell_type": "code",
   "execution_count": 76,
   "metadata": {
    "colab": {},
    "colab_type": "code",
    "id": "O3x-THn8Tzwp",
    "outputId": "b47ce891-d678-46ac-e9d5-286319906f28"
   },
   "outputs": [
    {
     "name": "stdout",
     "output_type": "stream",
     "text": [
      "[[106   0   0   0]\n",
      " [  0  66   0   0]\n",
      " [  0   0  84   0]\n",
      " [  0   0   0  19]]\n"
     ]
    }
   ],
   "source": [
    "y_pred_train = CGB.predict(X_train)\n",
    "from sklearn.metrics import confusion_matrix\n",
    "confusion_matrix = confusion_matrix(y_train, y_pred_train)\n",
    "print(confusion_matrix)"
   ]
  },
  {
   "cell_type": "code",
   "execution_count": 77,
   "metadata": {
    "colab": {},
    "colab_type": "code",
    "id": "857nslAZTzwu",
    "outputId": "dbcd82e6-214f-48c2-d463-5ee462afbd99"
   },
   "outputs": [
    {
     "name": "stdout",
     "output_type": "stream",
     "text": [
      "              precision    recall  f1-score   support\n",
      "\n",
      "           1       1.00      1.00      1.00       106\n",
      "           2       1.00      1.00      1.00        66\n",
      "           3       1.00      1.00      1.00        84\n",
      "           4       1.00      1.00      1.00        19\n",
      "\n",
      "    accuracy                           1.00       275\n",
      "   macro avg       1.00      1.00      1.00       275\n",
      "weighted avg       1.00      1.00      1.00       275\n",
      "\n"
     ]
    }
   ],
   "source": [
    "from sklearn.metrics import classification_report\n",
    "print(classification_report(y_train, y_pred_train))"
   ]
  },
  {
   "cell_type": "markdown",
   "metadata": {
    "colab_type": "text",
    "id": "WyB-Sm23Tzwx"
   },
   "source": [
    "Confusion Matrix of test set\n"
   ]
  },
  {
   "cell_type": "code",
   "execution_count": 78,
   "metadata": {
    "colab": {},
    "colab_type": "code",
    "id": "wOjf4P7MTzwz",
    "outputId": "0c30ead2-c5fb-4237-cbfd-e7d582fdeee5"
   },
   "outputs": [
    {
     "name": "stdout",
     "output_type": "stream",
     "text": [
      "[[40  5  0  1]\n",
      " [ 5 21  3  1]\n",
      " [ 2  2 34  0]\n",
      " [ 0  0  0  4]]\n"
     ]
    }
   ],
   "source": [
    "y_pred = CGB.predict(X_test)\n",
    "from sklearn.metrics import confusion_matrix\n",
    "confusion_matrix = confusion_matrix(y_test, y_pred)\n",
    "print(confusion_matrix)"
   ]
  },
  {
   "cell_type": "code",
   "execution_count": 79,
   "metadata": {
    "colab": {},
    "colab_type": "code",
    "id": "3QzbdGstTzw1",
    "outputId": "645c2b0c-df62-4900-84e8-90911491705b"
   },
   "outputs": [
    {
     "name": "stdout",
     "output_type": "stream",
     "text": [
      "              precision    recall  f1-score   support\n",
      "\n",
      "           1       0.85      0.87      0.86        46\n",
      "           2       0.75      0.70      0.72        30\n",
      "           3       0.92      0.89      0.91        38\n",
      "           4       0.67      1.00      0.80         4\n",
      "\n",
      "    accuracy                           0.84       118\n",
      "   macro avg       0.80      0.87      0.82       118\n",
      "weighted avg       0.84      0.84      0.84       118\n",
      "\n"
     ]
    }
   ],
   "source": [
    "from sklearn.metrics import classification_report\n",
    "print(classification_report(y_test, y_pred))"
   ]
  },
  {
   "cell_type": "markdown",
   "metadata": {
    "colab_type": "text",
    "id": "PrnneS0uTzw4"
   },
   "source": [
    "## From the models, Random Forest is the one having highest accuracy"
   ]
  }
 ],
 "metadata": {
  "colab": {
   "name": "WallDataAnalysis.ipynb",
   "provenance": [],
   "version": "0.3.2"
  },
  "kernelspec": {
   "display_name": "Python 3 (ipykernel)",
   "language": "python",
   "name": "python3"
  },
  "language_info": {
   "codemirror_mode": {
    "name": "ipython",
    "version": 3
   },
   "file_extension": ".py",
   "mimetype": "text/x-python",
   "name": "python",
   "nbconvert_exporter": "python",
   "pygments_lexer": "ipython3",
   "version": "3.8.0"
  }
 },
 "nbformat": 4,
 "nbformat_minor": 1
}
